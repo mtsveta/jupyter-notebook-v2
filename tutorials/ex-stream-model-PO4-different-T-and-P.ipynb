{
 "cells": [
  {
   "cell_type": "code",
   "execution_count": null,
   "id": "521c10db",
   "metadata": {},
   "outputs": [],
   "source": [
    "from reaktoro import *\n",
    "import numpy as np\n",
    "import os"
   ]
  },
  {
   "cell_type": "code",
   "execution_count": null,
   "id": "4688c28b",
   "metadata": {},
   "outputs": [],
   "source": [
    "results_folder = 'results-stream-model-PO4'\n",
    "os.system('mkdir -p ' + results_folder)"
   ]
  },
  {
   "cell_type": "code",
   "execution_count": null,
   "id": "572c5fd2",
   "metadata": {},
   "outputs": [],
   "source": [
    "db = PhreeqcDatabase.fromFile('databases/phreeqc-extended.dat') # if running from tutorials folder"
   ]
  },
  {
   "cell_type": "code",
   "execution_count": null,
   "id": "0e99ec54",
   "metadata": {},
   "outputs": [],
   "source": [
    "solution = AqueousPhase(speciate(\"H O C Na Cl Ca P\"))\n",
    "solution.setActivityModel(chain(\n",
    "    ActivityModelHKF(),\n",
    "    ActivityModelDrummond(\"CO2\")\n",
    "))"
   ]
  },
  {
   "cell_type": "code",
   "execution_count": null,
   "id": "8d76eabe",
   "metadata": {},
   "outputs": [],
   "source": [
    "minerals = MineralPhases(\"Fluorapatite Hydroxylapatite Calcite\")"
   ]
  },
  {
   "cell_type": "code",
   "execution_count": null,
   "id": "5320a3cc",
   "metadata": {},
   "outputs": [],
   "source": [
    "system = ChemicalSystem(db, solution, minerals)"
   ]
  },
  {
   "cell_type": "markdown",
   "id": "577e3ba7",
   "metadata": {},
   "source": [
    "print(\"Chemical system content:\\n---------------------\")\n",
    "for species in db.species():\n",
    "    print(species.name())\n",
    "input()"
   ]
  },
  {
   "cell_type": "code",
   "execution_count": null,
   "id": "782c4cca",
   "metadata": {},
   "outputs": [],
   "source": [
    "props = ChemicalProps(system)\n",
    "aprops = AqueousProps(system)"
   ]
  },
  {
   "cell_type": "code",
   "execution_count": null,
   "id": "6a2c03fe",
   "metadata": {},
   "outputs": [],
   "source": [
    "specs = EquilibriumSpecs(system)\n",
    "specs.temperature()\n",
    "specs.pressure()\n",
    "specs.fugacity(\"CO2\")"
   ]
  },
  {
   "cell_type": "code",
   "execution_count": null,
   "id": "6f6826fe",
   "metadata": {},
   "outputs": [],
   "source": [
    "solver = EquilibriumSolver(specs)"
   ]
  },
  {
   "cell_type": "code",
   "execution_count": null,
   "id": "aefeba65",
   "metadata": {},
   "outputs": [],
   "source": [
    "conditions = EquilibriumConditions(specs)"
   ]
  },
  {
   "cell_type": "markdown",
   "id": "7fd480f4",
   "metadata": {},
   "source": [
    "USE SOLUTION 1;\n",
    "EQUILIBRIUM_PHASES 1;\n",
    "CO2(g)    -4 100;\n",
    "Hydroxyapatite 0 10 dissolve_only;\n",
    "Fluorapatite 0 10 dissolve_only;\n",
    "Calcite 0 10 dissolve_only;\n",
    "REACTION_TEMPERATURE 1; 50;\n",
    "END"
   ]
  },
  {
   "cell_type": "code",
   "execution_count": null,
   "id": "a2336902",
   "metadata": {
    "lines_to_next_cell": 1
   },
   "outputs": [],
   "source": [
    "state = ChemicalState(system)\n",
    "state.set(\"H2O\", 1.0, \"kg\")\n",
    "state.set(\"CO2\", 100.0, \"mol\")\n",
    "state.set(\"Calcite\", 10.00, \"mol\")\n",
    "state.set(\"Fluorapatite\", 10.00, \"mol\")\n",
    "state.set(\"Hydroxylapatite\", 10.00, \"mol\")"
   ]
  },
  {
   "cell_type": "code",
   "execution_count": null,
   "id": "cd2c8869",
   "metadata": {
    "lines_to_next_cell": 1
   },
   "outputs": [],
   "source": [
    "def equilibrate(T, ppCO2):\n",
    "\n",
    "    conditions.temperature(T, \"celsius\")\n",
    "    conditions.pressure(1.0, \"atm\")\n",
    "    conditions.fugacity(\"CO2\", 10**(ppCO2), 'atm')\n",
    "\n",
    "    solver.solve(state, conditions)\n",
    "\n",
    "    props.update(state)\n",
    "    aprops.update(state)\n",
    "\n",
    "    pH = aprops.pH()[0]\n",
    "    mFluorapatite = state.speciesAmount(\"Fluorapatite\")[0]\n",
    "    mCalcite = state.speciesAmount(\"Calcite\")[0]\n",
    "\n",
    "    deltamHydroxylapatite = 10.0 - state.speciesAmount(\"Hydroxylapatite\")[0]\n",
    "    mNaHPO4 = state.speciesAmount(\"NaHPO4-\")[0]\n",
    "    mCaHPO4 = state.speciesAmount(\"CaHPO4\")[0]\n",
    "    mCaPO4 = state.speciesAmount(\"CaPO4-\")[0]\n",
    "    molalP = aprops.elementMolality(\"P\")[0]\n",
    "    moleP = props.elementAmountInPhase(\"P\", \"AqueousPhase\")[0]\n",
    "    #print(moleP)\n",
    "    #input()\n",
    "\n",
    "    return pH, mFluorapatite, mCalcite, \\\n",
    "           deltamHydroxylapatite, \\\n",
    "           mNaHPO4, mCaHPO4, mCaPO4, \\\n",
    "           molalP"
   ]
  },
  {
   "cell_type": "code",
   "execution_count": null,
   "id": "6a7456bf",
   "metadata": {},
   "outputs": [],
   "source": [
    "num_temperatures = 101\n",
    "num_ppressures = 2\n",
    "temperatures = np.linspace(0, 50.0, num=num_temperatures)\n",
    "co2ppressures = np.linspace(-3.5, 0.0, num=num_ppressures)"
   ]
  },
  {
   "cell_type": "code",
   "execution_count": null,
   "id": "3373316a",
   "metadata": {},
   "outputs": [],
   "source": [
    "data_size = 8\n",
    "data0  = np.zeros((num_temperatures, data_size+1))\n",
    "data35 = np.zeros((num_temperatures, data_size+1))"
   ]
  },
  {
   "cell_type": "code",
   "execution_count": null,
   "id": "ad3b49f3",
   "metadata": {
    "lines_to_next_cell": 2
   },
   "outputs": [],
   "source": [
    "for i in range(0, num_temperatures):\n",
    "    # ppCO2 = -3.5\n",
    "    result = equilibrate(temperatures[i], co2ppressures[0])\n",
    "    #print(result)\n",
    "    # input()\n",
    "    data35[i, 0] = temperatures[i]\n",
    "    data35[i, 1] = result[0]\n",
    "    data35[i, 2] = result[1]\n",
    "    data35[i, 3] = result[2]\n",
    "    data35[i, 4] = result[3]\n",
    "    data35[i, 5] = result[4]\n",
    "    data35[i, 6] = result[5]\n",
    "    data35[i, 7] = result[6]\n",
    "    data35[i, 8] = result[7]\n",
    "\n",
    "    # ppCO2 = 0.0\n",
    "    result = equilibrate(temperatures[i], co2ppressures[1])\n",
    "    data0[i, 0] = temperatures[i]\n",
    "    data0[i, 1] = result[0]\n",
    "    data0[i, 2] = result[1]\n",
    "    data0[i, 3] = result[2]\n",
    "    data0[i, 4] = result[3]\n",
    "    data0[i, 5] = result[4]\n",
    "    data0[i, 6] = result[5]\n",
    "    data0[i, 7] = result[6]\n",
    "    data0[i, 8] = result[7]"
   ]
  },
  {
   "cell_type": "code",
   "execution_count": null,
   "id": "9accd6f3",
   "metadata": {},
   "outputs": [],
   "source": [
    "np.savetxt(results_folder + '/data0.txt', data0)\n",
    "np.savetxt(results_folder + '/data35.txt', data35)"
   ]
  },
  {
   "cell_type": "code",
   "execution_count": null,
   "id": "b8c70792",
   "metadata": {},
   "outputs": [],
   "source": [
    "import matplotlib.pyplot as plt\n",
    "colors = ['C1', 'C2', 'C3', 'C4', 'C5', 'C7', 'C8', 'C9']"
   ]
  },
  {
   "cell_type": "code",
   "execution_count": null,
   "id": "e0a7e9e0",
   "metadata": {},
   "outputs": [],
   "source": [
    "plt.figure()\n",
    "plt.plot(temperatures, data0[:, 1], label=f'ppCO2 = 0', color=colors[0])\n",
    "plt.plot(temperatures, data35[:, 1], label=f'ppCO2 = -3.5', color=colors[1])"
   ]
  },
  {
   "cell_type": "code",
   "execution_count": null,
   "id": "6fa649cf",
   "metadata": {},
   "outputs": [],
   "source": [
    "plt.legend(loc=\"best\")\n",
    "plt.xlabel('ppCO2')\n",
    "plt.ylabel('pH [-]')\n",
    "plt.grid()\n",
    "plt.savefig(results_folder + '/' + 'pH-vs-ppCO2.png', bbox_inches='tight')\n",
    "plt.close()"
   ]
  },
  {
   "cell_type": "markdown",
   "id": "d36e2479",
   "metadata": {
    "lines_to_next_cell": 2
   },
   "source": [
    "plt.figure()\n",
    "plt.plot(temperatures, 1e6 * data0[:, 8], label=f'ppCO2 = 0', color=colors[0])\n",
    "plt.legend(loc=\"best\")\n",
    "plt.xlabel('ppCO2')\n",
    "plt.ylabel('Molalily of P [mmolal]')\n",
    "plt.grid()\n",
    "plt.savefig(results_folder + '/' + 'molalP-vs-ppCO2-0.png', bbox_inches='tight')\n",
    "plt.close()\n",
    "\n",
    "plt.figure()\n",
    "plt.plot(temperatures, 1e8 * data35[:, 8], label=f'ppCO2 = -3.5', color=colors[0])\n",
    "plt.legend(loc=\"best\")\n",
    "plt.xlabel('ppCO2')\n",
    "plt.ylabel('Molalily of P [mmolal]')\n",
    "plt.grid()\n",
    "plt.savefig(results_folder + '/' + 'molalP-vs-ppCO2-35.png', bbox_inches='tight')\n",
    "plt.close()"
   ]
  },
  {
   "cell_type": "code",
   "execution_count": null,
   "id": "6a7da607",
   "metadata": {},
   "outputs": [],
   "source": [
    "plt.figure()\n",
    "plt.plot(temperatures, data0[:, 8], label=f'ppCO2 = 0', color=colors[2])\n",
    "plt.plot(temperatures, data35[:, 8], label=f'ppCO2 = -3.5', color=colors[3])\n",
    "plt.yscale('log')\n",
    "plt.legend(loc=\"best\")\n",
    "plt.xlabel('ppCO2')\n",
    "plt.ylabel('Molalily of P [molal]')\n",
    "plt.grid()\n",
    "plt.savefig(results_folder + '/' + 'molalP-vs-ppCO2.png', bbox_inches='tight')\n",
    "plt.close()"
   ]
  },
  {
   "cell_type": "code",
   "execution_count": null,
   "id": "d304b3e4",
   "metadata": {
    "lines_to_next_cell": 2
   },
   "outputs": [],
   "source": [
    "plt.figure()\n",
    "plt.plot(temperatures, data0[:, 6], label=f'ppCO2 = 0', color=colors[2])\n",
    "plt.plot(temperatures, data35[:, 6], label=f'ppCO2 = -3.5', color=colors[3])\n",
    "plt.yscale('log')\n",
    "plt.legend(loc=\"best\")\n",
    "plt.xlabel('ppCO2')\n",
    "plt.ylabel('Amount of CaHPO4 [mol]')\n",
    "plt.grid()\n",
    "plt.savefig(results_folder + '/' + 'mCaHPO4-vs-ppCO2.png', bbox_inches='tight')\n",
    "plt.close()"
   ]
  },
  {
   "cell_type": "code",
   "execution_count": null,
   "id": "2436321a",
   "metadata": {},
   "outputs": [],
   "source": [
    "plt.figure()\n",
    "plt.plot(temperatures, data0[:, 4], label=f'ppCO2 = 0', color=colors[2])\n",
    "plt.plot(temperatures, data35[:, 4], label=f'ppCO2 = -3.5', color=colors[3])\n",
    "plt.yscale('log')\n",
    "plt.legend(loc=\"best\")\n",
    "plt.xlabel('ppCO2')\n",
    "plt.ylabel(r'Solubility of Hydroxylapatite [mol]')\n",
    "plt.grid()\n",
    "plt.savefig(results_folder + '/' + 'hydroxylapatite-vs-ppCO2.png', bbox_inches='tight')\n",
    "plt.close()"
   ]
  },
  {
   "cell_type": "code",
   "execution_count": null,
   "id": "cc9b073e",
   "metadata": {},
   "outputs": [],
   "source": []
  }
 ],
 "metadata": {},
 "nbformat": 4,
 "nbformat_minor": 5
}
