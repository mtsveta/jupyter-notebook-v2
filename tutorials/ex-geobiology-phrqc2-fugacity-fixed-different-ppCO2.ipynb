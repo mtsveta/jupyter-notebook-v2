{
 "cells": [
  {
   "cell_type": "code",
   "execution_count": null,
   "id": "9275cab7",
   "metadata": {},
   "outputs": [],
   "source": [
    "from reaktoro import *\n",
    "import numpy as np\n",
    "import os\n",
    "import math"
   ]
  },
  {
   "cell_type": "code",
   "execution_count": null,
   "id": "72f0b786",
   "metadata": {},
   "outputs": [],
   "source": [
    "results_folder = 'results-phrqc2-fugacity-fixed-different-ppCO2'\n",
    "os.system('mkdir -p ' + results_folder)"
   ]
  },
  {
   "cell_type": "code",
   "execution_count": null,
   "id": "a64c8d9f",
   "metadata": {},
   "outputs": [],
   "source": [
    "#db = PhreeqcDatabase.fromFile('../databases/phreeqc-toner-catling.dat') # if running from tutorials folder\n",
    "db = PhreeqcDatabase.fromFile('databases/phreeqc-toner-catling.dat') # if running from tutorials folder"
   ]
  },
  {
   "cell_type": "markdown",
   "id": "50faf7bb",
   "metadata": {},
   "source": [
    "print(\"Database content:\\n---------------------\")\n",
    "for species in db.species():\n",
    "    print(species.name())"
   ]
  },
  {
   "cell_type": "code",
   "execution_count": null,
   "id": "2d243cae",
   "metadata": {},
   "outputs": [],
   "source": [
    "solution = AqueousPhase(speciate(\"H O C Na Cl\"))\n",
    "solution.setActivityModel(chain(\n",
    "    ActivityModelHKF(),\n",
    "    ActivityModelDrummond(\"CO2\")\n",
    "))"
   ]
  },
  {
   "cell_type": "code",
   "execution_count": null,
   "id": "e95d9482",
   "metadata": {
    "lines_to_next_cell": 2
   },
   "outputs": [],
   "source": [
    "#minerals = MineralPhases(\"Natron Nahcolite Trona Na2CO3:H2O Na2CO3:7H2O\")\n",
    "#minerals = MineralPhases(\"Natron Nahcolite Trona Na2CO3:H2O Na2CO3:7H2O Halite\")\n",
    "#minerals = MineralPhases(\"Natron Nahcolite Trona Na2CO3:H2O Na2CO3:7H2O Halite Na2(HPO4):12H2O\")\n",
    "minerals = MineralPhases(\"Natron Nahcolite Trona Na2CO3:H2O Na2CO3:7H2O Halite Na2(HPO4):7H2O\")\n",
    "#minerals = MineralPhases(\"Natron Nahcolite Trona Na2CO3:H2O Na2CO3:7H2O Halite Na2(HPO4):12H2O Na2(HPO4):7H2O\")"
   ]
  },
  {
   "cell_type": "code",
   "execution_count": null,
   "id": "b7c8a99e",
   "metadata": {},
   "outputs": [],
   "source": [
    "system = ChemicalSystem(db, solution, minerals)"
   ]
  },
  {
   "cell_type": "markdown",
   "id": "70ed472b",
   "metadata": {},
   "source": [
    "print(\"Chemical system content:\\n---------------------\")\n",
    "for species in db.species():\n",
    "    print(species.name())"
   ]
  },
  {
   "cell_type": "code",
   "execution_count": null,
   "id": "5904b230",
   "metadata": {},
   "outputs": [],
   "source": [
    "props = ChemicalProps(system)\n",
    "aprops = AqueousProps(system)"
   ]
  },
  {
   "cell_type": "code",
   "execution_count": null,
   "id": "87a80ab3",
   "metadata": {},
   "outputs": [],
   "source": [
    "specs = EquilibriumSpecs(system)\n",
    "specs.temperature()\n",
    "specs.pressure()\n",
    "specs.fugacity(\"CO2\")"
   ]
  },
  {
   "cell_type": "code",
   "execution_count": null,
   "id": "33cc357b",
   "metadata": {},
   "outputs": [],
   "source": [
    "P = 1.0  # pressure in bar"
   ]
  },
  {
   "cell_type": "code",
   "execution_count": null,
   "id": "05203c2f",
   "metadata": {},
   "outputs": [],
   "source": [
    "conditions = EquilibriumConditions(specs)"
   ]
  },
  {
   "cell_type": "markdown",
   "id": "121e4437",
   "metadata": {},
   "source": [
    "USE SOLUTION 1;\n",
    "EQUILIBRIUM_PHASES 1;\n",
    "CO2(g)   -5 100;\n",
    "Natron    0 0;\n",
    "Nahcolite 0 10;\n",
    "Trona     0 0;\n",
    "Na2CO3:H2O 0 0;\n",
    "Na2CO3:7H2O 0 0;\n",
    "END"
   ]
  },
  {
   "cell_type": "code",
   "execution_count": null,
   "id": "d2ba5c75",
   "metadata": {},
   "outputs": [],
   "source": [
    "solver = EquilibriumSolver(specs)"
   ]
  },
  {
   "cell_type": "code",
   "execution_count": null,
   "id": "a66834ce",
   "metadata": {
    "lines_to_next_cell": 1
   },
   "outputs": [],
   "source": [
    "opts = EquilibriumOptions()\n",
    "opts.epsilon = 1e-13\n",
    "solver.setOptions(opts)"
   ]
  },
  {
   "cell_type": "code",
   "execution_count": null,
   "id": "36e3c8fb",
   "metadata": {
    "lines_to_next_cell": 1
   },
   "outputs": [],
   "source": [
    "def equilibrate(ppCO2, T):\n",
    "\n",
    "    conditions.temperature(T, \"celsius\")\n",
    "    conditions.pressure(P, \"atm\")\n",
    "    conditions.fugacity(\"CO2\", 10 ** (ppCO2), \"bar\")\n",
    "\n",
    "    state = ChemicalState(system)\n",
    "    state.set(\"H2O\", 1.0, \"kg\")\n",
    "    state.set(\"Nahcolite\", 10.00, \"mol\")    # NaHCO3\n",
    "    state.set(\"Natron\", 0.00, \"mol\")        # Na2CO3:10H2O\n",
    "    state.set(\"Trona\", 0.00, \"mol\")         # Na3H(CO3)2:2H2O\n",
    "    state.set(\"Na2CO3:H2O\", 0.00, \"mol\")\n",
    "    state.set(\"Na2CO3:7H2O\", 0.00, \"mol\")\n",
    "    state.set(\"CO2\",        100.00, \"mol\")\n",
    "\n",
    "    res = solver.solve(state, conditions)\n",
    "\n",
    "    if not res.optima.succeeded:\n",
    "        print(f\"The optimization solver hasn't converged for T = {T} C and ppCO2 = {ppCO2}\")\n",
    "        return math.nan, math.nan, math.nan, math.nan\n",
    "\n",
    "    props.update(state)\n",
    "    aprops.update(state)\n",
    "\n",
    "    ph = aprops.pH()[0]\n",
    "    mCO3 = state.speciesAmount(\"CO3-2\")[0]\n",
    "    mHCO3 = state.speciesAmount(\"HCO3-\")[0]\n",
    "    x = 100 * 2 * mCO3 / (mHCO3 + 2 * mCO3)\n",
    "\n",
    "    return ph, mCO3, mHCO3, x"
   ]
  },
  {
   "cell_type": "code",
   "execution_count": null,
   "id": "e4d998e5",
   "metadata": {
    "lines_to_next_cell": 1
   },
   "outputs": [],
   "source": [
    "def equilibrate_with_NaCl(ppCO2, T):\n",
    "\n",
    "    conditions.temperature(T, \"celsius\")\n",
    "    conditions.pressure(P, \"atm\")\n",
    "    conditions.fugacity(\"CO2\", 10 ** (ppCO2), \"bar\")\n",
    "\n",
    "    state = ChemicalState(system)\n",
    "    state.set(\"H2O\", 1.0, \"kg\")\n",
    "    state.set(\"Nahcolite\", 10.00, \"mol\")    # NaHCO3\n",
    "    state.set(\"Natron\", 0.00, \"mol\")        # Na2CO3:10H2O\n",
    "    state.set(\"Trona\", 0.00, \"mol\")         # Na3H(CO3)2:2H2O\n",
    "    state.set(\"Na2CO3:H2O\", 0.00, \"mol\")\n",
    "    state.set(\"Na2CO3:7H2O\", 0.00, \"mol\")\n",
    "    state.set(\"CO2\",        100.00, \"mol\")\n",
    "\n",
    "    state.set(\"Halite\", 10.00, \"mol\")\n",
    "\n",
    "    res = solver.solve(state, conditions)\n",
    "\n",
    "    if not res.optima.succeeded:\n",
    "        print(f\"The optimization solver hasn't converged for T = {T} C and ppCO2 = {ppCO2}\")\n",
    "        return math.nan, math.nan, math.nan, math.nan\n",
    "\n",
    "    props.update(state)\n",
    "    aprops.update(state)\n",
    "\n",
    "    ph = aprops.pH()[0]\n",
    "    mCO3 = state.speciesAmount(\"CO3-2\")[0]\n",
    "    mHCO3 = state.speciesAmount(\"HCO3-\")[0]\n",
    "    x = 100 * 2 * mCO3 / (mHCO3 + 2 * mCO3)\n",
    "\n",
    "    return ph, mCO3, mHCO3, x"
   ]
  },
  {
   "cell_type": "code",
   "execution_count": null,
   "id": "bd2ad949",
   "metadata": {},
   "outputs": [],
   "source": [
    "def equilibrate_with_NaCl_HPO4(ppCO2, T):\n",
    "\n",
    "    conditions.temperature(T, \"celsius\")\n",
    "    conditions.pressure(P, \"atm\")\n",
    "    conditions.fugacity(\"CO2\", 10 ** (ppCO2), \"bar\")\n",
    "\n",
    "    state = ChemicalState(system)\n",
    "    state.set(\"H2O\", 1.0, \"kg\")\n",
    "    state.set(\"Nahcolite\", 10.00, \"mol\")    # NaHCO3\n",
    "    state.set(\"Natron\", 0.00, \"mol\")        # Na2CO3:10H2O\n",
    "    state.set(\"Trona\", 0.00, \"mol\")         # Na3H(CO3)2:2H2O\n",
    "    state.set(\"Na2CO3:H2O\", 0.00, \"mol\")\n",
    "    state.set(\"Na2CO3:7H2O\", 0.00, \"mol\")\n",
    "    state.set(\"CO2\",        100.00, \"mol\")\n",
    "\n",
    "    state.set(\"Halite\", 10.00, \"mol\")\n",
    "    #state.set(\"Na2(HPO4):12H2O\", 10.00, \"mol\")\n",
    "    state.set(\"Na2(HPO4):7H2O\", 10.00, \"mol\")\n",
    "\n",
    "    res = solver.solve(state, conditions)\n",
    "\n",
    "    if not res.optima.succeeded:\n",
    "        print(f\"The optimization solver hasn't converged for T = {T} C and ppCO2 = {ppCO2}\")\n",
    "        return math.nan, math.nan, math.nan, math.nan\n",
    "\n",
    "    props.update(state)\n",
    "    aprops.update(state)\n",
    "\n",
    "    ph = aprops.pH()[0]\n",
    "    mCO3 = state.speciesAmount(\"CO3-2\")[0]\n",
    "    mHCO3 = state.speciesAmount(\"HCO3-\")[0]\n",
    "    x = 100 * 2 * mCO3 / (mHCO3 + 2 * mCO3)\n",
    "\n",
    "    return ph, mCO3, mHCO3, x"
   ]
  },
  {
   "cell_type": "code",
   "execution_count": null,
   "id": "a39a5a7a",
   "metadata": {},
   "outputs": [],
   "source": [
    "num_ppco2s = 71\n",
    "#num_ppco2s = 8\n",
    "co2ppressures = np.flip(np.linspace(-5.0, 2.0, num=num_ppco2s))"
   ]
  },
  {
   "cell_type": "markdown",
   "id": "ed16241a",
   "metadata": {},
   "source": [
    "print(co2ppressures)\n",
    "input()"
   ]
  },
  {
   "cell_type": "markdown",
   "id": "27cf97ee",
   "metadata": {},
   "source": [
    "data_size = 6\n",
    "data50 = np.zeros((num_ppco2s, data_size+1))\n",
    "data25 = np.zeros((num_ppco2s, data_size+1))\n",
    "data0 = np.zeros((num_ppco2s, data_size+1))\n",
    "\n",
    "for i in range(0, num_ppco2s):\n",
    "    result = equilibrate(co2ppressures[i], 0)\n",
    "    data0[i, 0] = co2ppressures[i]\n",
    "    data0[i, 1] = result[0]\n",
    "    data0[i, 2] = result[1]\n",
    "    data0[i, 3] = result[2]\n",
    "    data0[i, 4] = result[3]\n",
    "    data0[i, 5] = result[4]\n",
    "    data0[i, 6] = result[5]\n",
    "\n",
    "    result = equilibrate(co2ppressures[i], 25)\n",
    "    data25[i, 0] = co2ppressures[i]\n",
    "    data25[i, 1] = result[0]\n",
    "    data25[i, 2] = result[1]\n",
    "    data25[i, 3] = result[2]\n",
    "    data25[i, 4] = result[3]\n",
    "    data25[i, 5] = result[4]\n",
    "    data25[i, 6] = result[5]\n",
    "\n",
    "    result = equilibrate(co2ppressures[i], 50)\n",
    "    data50[i, 0] = co2ppressures[i]\n",
    "    data50[i, 1] = result[0]\n",
    "    data50[i, 2] = result[1]\n",
    "    data50[i, 3] = result[2]\n",
    "    data50[i, 4] = result[3]\n",
    "    data50[i, 5] = result[4]\n",
    "    data50[i, 6] = result[5]\n",
    "\n",
    "np.savetxt(results_folder + '/m-data25.txt', data25)\n",
    "np.savetxt(results_folder + '/m-data0.txt', data0)\n",
    "np.savetxt(results_folder + '/m-data50.txt', data50)\n",
    "\n",
    "import matplotlib.pyplot as plt\n",
    "colors = ['C1', 'C2', 'C3', 'C4', 'C5', 'C7', 'C8', 'C9']\n",
    "\n",
    "plt.figure()\n",
    "plt.plot(data0[:, 0], data0[:, 1], label=f'0 C', color=colors[1])\n",
    "plt.plot(data0[:, 0], data25[:, 1], label=f'25 C', color=colors[2])\n",
    "plt.plot(data0[:, 0], data50[:, 1], label=f'50 C', color=colors[3])\n",
    "plt.legend(loc=\"best\")\n",
    "plt.xlabel('ppCO2')\n",
    "plt.ylabel('pH [-]')\n",
    "plt.grid()\n",
    "plt.savefig(results_folder + '/' + 'pH-vs-ppCO2.png', bbox_inches='tight')\n",
    "plt.close()\n",
    "\n",
    "plt.figure()\n",
    "plt.plot(data0[:, 0], data0[:, 2], label=f'0 C', color=colors[1])\n",
    "plt.plot(data0[:, 0], data25[:, 2], label=f'25 C', color=colors[2])\n",
    "plt.plot(data0[:, 0], data50[:, 2], label=f'50 C', color=colors[3])\n",
    "plt.legend(loc=\"best\")\n",
    "plt.xlabel('ppCO2')\n",
    "plt.ylabel('Amount of CO3-2 [mol]')\n",
    "plt.grid()\n",
    "plt.savefig(results_folder + '/' + 'mCO32-vs-ppCO2.png', bbox_inches='tight')\n",
    "plt.close()\n",
    "\n",
    "plt.figure()\n",
    "plt.plot(data0[:, 0], data0[:, 3], label=f'0 C', color=colors[1])\n",
    "plt.plot(data0[:, 0], data25[:, 3], label=f'25 C', color=colors[2])\n",
    "plt.plot(data0[:, 0], data50[:, 3], label=f'50 C', color=colors[3])\n",
    "plt.legend(loc=\"best\")\n",
    "plt.xlabel('ppCO2')\n",
    "plt.ylabel('Amount of HCO3- [mol]')\n",
    "plt.grid()\n",
    "plt.savefig(results_folder + '/' + 'mHCO3-vs-ppCO2.png', bbox_inches='tight')\n",
    "plt.close()\n",
    "\n",
    "plt.figure()\n",
    "plt.plot(data25[:, 4], data25[:, 0], label=f'25 C', color=colors[6])\n",
    "plt.legend(loc=\"best\")\n",
    "plt.xlabel('x')\n",
    "plt.ylabel('ppCO2 [-]')\n",
    "plt.grid()\n",
    "plt.savefig(results_folder + '/' + 'ppCO2-vs-x.png', bbox_inches='tight')\n",
    "plt.close()\n",
    "\n",
    "plt.figure()\n",
    "plt.plot(data25[:, 4], data25[:, 1], label=f'25 C', color=colors[7])\n",
    "plt.legend(loc=\"best\")\n",
    "plt.xlabel('x')\n",
    "plt.ylabel('pH [-]')\n",
    "plt.grid()\n",
    "plt.savefig(results_folder + '/' + 'pH-vs-x.png', bbox_inches='tight')\n",
    "plt.close()\n",
    "\n",
    "fig, ax1 = plt.subplots()\n",
    "color = 'tab:red'\n",
    "ax1.set_xlabel(r'$\\frac{2[CO_3^{-2}]}{[HCO_3^-] + 2[CO_3^{-2}]}$ [%]')\n",
    "ax1.set_ylabel('pH [-]', color=color)\n",
    "ax1.plot(data25[:, 4], data25[:, 1], color=color)\n",
    "ax1.tick_params(axis='y', labelcolor=color)\n",
    "\n",
    "ax2 = ax1.twinx()  # instantiate a second axes that shares the same x-axis\n",
    "\n",
    "color = 'tab:blue'\n",
    "ax2.set_ylabel('ppCO2 [-]', color=color)  # we already handled the x-label with ax1\n",
    "ax2.plot(data25[:, 4], data25[:, 0], color=color)\n",
    "ax2.tick_params(axis='y', labelcolor=color)\n",
    "\n",
    "fig.tight_layout()  # otherwise the right y-label is slightly clipped\n",
    "plt.grid()\n",
    "plt.savefig(results_folder + '/' + 'pH-ppCO2-vs-x.png', bbox_inches='tight')\n",
    "plt.close()"
   ]
  },
  {
   "cell_type": "markdown",
   "id": "6dc057e6",
   "metadata": {},
   "source": [
    "data_size = 4\n",
    "data50 = np.zeros((num_ppco2s, data_size+1))\n",
    "data25 = np.zeros((num_ppco2s, data_size+1))\n",
    "data0 = np.zeros((num_ppco2s, data_size+1))\n",
    "\n",
    "for i in range(0, num_ppco2s):\n",
    "    result = equilibrate_with_NaCl(co2ppressures[i], 0)\n",
    "    data0[i, 0] = co2ppressures[i]\n",
    "    data0[i, 1] = result[0]\n",
    "    data0[i, 2] = result[1]\n",
    "    data0[i, 3] = result[2]\n",
    "    data0[i, 4] = result[3]\n",
    "\n",
    "    result = equilibrate_with_NaCl(co2ppressures[i], 25)\n",
    "    data25[i, 0] = co2ppressures[i]\n",
    "    data25[i, 1] = result[0]\n",
    "    data25[i, 2] = result[1]\n",
    "    data25[i, 3] = result[2]\n",
    "    data25[i, 4] = result[3]\n",
    "\n",
    "    result = equilibrate_with_NaCl(co2ppressures[i], 50)\n",
    "    data50[i, 0] = co2ppressures[i]\n",
    "    data50[i, 1] = result[0]\n",
    "    data50[i, 2] = result[1]\n",
    "    data50[i, 3] = result[2]\n",
    "    data50[i, 4] = result[3]\n",
    "\n",
    "np.savetxt(results_folder + '/m-data25-with-NaCl.txt', data25)\n",
    "np.savetxt(results_folder + '/m-data0-with-NaCl.txt', data0)\n",
    "np.savetxt(results_folder + '/m-data50-with-NaCl.txt', data50)\n",
    "\n",
    "import matplotlib.pyplot as plt\n",
    "colors = ['C1', 'C2', 'C3', 'C4', 'C5', 'C7', 'C8', 'C9']\n",
    "\n",
    "plt.figure()\n",
    "plt.plot(data0[:, 0], data0[:, 1], label=f'0 C', color=colors[1])\n",
    "plt.plot(data0[:, 0], data25[:, 1], label=f'25 C', color=colors[2])\n",
    "plt.plot(data0[:, 0], data50[:, 1], label=f'50 C', color=colors[3])\n",
    "plt.legend(loc=\"best\")\n",
    "plt.xlabel('ppCO2')\n",
    "plt.ylabel('pH [-]')\n",
    "plt.grid()\n",
    "plt.savefig(results_folder + '/' + 'pH-vs-ppCO2-with-NaCl.png', bbox_inches='tight')\n",
    "plt.close()\n",
    "\n",
    "plt.figure()\n",
    "plt.plot(data0[:, 0], data0[:, 2], label=f'0 C', color=colors[1])\n",
    "plt.plot(data0[:, 0], data25[:, 2], label=f'25 C', color=colors[2])\n",
    "plt.plot(data0[:, 0], data50[:, 2], label=f'50 C', color=colors[3])\n",
    "plt.legend(loc=\"best\")\n",
    "plt.xlabel('ppCO2')\n",
    "plt.ylabel('Amount of CO3-2 [mol]')\n",
    "plt.grid()\n",
    "plt.savefig(results_folder + '/' + 'mCO32-vs-ppCO2-with-NaCl.png', bbox_inches='tight')\n",
    "plt.close()\n",
    "\n",
    "plt.figure()\n",
    "plt.plot(data0[:, 0], data0[:, 3], label=f'0 C', color=colors[1])\n",
    "plt.plot(data0[:, 0], data25[:, 3], label=f'25 C', color=colors[2])\n",
    "plt.plot(data0[:, 0], data50[:, 3], label=f'50 C', color=colors[3])\n",
    "plt.legend(loc=\"best\")\n",
    "plt.xlabel('ppCO2')\n",
    "plt.ylabel('Amount of HCO3- [mol]')\n",
    "plt.grid()\n",
    "plt.savefig(results_folder + '/' + 'mHCO3-vs-ppCO2-with-NaCl.png', bbox_inches='tight')\n",
    "plt.close()\n",
    "\n",
    "fig, ax1 = plt.subplots()\n",
    "color = 'tab:red'\n",
    "ax1.set_xlabel(r'$\\frac{2[CO_3^{-2}]}{[HCO_3^-] + 2[CO_3^{-2}]}$ [%]')\n",
    "ax1.set_ylabel('pH [-]', color=color)\n",
    "ax1.plot(data25[:, 4], data25[:, 1], color=color)\n",
    "ax1.tick_params(axis='y', labelcolor=color)\n",
    "\n",
    "ax2 = ax1.twinx()  # instantiate a second axes that shares the same x-axis\n",
    "\n",
    "color = 'tab:blue'\n",
    "ax2.set_ylabel('ppCO2 [-]', color=color)  # we already handled the x-label with ax1\n",
    "ax2.plot(data25[:, 4], data25[:, 0], color=color)\n",
    "ax2.tick_params(axis='y', labelcolor=color)\n",
    "\n",
    "fig.tight_layout()  # otherwise the right y-label is slightly clipped\n",
    "plt.grid()\n",
    "plt.savefig(results_folder + '/' + 'pH-ppCO2-vs-x-with-NaCl.png', bbox_inches='tight')\n",
    "plt.close()"
   ]
  },
  {
   "cell_type": "code",
   "execution_count": null,
   "id": "621bf770",
   "metadata": {},
   "outputs": [],
   "source": [
    "data_size = 4\n",
    "data50 = np.zeros((num_ppco2s, data_size+1))\n",
    "data25 = np.zeros((num_ppco2s, data_size+1))\n",
    "data0 = np.zeros((num_ppco2s, data_size+1))"
   ]
  },
  {
   "cell_type": "code",
   "execution_count": null,
   "id": "b535012b",
   "metadata": {},
   "outputs": [],
   "source": [
    "for i in range(0, num_ppco2s):\n",
    "    result = equilibrate_with_NaCl_HPO4(co2ppressures[i], 0)\n",
    "    data0[i, 0] = co2ppressures[i]\n",
    "    data0[i, 1] = result[0]\n",
    "    data0[i, 2] = result[1]\n",
    "    data0[i, 3] = result[2]\n",
    "    data0[i, 4] = result[3]\n",
    "\n",
    "    result = equilibrate_with_NaCl_HPO4(co2ppressures[i], 25)\n",
    "    data25[i, 0] = co2ppressures[i]\n",
    "    data25[i, 1] = result[0]\n",
    "    data25[i, 2] = result[1]\n",
    "    data25[i, 3] = result[2]\n",
    "    data25[i, 4] = result[3]\n",
    "\n",
    "    result = equilibrate_with_NaCl_HPO4(co2ppressures[i], 50)\n",
    "    data50[i, 0] = co2ppressures[i]\n",
    "    data50[i, 1] = result[0]\n",
    "    data50[i, 2] = result[1]\n",
    "    data50[i, 3] = result[2]\n",
    "    data50[i, 4] = result[3]"
   ]
  },
  {
   "cell_type": "code",
   "execution_count": null,
   "id": "43bcdfc0",
   "metadata": {},
   "outputs": [],
   "source": [
    "np.savetxt(results_folder + '/m-data25-with-NaCl-HPO4.txt', data25)\n",
    "np.savetxt(results_folder + '/m-data0-with-NaCl-HPO4.txt', data0)\n",
    "np.savetxt(results_folder + '/m-data50-with-NaCl-HPO4.txt', data50)"
   ]
  },
  {
   "cell_type": "code",
   "execution_count": null,
   "id": "a242bd2e",
   "metadata": {},
   "outputs": [],
   "source": [
    "import matplotlib.pyplot as plt\n",
    "colors = ['C1', 'C2', 'C3', 'C4', 'C5', 'C7', 'C8', 'C9']"
   ]
  },
  {
   "cell_type": "code",
   "execution_count": null,
   "id": "4f635d80",
   "metadata": {},
   "outputs": [],
   "source": [
    "plt.figure()\n",
    "plt.plot(data0[:, 0], data0[:, 1], label=f'0 C', color=colors[1])\n",
    "plt.plot(data0[:, 0], data25[:, 1], label=f'25 C', color=colors[2])\n",
    "plt.plot(data0[:, 0], data50[:, 1], label=f'50 C', color=colors[3])\n",
    "plt.legend(loc=\"best\")\n",
    "plt.xlabel('ppCO2')\n",
    "plt.ylabel('pH [-]')\n",
    "plt.grid()\n",
    "plt.savefig(results_folder + '/' + 'pH-vs-ppCO2-with-NaCl-HPO4.png', bbox_inches='tight')\n",
    "plt.close()"
   ]
  },
  {
   "cell_type": "code",
   "execution_count": null,
   "id": "bd366230",
   "metadata": {},
   "outputs": [],
   "source": [
    "plt.figure()\n",
    "plt.plot(data0[:, 0], data0[:, 2], label=f'0 C', color=colors[1])\n",
    "plt.plot(data0[:, 0], data25[:, 2], label=f'25 C', color=colors[2])\n",
    "plt.plot(data0[:, 0], data50[:, 2], label=f'50 C', color=colors[3])\n",
    "plt.legend(loc=\"best\")\n",
    "plt.xlabel('ppCO2')\n",
    "plt.ylabel('Amount of CO3-2 [mol]')\n",
    "plt.grid()\n",
    "plt.savefig(results_folder + '/' + 'mCO32-vs-ppCO2-with-NaCl-HPO4.png', bbox_inches='tight')\n",
    "plt.close()"
   ]
  },
  {
   "cell_type": "code",
   "execution_count": null,
   "id": "e4365da3",
   "metadata": {},
   "outputs": [],
   "source": [
    "plt.figure()\n",
    "plt.plot(data0[:, 0], data0[:, 3], label=f'0 C', color=colors[1])\n",
    "plt.plot(data0[:, 0], data25[:, 3], label=f'25 C', color=colors[2])\n",
    "plt.plot(data0[:, 0], data50[:, 3], label=f'50 C', color=colors[3])\n",
    "plt.legend(loc=\"best\")\n",
    "plt.xlabel('ppCO2')\n",
    "plt.ylabel('Amount of HCO3- [mol]')\n",
    "plt.grid()\n",
    "plt.savefig(results_folder + '/' + 'mHCO3-vs-ppCO2-with-NaCl-HPO4.png', bbox_inches='tight')\n",
    "plt.close()"
   ]
  },
  {
   "cell_type": "code",
   "execution_count": null,
   "id": "abe09385",
   "metadata": {},
   "outputs": [],
   "source": [
    "fig, ax1 = plt.subplots()\n",
    "color = 'tab:red'\n",
    "ax1.set_xlabel(r'$\\frac{2[CO_3^{-2}]}{[HCO_3^-] + 2[CO_3^{-2}]}$ [%]')\n",
    "ax1.set_ylabel('pH [-]', color=color)\n",
    "ax1.plot(data25[:, 4], data25[:, 1], color=color)\n",
    "ax1.tick_params(axis='y', labelcolor=color)"
   ]
  },
  {
   "cell_type": "code",
   "execution_count": null,
   "id": "a59957c8",
   "metadata": {},
   "outputs": [],
   "source": [
    "ax2 = ax1.twinx()  # instantiate a second axes that shares the same x-axis"
   ]
  },
  {
   "cell_type": "code",
   "execution_count": null,
   "id": "c6b474fa",
   "metadata": {},
   "outputs": [],
   "source": [
    "color = 'tab:blue'\n",
    "ax2.set_ylabel('ppCO2 [-]', color=color)  # we already handled the x-label with ax1\n",
    "ax2.plot(data25[:, 4], data25[:, 0], color=color)\n",
    "ax2.tick_params(axis='y', labelcolor=color)"
   ]
  },
  {
   "cell_type": "code",
   "execution_count": null,
   "id": "e8f432eb",
   "metadata": {},
   "outputs": [],
   "source": [
    "fig.tight_layout()  # otherwise the right y-label is slightly clipped\n",
    "plt.grid()\n",
    "plt.savefig(results_folder + '/' + 'pH-ppCO2-vs-x-with-NaCl-HPO4.png', bbox_inches='tight')\n",
    "plt.close()"
   ]
  }
 ],
 "metadata": {},
 "nbformat": 4,
 "nbformat_minor": 5
}
