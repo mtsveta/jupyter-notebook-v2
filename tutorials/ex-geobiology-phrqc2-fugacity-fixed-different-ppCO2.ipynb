{
 "cells": [
  {
   "cell_type": "code",
   "execution_count": null,
   "id": "09b0351c",
   "metadata": {},
   "outputs": [],
   "source": [
    "from reaktoro import *\n",
    "import numpy as np\n",
    "import os\n",
    "import math"
   ]
  },
  {
   "cell_type": "code",
   "execution_count": null,
   "id": "413023a4",
   "metadata": {},
   "outputs": [],
   "source": [
    "results_folder = 'results-phrqc2-fugacity-fixed-different-ppCO2'\n",
    "os.system('mkdir -p ' + results_folder)"
   ]
  },
  {
   "cell_type": "code",
   "execution_count": null,
   "id": "e7a98a7d",
   "metadata": {},
   "outputs": [],
   "source": [
    "#db = PhreeqcDatabase.fromFile('../databases/phreeqc-toner-catling.dat') # if running from tutorials folder\n",
    "db = PhreeqcDatabase.fromFile('databases/phreeqc-toner-catling.dat') # if running from tutorials folder"
   ]
  },
  {
   "cell_type": "markdown",
   "id": "2431172f",
   "metadata": {},
   "source": [
    "print(\"Database content:\\n---------------------\")\n",
    "for species in db.species():\n",
    "    print(species.name())"
   ]
  },
  {
   "cell_type": "code",
   "execution_count": null,
   "id": "05ecf52f",
   "metadata": {},
   "outputs": [],
   "source": [
    "solution = AqueousPhase(speciate(\"H O C Na Cl\"))\n",
    "solution.setActivityModel(chain(\n",
    "    ActivityModelHKF(),\n",
    "    ActivityModelDrummond(\"CO2\")\n",
    "))"
   ]
  },
  {
   "cell_type": "code",
   "execution_count": null,
   "id": "f07881a4",
   "metadata": {},
   "outputs": [],
   "source": [
    "minerals = MineralPhases(\"Natron Nahcolite Trona Na2CO3:H2O Na2CO3:7H2O\")"
   ]
  },
  {
   "cell_type": "code",
   "execution_count": null,
   "id": "98b5b46a",
   "metadata": {},
   "outputs": [],
   "source": [
    "system = ChemicalSystem(db, solution, minerals)"
   ]
  },
  {
   "cell_type": "markdown",
   "id": "5ca525ad",
   "metadata": {},
   "source": [
    "print(\"Chemical system content:\\n---------------------\")\n",
    "for species in db.species():\n",
    "    print(species.name())"
   ]
  },
  {
   "cell_type": "code",
   "execution_count": null,
   "id": "2b80cc6d",
   "metadata": {},
   "outputs": [],
   "source": [
    "props = ChemicalProps(system)\n",
    "aprops = AqueousProps(system)"
   ]
  },
  {
   "cell_type": "code",
   "execution_count": null,
   "id": "e7560855",
   "metadata": {},
   "outputs": [],
   "source": [
    "specs = EquilibriumSpecs(system)\n",
    "specs.temperature()\n",
    "specs.pressure()\n",
    "specs.fugacity(\"CO2\")"
   ]
  },
  {
   "cell_type": "code",
   "execution_count": null,
   "id": "ea71264a",
   "metadata": {},
   "outputs": [],
   "source": [
    "P = 1.0  # pressure in bar"
   ]
  },
  {
   "cell_type": "code",
   "execution_count": null,
   "id": "ad774cde",
   "metadata": {},
   "outputs": [],
   "source": [
    "conditions = EquilibriumConditions(specs)"
   ]
  },
  {
   "cell_type": "markdown",
   "id": "a5533413",
   "metadata": {},
   "source": [
    "USE SOLUTION 1;\n",
    "EQUILIBRIUM_PHASES 1;\n",
    "CO2(g)   -5 100;\n",
    "Natron    0 0;\n",
    "Nahcolite 0 10;\n",
    "Trona     0 0;\n",
    "Na2CO3:H2O 0 0;\n",
    "Na2CO3:7H2O 0 0;\n",
    "END"
   ]
  },
  {
   "cell_type": "code",
   "execution_count": null,
   "id": "7b4921fc",
   "metadata": {},
   "outputs": [],
   "source": [
    "solver = EquilibriumSolver(specs)"
   ]
  },
  {
   "cell_type": "code",
   "execution_count": null,
   "id": "41cf6311",
   "metadata": {
    "lines_to_next_cell": 1
   },
   "outputs": [],
   "source": [
    "opts = EquilibriumOptions()\n",
    "opts.epsilon = 1e-13\n",
    "solver.setOptions(opts)"
   ]
  },
  {
   "cell_type": "code",
   "execution_count": null,
   "id": "0da46d5d",
   "metadata": {
    "lines_to_next_cell": 1
   },
   "outputs": [],
   "source": [
    "def equilibrate(ppCO2, T):\n",
    "\n",
    "    conditions.temperature(T, \"celsius\")\n",
    "    conditions.pressure(P, \"atm\")\n",
    "    conditions.fugacity(\"CO2\", 10 ** (ppCO2), \"bar\")\n",
    "\n",
    "    state = ChemicalState(system)\n",
    "    state.set(\"H2O\", 1.0, \"kg\")\n",
    "    state.set(\"Nahcolite\", 10.00, \"mol\")\n",
    "    state.set(\"Natron\", 0.00, \"mol\")\n",
    "    state.set(\"Trona\", 0.00, \"mol\")\n",
    "    state.set(\"Na2CO3:H2O\", 0.00, \"mol\")\n",
    "    state.set(\"Na2CO3:7H2O\", 0.00, \"mol\")\n",
    "    # state.set(\"CO2\",        100.00, \"mol\")\n",
    "\n",
    "    res = solver.solve(state, conditions)\n",
    "\n",
    "    if not res.optima.succeeded:\n",
    "        print(f\"The optimization solver hasn't converged for T = {T} C and ppCO2 = {ppCO2}\")\n",
    "        return math.nan, math.nan, math.nan\n",
    "\n",
    "    props.update(state)\n",
    "    aprops.update(state)\n",
    "    ph = aprops.pH()[0]\n",
    "\n",
    "    mCO3 = state.speciesAmount(\"CO3-2\")[0]\n",
    "    mHCO3 = state.speciesAmount(\"HCO3-\")[0]\n",
    "\n",
    "    return ph, mCO3, mHCO3"
   ]
  },
  {
   "cell_type": "code",
   "execution_count": null,
   "id": "598b0b99",
   "metadata": {},
   "outputs": [],
   "source": [
    "num_ppco2s = 71\n",
    "#num_ppco2s = 8\n",
    "co2ppressures = np.flip(np.linspace(-5.0, 2.0, num=num_ppco2s))"
   ]
  },
  {
   "cell_type": "code",
   "execution_count": null,
   "id": "88816134",
   "metadata": {},
   "outputs": [],
   "source": [
    "print(co2ppressures)\n",
    "input()"
   ]
  },
  {
   "cell_type": "code",
   "execution_count": null,
   "id": "6b37e68c",
   "metadata": {},
   "outputs": [],
   "source": [
    "data_size = 3\n",
    "data50 = np.zeros((num_ppco2s, data_size+1))\n",
    "data25 = np.zeros((num_ppco2s, data_size+1))\n",
    "data0 = np.zeros((num_ppco2s, data_size+1))"
   ]
  },
  {
   "cell_type": "code",
   "execution_count": null,
   "id": "1ba025ce",
   "metadata": {},
   "outputs": [],
   "source": [
    "for i in range(0, num_ppco2s):\n",
    "    result = equilibrate(co2ppressures[i], 0)\n",
    "    data0[i, 0] = co2ppressures[i]\n",
    "    data0[i, 1] = result[0]\n",
    "    data0[i, 2] = result[1]\n",
    "    data0[i, 3] = result[2]\n",
    "\n",
    "    result = equilibrate(co2ppressures[i], 25)\n",
    "    data25[i, 0] = co2ppressures[i]\n",
    "    data25[i, 1] = result[0]\n",
    "    data25[i, 2] = result[1]\n",
    "    data25[i, 3] = result[2]\n",
    "\n",
    "    result = equilibrate(co2ppressures[i], 50)\n",
    "    data50[i, 0] = co2ppressures[i]\n",
    "    data50[i, 1] = result[0]\n",
    "    data50[i, 2] = result[1]\n",
    "    data50[i, 3] = result[2]"
   ]
  },
  {
   "cell_type": "code",
   "execution_count": null,
   "id": "d668a851",
   "metadata": {},
   "outputs": [],
   "source": [
    "np.savetxt(results_folder + '/m-data25.txt', data25)\n",
    "np.savetxt(results_folder + '/m-data0.txt', data0)\n",
    "np.savetxt(results_folder + '/m-data50.txt', data50)"
   ]
  },
  {
   "cell_type": "code",
   "execution_count": null,
   "id": "f9ff19cd",
   "metadata": {},
   "outputs": [],
   "source": [
    "import matplotlib.pyplot as plt\n",
    "colors = ['C1', 'C2', 'C3', 'C4', 'C5', 'C7', 'C8', 'C9']"
   ]
  },
  {
   "cell_type": "code",
   "execution_count": null,
   "id": "d29ed0e7",
   "metadata": {},
   "outputs": [],
   "source": [
    "plt.figure()\n",
    "plt.plot(data0[:, 0], data0[:, 1], label=f'0 C', color=colors[1])\n",
    "plt.plot(data0[:, 0], data25[:, 1], label=f'25 C', color=colors[2])\n",
    "plt.plot(data0[:, 0], data50[:, 1], label=f'50 C', color=colors[3])\n",
    "plt.legend(loc=\"best\")\n",
    "plt.xlabel('ppCO2')\n",
    "plt.ylabel('pH [-]')\n",
    "plt.grid()\n",
    "plt.savefig(results_folder + '/' + 'pH-vs-ppCO2.png', bbox_inches='tight')\n",
    "plt.close()"
   ]
  },
  {
   "cell_type": "code",
   "execution_count": null,
   "id": "e714606d",
   "metadata": {},
   "outputs": [],
   "source": [
    "plt.figure()\n",
    "plt.plot(data0[:, 0], data0[:, 2], label=f'0 C', color=colors[1])\n",
    "plt.plot(data0[:, 0], data25[:, 2], label=f'25 C', color=colors[2])\n",
    "plt.plot(data0[:, 0], data50[:, 2], label=f'50 C', color=colors[3])\n",
    "plt.legend(loc=\"best\")\n",
    "plt.xlabel('ppCO2')\n",
    "plt.ylabel('Amount of CO3-2 [mol]')\n",
    "plt.grid()\n",
    "plt.savefig(results_folder + '/' + 'mCO32-vs-ppCO2.png', bbox_inches='tight')\n",
    "plt.close()"
   ]
  },
  {
   "cell_type": "code",
   "execution_count": null,
   "id": "cae76868",
   "metadata": {
    "lines_to_next_cell": 2
   },
   "outputs": [],
   "source": [
    "plt.figure()\n",
    "plt.plot(data0[:, 0], data0[:, 3], label=f'0 C', color=colors[1])\n",
    "plt.plot(data0[:, 0], data25[:, 3], label=f'25 C', color=colors[2])\n",
    "plt.plot(data0[:, 0], data50[:, 3], label=f'50 C', color=colors[3])\n",
    "plt.legend(loc=\"best\")\n",
    "plt.xlabel('ppCO2')\n",
    "plt.ylabel('Amount of HCO3- [mol]')\n",
    "plt.grid()\n",
    "plt.savefig(results_folder + '/' + 'mHCO3-vs-ppCO2.png', bbox_inches='tight')\n",
    "plt.close()"
   ]
  }
 ],
 "metadata": {},
 "nbformat": 4,
 "nbformat_minor": 5
}
