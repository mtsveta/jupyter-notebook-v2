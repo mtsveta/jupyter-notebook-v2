{
 "cells": [
  {
   "cell_type": "code",
   "execution_count": null,
   "id": "fde2e7ce",
   "metadata": {},
   "outputs": [],
   "source": [
    "from reaktoro import *\n",
    "import numpy as np\n",
    "import os"
   ]
  },
  {
   "cell_type": "code",
   "execution_count": null,
   "id": "fdc5682a",
   "metadata": {},
   "outputs": [],
   "source": [
    "results_folder = 'results-phrqc2-fugacity-fixed-different-ppCO2'\n",
    "os.system('mkdir -p ' + results_folder)"
   ]
  },
  {
   "cell_type": "code",
   "execution_count": null,
   "id": "e1830ace",
   "metadata": {},
   "outputs": [],
   "source": [
    "#db = PhreeqcDatabase.fromFile('../databases/phreeqc-toner-catling.dat') # if running from tutorials folder\n",
    "db = PhreeqcDatabase.fromFile('databases/phreeqc-toner-catling.dat') # if running from tutorials folder"
   ]
  },
  {
   "cell_type": "markdown",
   "id": "ba49b3b7",
   "metadata": {},
   "source": [
    "print(\"Database content:\\n---------------------\")\n",
    "for species in db.species():\n",
    "    print(species.name())"
   ]
  },
  {
   "cell_type": "code",
   "execution_count": null,
   "id": "a7f73b12",
   "metadata": {},
   "outputs": [],
   "source": [
    "solution = AqueousPhase(speciate(\"H O C Na Cl\"))\n",
    "solution.setActivityModel(chain(\n",
    "    ActivityModelHKF(),\n",
    "    ActivityModelDrummond(\"CO2\")\n",
    "))"
   ]
  },
  {
   "cell_type": "code",
   "execution_count": null,
   "id": "4040e599",
   "metadata": {},
   "outputs": [],
   "source": [
    "minerals = MineralPhases(\"Natron Nahcolite Trona Na2CO3:H2O Na2CO3:7H2O\")"
   ]
  },
  {
   "cell_type": "code",
   "execution_count": null,
   "id": "088edc4f",
   "metadata": {},
   "outputs": [],
   "source": [
    "system = ChemicalSystem(db, solution, minerals)"
   ]
  },
  {
   "cell_type": "markdown",
   "id": "441d5d99",
   "metadata": {},
   "source": [
    "print(\"Chemical system content:\\n---------------------\")\n",
    "for species in db.species():\n",
    "    print(species.name())"
   ]
  },
  {
   "cell_type": "code",
   "execution_count": null,
   "id": "8dd91ec0",
   "metadata": {},
   "outputs": [],
   "source": [
    "props = ChemicalProps(system)\n",
    "aprops = AqueousProps(system)"
   ]
  },
  {
   "cell_type": "code",
   "execution_count": null,
   "id": "4aac37ef",
   "metadata": {},
   "outputs": [],
   "source": [
    "specs = EquilibriumSpecs(system)\n",
    "specs.temperature()\n",
    "specs.pressure()\n",
    "specs.fugacity(\"CO2\")"
   ]
  },
  {
   "cell_type": "code",
   "execution_count": null,
   "id": "87dcd749",
   "metadata": {},
   "outputs": [],
   "source": [
    "P = 1.0  # pressure in bar"
   ]
  },
  {
   "cell_type": "code",
   "execution_count": null,
   "id": "ba9808a0",
   "metadata": {},
   "outputs": [],
   "source": [
    "solver = EquilibriumSolver(specs)"
   ]
  },
  {
   "cell_type": "code",
   "execution_count": null,
   "id": "957b423b",
   "metadata": {},
   "outputs": [],
   "source": [
    "opts = EquilibriumOptions()\n",
    "opts.epsilon = 1e-14\n",
    "solver.setOptions(opts)"
   ]
  },
  {
   "cell_type": "code",
   "execution_count": null,
   "id": "3ad0b8fe",
   "metadata": {},
   "outputs": [],
   "source": [
    "conditions = EquilibriumConditions(specs)"
   ]
  },
  {
   "cell_type": "markdown",
   "id": "3193689e",
   "metadata": {},
   "source": [
    "USE SOLUTION 1;\n",
    "EQUILIBRIUM_PHASES 1;\n",
    "CO2(g)   -5 100;\n",
    "Natron    0 0;\n",
    "Nahcolite 0 10;\n",
    "Trona     0 0;\n",
    "Na2CO3:H2O 0 0;\n",
    "Na2CO3:7H2O 0 0;\n",
    "END"
   ]
  },
  {
   "cell_type": "code",
   "execution_count": null,
   "id": "12838a71",
   "metadata": {
    "lines_to_next_cell": 1
   },
   "outputs": [],
   "source": [
    "state = ChemicalState(system)\n",
    "state.set(\"H2O\"        ,  1.0 , \"kg\")\n",
    "state.set(\"Nahcolite\"  , 10.00, \"mol\")\n",
    "state.set(\"Natron\"     ,  0.00, \"mol\")\n",
    "state.set(\"Trona\"      ,  0.00, \"mol\")\n",
    "state.set(\"Na2CO3:H2O\" ,  0.00, \"mol\")\n",
    "state.set(\"Na2CO3:7H2O\",  0.00, \"mol\")\n",
    "state.set(\"CO2\",        100.00, \"mol\")"
   ]
  },
  {
   "cell_type": "code",
   "execution_count": null,
   "id": "15a848b3",
   "metadata": {
    "lines_to_next_cell": 1
   },
   "outputs": [],
   "source": [
    "def equilibrate(ppCO2, T):\n",
    "\n",
    "    conditions.temperature(T, \"celsius\")\n",
    "    conditions.pressure(P, \"atm\")\n",
    "    conditions.fugacity(\"CO2\", 10 ** (ppCO2), \"bar\")\n",
    "\n",
    "    res = solver.solve(state, conditions)\n",
    "\n",
    "    props.update(state)\n",
    "    aprops.update(state)\n",
    "    ph = aprops.pH()[0]\n",
    "\n",
    "    mCO3 = state.speciesAmount(\"CO3-2\")[0]\n",
    "    mHCO3 = state.speciesAmount(\"HCO3-\")[0]\n",
    "\n",
    "    return ph, mCO3, mHCO3"
   ]
  },
  {
   "cell_type": "code",
   "execution_count": null,
   "id": "cac55c29",
   "metadata": {},
   "outputs": [],
   "source": [
    "num_ppco2s = 8\n",
    "co2ppressures = np.flip(np.linspace(-5.0, 2.0, num=num_ppco2s))"
   ]
  },
  {
   "cell_type": "code",
   "execution_count": null,
   "id": "3478595f",
   "metadata": {},
   "outputs": [],
   "source": [
    "data_size = 3\n",
    "data50 = np.zeros((num_ppco2s, data_size+1))\n",
    "data25 = np.zeros((num_ppco2s, data_size+1))\n",
    "data0 = np.zeros((num_ppco2s, data_size+1))"
   ]
  },
  {
   "cell_type": "code",
   "execution_count": null,
   "id": "bdca2052",
   "metadata": {},
   "outputs": [],
   "source": [
    "for i in range(0, num_ppco2s):\n",
    "    result = equilibrate(co2ppressures[i], 0)\n",
    "    data0[i, 0] = co2ppressures[i]\n",
    "    data0[i, 1] = result[0]\n",
    "    data0[i, 2] = result[1]\n",
    "    data0[i, 3] = result[2]\n",
    "\n",
    "    result = equilibrate(co2ppressures[i], 25)\n",
    "    data25[i, 0] = co2ppressures[i]\n",
    "    data25[i, 1] = result[0]\n",
    "    data25[i, 2] = result[1]\n",
    "    data25[i, 3] = result[2]\n",
    "\n",
    "    result = equilibrate(co2ppressures[i], 50)\n",
    "    data50[i, 0] = co2ppressures[i]\n",
    "    data50[i, 1] = result[0]\n",
    "    data50[i, 2] = result[1]\n",
    "    data50[i, 3] = result[2]"
   ]
  },
  {
   "cell_type": "code",
   "execution_count": null,
   "id": "03387162",
   "metadata": {},
   "outputs": [],
   "source": [
    "np.savetxt(results_folder + '/m-data25.txt', data25)\n",
    "np.savetxt(results_folder + '/m-data0.txt', data0)\n",
    "np.savetxt(results_folder + '/m-data50.txt', data50)"
   ]
  },
  {
   "cell_type": "code",
   "execution_count": null,
   "id": "eb1d758c",
   "metadata": {},
   "outputs": [],
   "source": [
    "import matplotlib.pyplot as plt\n",
    "colors = ['C1', 'C2', 'C3', 'C4', 'C5', 'C7', 'C8', 'C9']"
   ]
  },
  {
   "cell_type": "code",
   "execution_count": null,
   "id": "87951b2a",
   "metadata": {},
   "outputs": [],
   "source": [
    "plt.figure()\n",
    "plt.plot(data0[:, 0], data0[:, 1], label=f'0 C', color=colors[1])\n",
    "plt.plot(data0[:, 0], data25[:, 1], label=f'25 C', color=colors[2])\n",
    "plt.plot(data0[:, 0], data50[:, 1], label=f'50 C', color=colors[3])\n",
    "plt.legend(loc=\"best\")\n",
    "plt.xlabel('ppCO2')\n",
    "plt.ylabel('pH [-]')\n",
    "plt.grid()\n",
    "plt.savefig(results_folder + '/' + 'pH-vs-ppCO2.png', bbox_inches='tight')\n",
    "plt.close()"
   ]
  },
  {
   "cell_type": "code",
   "execution_count": null,
   "id": "78e29565",
   "metadata": {},
   "outputs": [],
   "source": [
    "plt.figure()\n",
    "plt.plot(data0[:, 0], data0[:, 2], label=f'0 C', color=colors[1])\n",
    "plt.plot(data0[:, 0], data25[:, 2], label=f'25 C', color=colors[2])\n",
    "plt.plot(data0[:, 0], data50[:, 2], label=f'50 C', color=colors[3])\n",
    "plt.legend(loc=\"best\")\n",
    "plt.xlabel('ppCO2')\n",
    "plt.ylabel('Amount of CO3-2 [mol]')\n",
    "plt.grid()\n",
    "plt.savefig(results_folder + '/' + 'mCO32-vs-ppCO2.png', bbox_inches='tight')\n",
    "plt.close()"
   ]
  },
  {
   "cell_type": "code",
   "execution_count": null,
   "id": "b1805932",
   "metadata": {
    "lines_to_next_cell": 2
   },
   "outputs": [],
   "source": [
    "plt.figure()\n",
    "plt.plot(data0[:, 0], data0[:, 3], label=f'0 C', color=colors[1])\n",
    "plt.plot(data0[:, 0], data25[:, 3], label=f'25 C', color=colors[2])\n",
    "plt.plot(data0[:, 0], data50[:, 3], label=f'50 C', color=colors[3])\n",
    "plt.legend(loc=\"best\")\n",
    "plt.xlabel('ppCO2')\n",
    "plt.ylabel('Amount of HCO3- [mol]')\n",
    "plt.grid()\n",
    "plt.savefig(results_folder + '/' + 'mHCO3-vs-ppCO2.png', bbox_inches='tight')\n",
    "plt.close()"
   ]
  }
 ],
 "metadata": {},
 "nbformat": 4,
 "nbformat_minor": 5
}
