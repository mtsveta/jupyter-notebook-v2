{
 "cells": [
  {
   "cell_type": "code",
   "execution_count": null,
   "id": "1772dce2",
   "metadata": {},
   "outputs": [],
   "source": [
    "from reaktoro import *\n",
    "import numpy as np\n",
    "import os\n",
    "from math import *"
   ]
  },
  {
   "cell_type": "code",
   "execution_count": null,
   "id": "a74a3bf4",
   "metadata": {},
   "outputs": [],
   "source": [
    "results_folder = 'results-phrqc2-figure-3a'\n",
    "os.system('mkdir -p ' + results_folder)"
   ]
  },
  {
   "cell_type": "code",
   "execution_count": null,
   "id": "3f2449c4",
   "metadata": {},
   "outputs": [],
   "source": [
    "db = PhreeqcDatabase.fromFile('databases/phreeqc-toner-catling.dat') # if running from tutorials folder"
   ]
  },
  {
   "cell_type": "markdown",
   "id": "0ba6aa42",
   "metadata": {},
   "source": [
    "print(\"Database:\\n---------------------\")\n",
    "for species in db.species():\n",
    "    print(species.name())"
   ]
  },
  {
   "cell_type": "code",
   "execution_count": null,
   "id": "a1d7bdc6",
   "metadata": {},
   "outputs": [],
   "source": [
    "solution = AqueousPhase(speciate(\"H O C Na Cl Ca P\"))\n",
    "solution.setActivityModel(chain(\n",
    "    ActivityModelHKF(),\n",
    "    ActivityModelDrummond(\"CO2\")\n",
    "))"
   ]
  },
  {
   "cell_type": "code",
   "execution_count": null,
   "id": "36f23a63",
   "metadata": {},
   "outputs": [],
   "source": [
    "#tag = \"Na2(HPO4)-2H2O\"\n",
    "#tag = \"Na2(HPO4)-7H2O\"\n",
    "tag = \"Na2(HPO4)-12H2O\""
   ]
  },
  {
   "cell_type": "code",
   "execution_count": null,
   "id": "4b65247c",
   "metadata": {},
   "outputs": [],
   "source": [
    "if tag == \"Na2(HPO4)-2H2O\":\n",
    "    minerals = MineralPhases(\"Na2(HPO4):2H2O \"\n",
    "                             \"Natron Nahcolite Trona Na2CO3:H2O Na2CO3:7H2O \"\n",
    "                             \"Halite\")\n",
    "elif tag == \"Na2(HPO4)-7H2O\":\n",
    "    minerals = MineralPhases(\"Na2(HPO4):7H2O \"\n",
    "                             \"Natron Nahcolite Trona Na2CO3:H2O Na2CO3:7H2O \"\n",
    "                             \"Halite\")"
   ]
  },
  {
   "cell_type": "code",
   "execution_count": null,
   "id": "190fd3bb",
   "metadata": {},
   "outputs": [],
   "source": [
    "elif tag == \"Na2(HPO4)-12H2O\":\n",
    "    minerals = MineralPhases(\"Na2(HPO4):12H2O \"\n",
    "                             \"Natron Nahcolite Trona Na2CO3:H2O Na2CO3:7H2O \"\n",
    "                             \"Halite\")"
   ]
  },
  {
   "cell_type": "code",
   "execution_count": null,
   "id": "a8f964ef",
   "metadata": {},
   "outputs": [],
   "source": [
    "system = ChemicalSystem(db, solution, minerals)"
   ]
  },
  {
   "cell_type": "markdown",
   "id": "07de7360",
   "metadata": {},
   "source": [
    "print(\"Chemical system content:\\n---------------------\")\n",
    "for species in db.species():\n",
    "    print(species.name())\n",
    "input()"
   ]
  },
  {
   "cell_type": "code",
   "execution_count": null,
   "id": "b25f2b20",
   "metadata": {},
   "outputs": [],
   "source": [
    "props = ChemicalProps(system)\n",
    "aprops = AqueousProps(system)"
   ]
  },
  {
   "cell_type": "code",
   "execution_count": null,
   "id": "42ef92ec",
   "metadata": {},
   "outputs": [],
   "source": [
    "specs = EquilibriumSpecs(system)\n",
    "specs.temperature()\n",
    "specs.pressure()\n",
    "specs.fugacity(\"CO2\")"
   ]
  },
  {
   "cell_type": "code",
   "execution_count": null,
   "id": "67b8358b",
   "metadata": {},
   "outputs": [],
   "source": [
    "solver = EquilibriumSolver(specs)"
   ]
  },
  {
   "cell_type": "code",
   "execution_count": null,
   "id": "25272b64",
   "metadata": {},
   "outputs": [],
   "source": [
    "conditions = EquilibriumConditions(specs)"
   ]
  },
  {
   "cell_type": "code",
   "execution_count": null,
   "id": "c747280e",
   "metadata": {},
   "outputs": [],
   "source": [
    "opts = EquilibriumOptions()\n",
    "opts.epsilon = 1e-13\n",
    "solver.setOptions(opts)"
   ]
  },
  {
   "cell_type": "code",
   "execution_count": null,
   "id": "8adc85ec",
   "metadata": {
    "lines_to_next_cell": 1
   },
   "outputs": [],
   "source": [
    "def equilibrate_Na_HPO4(T, ppCO2):\n",
    "\n",
    "    conditions.temperature(T, \"celsius\")\n",
    "    conditions.pressure(1.0, \"bar\")\n",
    "    conditions.fugacity(\"CO2\", 10**(ppCO2), 'bar')\n",
    "\n",
    "    state = ChemicalState(system)\n",
    "    state.set(\"H2O\", 1.0, \"kg\")\n",
    "    state.set(\"CO2\", 100, \"mol\")\n",
    "    if tag == \"Na2(HPO4)-12H2O\":\n",
    "        state.set(\"Na2(HPO4):12H2O\", 10.00, \"mol\")\n",
    "    if tag == \"Na2(HPO4)-7H2O\":\n",
    "        state.set(\"Na2(HPO4):7H2O\", 10.00, \"mol\")\n",
    "    if tag == \"Na2(HPO4)-2H2O\":\n",
    "        state.set(\"Na2(HPO4):2H2O\", 10.00, \"mol\")\n",
    "\n",
    "    res = solver.solve(state, conditions)\n",
    "\n",
    "    if not res.optima.succeeded:\n",
    "        print(f\"ERROR: The optimization solver hasn't converged for T = {T} C and ppCO2 = {ppCO2}\")\n",
    "        return nan, nan\n",
    "\n",
    "    props.update(state)\n",
    "    aprops.update(state)\n",
    "\n",
    "    pH = aprops.pH()[0]\n",
    "    moleP = props.elementAmountInPhase(\"P\", \"AqueousPhase\")[0]\n",
    "\n",
    "    if pH < 5 or pH > 13:\n",
    "        return nan, nan\n",
    "    else:\n",
    "        return pH, moleP"
   ]
  },
  {
   "cell_type": "code",
   "execution_count": null,
   "id": "70aee26c",
   "metadata": {
    "lines_to_next_cell": 1
   },
   "outputs": [],
   "source": [
    "def equilibrate_Na_HCO3_CO3_HPO4(T, ppCO2):\n",
    "\n",
    "    conditions.temperature(T, \"celsius\")\n",
    "    conditions.pressure(1.0, \"bar\")\n",
    "    conditions.fugacity(\"CO2\", 10**(ppCO2), 'bar')\n",
    "\n",
    "    state = ChemicalState(system)\n",
    "    state.set(\"H2O\", 1.0, \"kg\")\n",
    "    state.set(\"CO2\", 100, \"mol\")\n",
    "\n",
    "    # All the Phosphat species\n",
    "    if tag == \"Na2(HPO4)-12H2O\":\n",
    "        state.set(\"Na2(HPO4):12H2O\", 10.00, \"mol\")\n",
    "    if tag == \"Na2(HPO4)-7H2O\":\n",
    "        state.set(\"Na2(HPO4):7H2O\", 10.00, \"mol\")\n",
    "    if tag == \"Na2(HPO4)-2H2O\":\n",
    "        state.set(\"Na2(HPO4):2H2O\", 10.00, \"mol\")\n",
    "\n",
    "    # All the sodium minerals\n",
    "    #state.set(\"Natron\", 10.00, \"mol\")       # Na2CO3:10H2O\n",
    "    state.set(\"Nahcolite\", 10.00, \"mol\")   # NaHCO3 (works better then Natron)\n",
    "    #state.set(\"Trona\", 10.00, \"mol\")       # Na3H(CO3)2:2H2O (convergese the worst of the above)\n",
    "    #state.set(\"Na2CO3:H2O\", 10.00, \"mol\")\n",
    "    #state.set(\"Na2CO3:7H2O\", 10.00, \"mol\")\n",
    "\n",
    "    res = solver.solve(state, conditions)\n",
    "\n",
    "    if not res.optima.succeeded:\n",
    "        print(f\"ERROR: The optimization solver hasn't converged for T = {T} C and ppCO2 = {ppCO2}\")\n",
    "        return nan, nan\n",
    "\n",
    "    props.update(state)\n",
    "    aprops.update(state)\n",
    "\n",
    "    pH = aprops.pH()[0]\n",
    "    moleP = props.elementAmountInPhase(\"P\", \"AqueousPhase\")[0]\n",
    "\n",
    "    if pH < 5 or pH > 13:\n",
    "        return nan, nan\n",
    "    else:\n",
    "        return pH, moleP"
   ]
  },
  {
   "cell_type": "code",
   "execution_count": null,
   "id": "8a4f7d79",
   "metadata": {
    "lines_to_next_cell": 1
   },
   "outputs": [],
   "source": [
    "def equilibrate_Na_Cl_HCO3_CO3_HPO4(T, ppCO2):\n",
    "\n",
    "    conditions.temperature(T, \"celsius\")\n",
    "    conditions.pressure(1.0, \"bar\")\n",
    "    conditions.fugacity(\"CO2\", 10**(ppCO2), 'bar')\n",
    "\n",
    "    state = ChemicalState(system)\n",
    "    state.set(\"H2O\", 1.0, \"kg\")\n",
    "    state.set(\"CO2\", 100, \"mol\")\n",
    "\n",
    "    # All the Phosphat species\n",
    "    if tag == \"Na2(HPO4)-12H2O\":\n",
    "        state.set(\"Na2(HPO4):12H2O\", 10.00, \"mol\")\n",
    "    if tag == \"Na2(HPO4)-7H2O\":\n",
    "        state.set(\"Na2(HPO4):7H2O\", 10.00, \"mol\")\n",
    "    if tag == \"Na2(HPO4)-2H2O\":\n",
    "        state.set(\"Na2(HPO4):2H2O\", 10.00, \"mol\")\n",
    "\n",
    "    # All the sodium minerals\n",
    "    #state.set(\"Natron\", 10.00, \"mol\")       # Na2CO3:10H2O\n",
    "    state.set(\"Nahcolite\", 10.00, \"mol\")   # NaHCO3\n",
    "    #state.set(\"Trona\", 10.00, \"mol\")       # Na3H(CO3)2:2H2O\n",
    "    #state.set(\"Na2CO3:H2O\", 10.00, \"mol\")\n",
    "    #state.set(\"Na2CO3:7H2O\", 10.00, \"mol\")\n",
    "    state.set(\"Halite\", 10.00, \"mol\")\n",
    "\n",
    "    res = solver.solve(state, conditions)\n",
    "\n",
    "    if not res.optima.succeeded:\n",
    "        print(f\"ERROR: The optimization solver hasn't converged for T = {T} C and ppCO2 = {ppCO2}\")\n",
    "        return nan, nan\n",
    "\n",
    "    props.update(state)\n",
    "    aprops.update(state)\n",
    "\n",
    "    pH = aprops.pH()[0]\n",
    "    moleP = props.elementAmountInPhase(\"P\", \"AqueousPhase\")[0]\n",
    "\n",
    "    if pH < 5 or pH > 13:\n",
    "        return nan, nan\n",
    "    else:\n",
    "        return pH, moleP"
   ]
  },
  {
   "cell_type": "code",
   "execution_count": null,
   "id": "8cd9966c",
   "metadata": {},
   "outputs": [],
   "source": [
    "num_temperatures = 101\n",
    "num_ppressures = 2\n",
    "temperatures = np.linspace(0, 50.0, num=num_temperatures)\n",
    "co2ppressures = np.linspace(-3.5, 0.0, num=num_ppressures)"
   ]
  },
  {
   "cell_type": "markdown",
   "id": "c75c627e",
   "metadata": {},
   "source": [
    "data_size = 2\n",
    "data0  = np.zeros((num_temperatures, data_size+1))\n",
    "data35 = np.zeros((num_temperatures, data_size+1))\n",
    "\n",
    "for i in range(0, num_temperatures):\n",
    "    # ppCO2 = -3.5\n",
    "    result = equilibrate_Na_HPO4(temperatures[i], co2ppressures[0])\n",
    "    #print(result)\n",
    "    #input()\n",
    "    if result != \"ERROR\":\n",
    "        data35[i, 0] = temperatures[i]\n",
    "        data35[i, 1] = result[0]\n",
    "        data35[i, 2] = result[1]\n",
    "\n",
    "    # ppCO2 = 0.0\n",
    "    result = equilibrate_Na_HPO4(temperatures[i], co2ppressures[1])\n",
    "    #input()\n",
    "    if result != \"ERROR\":\n",
    "        data0[i, 0] = temperatures[i]\n",
    "        data0[i, 1] = result[0]\n",
    "        data0[i, 2] = result[1]\n",
    "\n",
    "np.savetxt(results_folder + '/data0-' + tag + '.txt', data0)\n",
    "np.savetxt(results_folder + '/data35-' + tag + '.txt', data35)\n",
    "\n",
    "import matplotlib.pyplot as plt\n",
    "colors = ['C1', 'C2', 'C3', 'C4', 'C5', 'C7', 'C8', 'C9']\n",
    "\n",
    "plt.figure()\n",
    "plt.plot(temperatures, data0[:, 1], label=f'ppCO2 = 0', color=colors[0])\n",
    "plt.plot(temperatures, data35[:, 1], label=f'ppCO2 = -3.5', color=colors[1])\n",
    "\n",
    "plt.legend(loc=\"best\")\n",
    "plt.xlabel('ppCO2')\n",
    "plt.ylabel('pH [-]')\n",
    "plt.grid()\n",
    "plt.savefig(results_folder + '/' + 'pH-vs-ppCO2-pure-' + tag + '.png', bbox_inches='tight')\n",
    "plt.close()\n",
    "\n",
    "plt.figure()\n",
    "plt.plot(temperatures, data0[:, 2], label=f'ppCO2 = 0', color=colors[2])\n",
    "plt.plot(temperatures, data35[:, 2], label=f'ppCO2 = -3.5', color=colors[3])\n",
    "plt.legend(loc=\"best\")\n",
    "plt.xlabel('ppCO2')\n",
    "plt.ylabel('Amount of P [mole]')\n",
    "plt.grid()\n",
    "plt.savefig(results_folder + '/' + 'moleP-vs-ppCO2-pure' + tag + '.png', bbox_inches='tight')\n",
    "plt.close()\n",
    "\n",
    "data0Na2HPO42H2O = np.loadtxt(results_folder + '/data0-Na2(HPO4)-2H2O.txt')\n",
    "data0Na2HPO47H2O = np.loadtxt(results_folder + '/data0-Na2(HPO4)-7H2O.txt')\n",
    "data0Na2HPO412H2O = np.loadtxt(results_folder + '/data0-Na2(HPO4)-12H2O.txt')\n",
    "\n",
    "data35Na2HPO42H2O = np.loadtxt(results_folder + '/data35-Na2(HPO4)-2H2O.txt')\n",
    "data35Na2HPO47H2O = np.loadtxt(results_folder + '/data35-Na2(HPO4)-7H2O.txt')\n",
    "data35Na2HPO412H2O = np.loadtxt(results_folder + '/data35-Na2(HPO4)-12H2O.txt')\n",
    "\n",
    "# plt.figure()\n",
    "# plt.plot(data0[:, 0], data0Na2HPO42H2O[:, 1], label=f'Na2(HPO4)-2H2O, ppCO2 = 0', color=colors[1])\n",
    "# plt.plot(data0[:, 0], data0Na2HPO42H2O[:, 1], label=f'Na2(HPO4)-7H2O, ppCO2 = 0', color=colors[2])\n",
    "# plt.plot(data0[:, 0], data0Na2HPO42H2O[:, 1], label=f'Na2(HPO4)-2H2O, ppCO2 = 0', color=colors[3])\n",
    "# plt.plot(data0[:, 0], data35Na2HPO42H2O[:, 1], label=f'Na2(HPO4)-2H2O, ppCO2 = -3.5', color=colors[1])\n",
    "# plt.plot(data0[:, 0], data35Na2HPO42H2O[:, 1], label=f'Na2(HPO4)-7H2O, ppCO2 = -3.5', color=colors[2])\n",
    "# plt.plot(data0[:, 0], data35Na2HPO42H2O[:, 1], label=f'Na2(HPO4)-2H2O, ppCO2 = -3.5', color=colors[3])\n",
    "# plt.legend(loc=\"best\")\n",
    "# plt.xlabel('ppCO2')\n",
    "# plt.ylabel('pH [-]')\n",
    "# plt.grid()\n",
    "# plt.savefig(results_folder + '/' + 'pH-vs-ppCO2-Na2(HPO4)-xH2O.png', bbox_inches='tight')\n",
    "# plt.close()\n",
    "\n",
    "plt.figure()\n",
    "plt.plot(data0[:, 0], data0Na2HPO42H2O[:, 2], label=f'Na2(HPO4)-2H2O, ppCO2 = 0', color=colors[1])\n",
    "plt.plot(data0[:, 0], data0Na2HPO47H2O[:, 2], label=f'Na2(HPO4)-7H2O, ppCO2 = 0', color=colors[2])\n",
    "plt.plot(data0[:, 0], data0Na2HPO412H2O[:, 2], label=f'Na2(HPO4)-2H2O, ppCO2 = 0', color=colors[3])\n",
    "plt.plot(data0[:, 0], data35Na2HPO42H2O[:, 2], label=f'Na2(HPO4)-2H2O, ppCO2 = -3.5', color=colors[1], linestyle='dashed')\n",
    "plt.plot(data0[:, 0], data35Na2HPO47H2O[:, 2], label=f'Na2(HPO4)-7H2O, ppCO2 = -3.5', color=colors[2], linestyle='dashed')\n",
    "plt.plot(data0[:, 0], data35Na2HPO412H2O[:, 2], label=f'Na2(HPO4)-2H2O, ppCO2 = -3.5', color=colors[3], linestyle='dashed')\n",
    "plt.legend(loc=\"best\")\n",
    "plt.xlabel('ppCO2')\n",
    "plt.ylabel('pH [-]')\n",
    "plt.grid()\n",
    "plt.savefig(results_folder + '/' + 'moleP-vs-ppCO2-Na2(HPO4)-xH2O.png', bbox_inches='tight')\n",
    "plt.close()"
   ]
  },
  {
   "cell_type": "markdown",
   "id": "ee675ca4",
   "metadata": {},
   "source": [
    "#################################################################################"
   ]
  },
  {
   "cell_type": "code",
   "execution_count": null,
   "id": "bb978d4d",
   "metadata": {},
   "outputs": [],
   "source": [
    "data_size = 2\n",
    "data0  = np.zeros((num_temperatures, data_size+1))\n",
    "data35 = np.zeros((num_temperatures, data_size+1))"
   ]
  },
  {
   "cell_type": "code",
   "execution_count": null,
   "id": "4d2ed745",
   "metadata": {},
   "outputs": [],
   "source": [
    "for i in range(0, num_temperatures):\n",
    "    # ppCO2 = -3.5\n",
    "    result = equilibrate_Na_Cl_HCO3_CO3_HPO4(temperatures[i], co2ppressures[0])\n",
    "    #print(result)\n",
    "    #input()\n",
    "    if result != \"ERROR\":\n",
    "        data35[i, 0] = temperatures[i]\n",
    "        data35[i, 1] = result[0]\n",
    "        data35[i, 2] = result[1]\n",
    "\n",
    "    # ppCO2 = 0.0\n",
    "    result = equilibrate_Na_Cl_HCO3_CO3_HPO4(temperatures[i], co2ppressures[1])\n",
    "    #input()\n",
    "    if result != \"ERROR\":\n",
    "        data0[i, 0] = temperatures[i]\n",
    "        data0[i, 1] = result[0]\n",
    "        data0[i, 2] = result[1]"
   ]
  },
  {
   "cell_type": "code",
   "execution_count": null,
   "id": "626bb199",
   "metadata": {},
   "outputs": [],
   "source": [
    "np.savetxt(results_folder + '/data0-Na-Cl-HCO3-CO3-HPO4-' + tag + '.txt', data0)\n",
    "np.savetxt(results_folder + '/data35-Na-Cl-HCO3-CO3-HPO4-' + tag + '.txt', data35)"
   ]
  },
  {
   "cell_type": "code",
   "execution_count": null,
   "id": "9ab11d57",
   "metadata": {},
   "outputs": [],
   "source": [
    "import matplotlib.pyplot as plt\n",
    "colors = ['C1', 'C2', 'C3', 'C4', 'C5', 'C7', 'C8', 'C9']"
   ]
  },
  {
   "cell_type": "code",
   "execution_count": null,
   "id": "61602362",
   "metadata": {},
   "outputs": [],
   "source": [
    "plt.figure()\n",
    "plt.plot(temperatures, data0[:, 1], label=f'ppCO2 = 0', color=colors[0])\n",
    "plt.plot(temperatures, data35[:, 1], label=f'ppCO2 = -3.5', color=colors[1])"
   ]
  },
  {
   "cell_type": "code",
   "execution_count": null,
   "id": "2e46d5d2",
   "metadata": {},
   "outputs": [],
   "source": [
    "plt.legend(loc=\"best\")\n",
    "plt.xlabel('T [degC]')\n",
    "plt.ylabel('pH [-]')\n",
    "plt.grid()\n",
    "plt.savefig(results_folder + '/' + 'pH-vs-ppCO2-Na-Cl-HCO3-CO3-HPO4-' + tag + '.png', bbox_inches='tight')\n",
    "plt.close()"
   ]
  },
  {
   "cell_type": "code",
   "execution_count": null,
   "id": "afd73ad1",
   "metadata": {},
   "outputs": [],
   "source": [
    "plt.figure()\n",
    "plt.plot(temperatures, data0[:, 2], label=f'ppCO2 = 0', color=colors[2])\n",
    "plt.plot(temperatures, data35[:, 2], label=f'ppCO2 = -3.5', color=colors[3])\n",
    "plt.yscale('log')\n",
    "plt.legend(loc=\"best\")\n",
    "plt.xlabel('T [degC]')\n",
    "plt.ylabel('Amount of P [mole]')\n",
    "plt.grid()\n",
    "plt.savefig(results_folder + '/' + 'moleP-vs-ppCO2-Na-Cl-HCO3-CO3-HPO4-' + tag + '.png', bbox_inches='tight')\n",
    "plt.close()"
   ]
  },
  {
   "cell_type": "markdown",
   "id": "1cf4755e",
   "metadata": {},
   "source": [
    "###########################################################################################################"
   ]
  },
  {
   "cell_type": "markdown",
   "id": "d12513b6",
   "metadata": {},
   "source": [
    "data_size = 2\n",
    "data0  = np.zeros((num_temperatures, data_size+1))\n",
    "data35 = np.zeros((num_temperatures, data_size+1))\n",
    "\n",
    "for i in range(0, num_temperatures):\n",
    "    # ppCO2 = -3.5\n",
    "    result = equilibrate_Na_HCO3_CO3_HPO4(temperatures[i], co2ppressures[0])\n",
    "    if result != \"ERROR\":\n",
    "        data35[i, 0] = temperatures[i]\n",
    "        data35[i, 1] = result[0]\n",
    "        data35[i, 2] = result[1]\n",
    "\n",
    "    # ppCO2 = 0.0\n",
    "    result = equilibrate_Na_HCO3_CO3_HPO4(temperatures[i], co2ppressures[1])\n",
    "    if result != \"ERROR\":\n",
    "        data0[i, 0] = temperatures[i]\n",
    "        data0[i, 1] = result[0]\n",
    "        data0[i, 2] = result[1]\n",
    "\n",
    "np.savetxt(results_folder + '/data0-Na-HCO3-CO3-HPO4-' + tag + '.txt', data0)\n",
    "np.savetxt(results_folder + '/data35-Na-HCO3-CO3-HPO4-' + tag + '.txt', data35)\n",
    "\n",
    "import matplotlib.pyplot as plt\n",
    "colors = ['C1', 'C2', 'C3', 'C4', 'C5', 'C7', 'C8', 'C9']\n",
    "\n",
    "plt.figure()\n",
    "plt.plot(temperatures, data0[:, 1], label=f'ppCO2 = 0', color=colors[0])\n",
    "plt.plot(temperatures, data35[:, 1], label=f'ppCO2 = -3.5', color=colors[1])\n",
    "\n",
    "plt.legend(loc=\"best\")\n",
    "plt.xlabel('T [degC]')\n",
    "plt.ylabel('pH [-]')\n",
    "plt.grid()\n",
    "plt.savefig(results_folder + '/' + 'pH-vs-ppCO2-Na-HCO3-CO3-HPO4-' + tag + '.png', bbox_inches='tight')\n",
    "plt.close()\n",
    "\n",
    "plt.figure()\n",
    "plt.plot(temperatures, data0[:, 2], label=f'ppCO2 = 0', color=colors[2])\n",
    "plt.plot(temperatures, data35[:, 2], label=f'ppCO2 = -3.5', color=colors[3])\n",
    "plt.yscale('log')\n",
    "plt.legend(loc=\"best\")\n",
    "plt.xlabel('T [degC]')\n",
    "plt.ylabel('Amount of P [mole]')\n",
    "plt.grid()\n",
    "plt.savefig(results_folder + '/' + 'moleP-vs-ppCO2-Na-HCO3-CO3-HPO4-' + tag + '.png', bbox_inches='tight')\n",
    "plt.close()"
   ]
  },
  {
   "cell_type": "markdown",
   "id": "e280685a",
   "metadata": {},
   "source": [
    "###########################################################################################################"
   ]
  },
  {
   "cell_type": "code",
   "execution_count": null,
   "id": "15714daf",
   "metadata": {},
   "outputs": [],
   "source": [
    "import matplotlib.pyplot as plt\n",
    "colors = ['C1', 'C2', 'C3', 'C4', 'C5', 'C7', 'C8', 'C9']"
   ]
  },
  {
   "cell_type": "code",
   "execution_count": null,
   "id": "e08723b7",
   "metadata": {},
   "outputs": [],
   "source": [
    "data0Na2HPO42H2O = np.loadtxt(results_folder + '/data0-Na2(HPO4)-2H2O.txt')\n",
    "data0Na2HPO47H2O = np.loadtxt(results_folder + '/data0-Na2(HPO4)-7H2O.txt')\n",
    "data0Na2HPO412H2O = np.loadtxt(results_folder + '/data0-Na2(HPO4)-12H2O.txt')"
   ]
  },
  {
   "cell_type": "code",
   "execution_count": null,
   "id": "d0cc93d9",
   "metadata": {},
   "outputs": [],
   "source": [
    "data35Na2HPO42H2O = np.loadtxt(results_folder + '/data35-Na2(HPO4)-2H2O.txt')\n",
    "data35Na2HPO47H2O = np.loadtxt(results_folder + '/data35-Na2(HPO4)-7H2O.txt')\n",
    "data35Na2HPO412H2O = np.loadtxt(results_folder + '/data35-Na2(HPO4)-12H2O.txt')"
   ]
  },
  {
   "cell_type": "code",
   "execution_count": null,
   "id": "131b056c",
   "metadata": {},
   "outputs": [],
   "source": [
    "plt.figure()\n",
    "plt.plot(data0[:, 0], data0Na2HPO42H2O[:, 2], label=f'Na2(HPO4)-2H2O, ppCO2 = 0', color=colors[1])\n",
    "plt.plot(data0[:, 0], data0Na2HPO47H2O[:, 2], label=f'Na2(HPO4)-7H2O, ppCO2 = 0', color=colors[2])\n",
    "plt.plot(data0[:, 0], data0Na2HPO412H2O[:, 2], label=f'Na2(HPO4)-12H2O, ppCO2 = 0', color=colors[3])\n",
    "plt.plot(data0[:, 0], data35Na2HPO42H2O[:, 2], label=f'Na2(HPO4)-2H2O, ppCO2 = -3.5', color=colors[1], linestyle='dashed')\n",
    "plt.plot(data0[:, 0], data35Na2HPO47H2O[:, 2], label=f'Na2(HPO4)-7H2O, ppCO2 = -3.5', color=colors[2], linestyle='dashed')\n",
    "plt.plot(data0[:, 0], data35Na2HPO412H2O[:, 2], label=f'Na2(HPO4)-12H2O, ppCO2 = -3.5', color=colors[3], linestyle='dashed')\n",
    "plt.legend(loc=\"best\")\n",
    "plt.xlabel('ppCO2')\n",
    "plt.ylabel('Amount P [mol]')\n",
    "plt.grid()\n",
    "plt.savefig(results_folder + '/' + 'moleP-vs-ppCO2-Na2(HPO4)-xH2O.png', bbox_inches='tight')\n",
    "plt.close()"
   ]
  },
  {
   "cell_type": "code",
   "execution_count": null,
   "id": "1a143727",
   "metadata": {},
   "outputs": [],
   "source": [
    "data0NaClNa2HPO42H2O = np.loadtxt(results_folder + '/data0-Na-Cl-HCO3-CO3-HPO4-Na2(HPO4)-2H2O.txt')\n",
    "data0NaClNa2HPO47H2O = np.loadtxt(results_folder + '/data0-Na-Cl-HCO3-CO3-HPO4-Na2(HPO4)-7H2O.txt')\n",
    "data0NaClNa2HPO412H2O = np.loadtxt(results_folder + '/data0-Na-Cl-HCO3-CO3-HPO4-Na2(HPO4)-12H2O.txt')"
   ]
  },
  {
   "cell_type": "code",
   "execution_count": null,
   "id": "9d26f31b",
   "metadata": {},
   "outputs": [],
   "source": [
    "data35NaClNa2HPO42H2O = np.loadtxt(results_folder + '/data35-Na-Cl-HCO3-CO3-HPO4-Na2(HPO4)-2H2O.txt')\n",
    "data35NaClNa2HPO47H2O = np.loadtxt(results_folder + '/data35-Na-Cl-HCO3-CO3-HPO4-Na2(HPO4)-7H2O.txt')\n",
    "data35NaClNa2HPO412H2O = np.loadtxt(results_folder + '/data35-Na-Cl-HCO3-CO3-HPO4-Na2(HPO4)-12H2O.txt')"
   ]
  },
  {
   "cell_type": "code",
   "execution_count": null,
   "id": "0ba6912c",
   "metadata": {},
   "outputs": [],
   "source": [
    "plt.figure()\n",
    "plt.plot(data0[:, 0], data0NaClNa2HPO42H2O[:, 2], label=f'Na2(HPO4)-2H2O, ppCO2 = 0', color=colors[1])\n",
    "plt.plot(data0[:, 0], data0NaClNa2HPO47H2O[:, 2], label=f'Na2(HPO4)-7H2O, ppCO2 = 0', color=colors[2])\n",
    "plt.plot(data0[:, 0], data0Na2HPO412H2O[:, 2], label=f'Na2(HPO4)-12H2O, ppCO2 = 0', color=colors[3])\n",
    "plt.plot(data0[:, 0], data35NaClNa2HPO42H2O[:, 2], label=f'Na2(HPO4)-2H2O, ppCO2 = -3.5', color=colors[1], linestyle='dashed')\n",
    "plt.plot(data0[:, 0], data35NaClNa2HPO47H2O[:, 2], label=f'Na2(HPO4)-7H2O, ppCO2 = -3.5', color=colors[2], linestyle='dashed')\n",
    "plt.plot(data0[:, 0], data35Na2HPO412H2O[:, 2], label=f'Na2(HPO4)-12H2O, ppCO2 = -3.5', color=colors[3], linestyle='dashed')\n",
    "plt.legend(loc=\"best\")\n",
    "plt.xlabel('ppCO2')\n",
    "plt.ylabel('Amount P [mol]')\n",
    "plt.grid()\n",
    "plt.savefig(results_folder + '/' + 'moleP-vs-ppCO2-Na-Cl-HCO3-CO3-HPO4-Na2(HPO4)-xH2O.png', bbox_inches='tight')\n",
    "plt.close()"
   ]
  },
  {
   "cell_type": "code",
   "execution_count": null,
   "id": "50633e75",
   "metadata": {},
   "outputs": [],
   "source": [
    "data0NaNa2HPO42H2O = np.loadtxt(results_folder + '/data0-Na-HCO3-CO3-HPO4-Na2(HPO4)-2H2O.txt')\n",
    "data0NaNa2HPO47H2O = np.loadtxt(results_folder + '/data0-Na-HCO3-CO3-HPO4-Na2(HPO4)-7H2O.txt')\n",
    "data0NaNa2HPO412H2O = np.loadtxt(results_folder + '/data0-Na-HCO3-CO3-HPO4-Na2(HPO4)-12H2O.txt')"
   ]
  },
  {
   "cell_type": "code",
   "execution_count": null,
   "id": "de3f3387",
   "metadata": {},
   "outputs": [],
   "source": [
    "data35NaNa2HPO42H2O = np.loadtxt(results_folder + '/data35-Na-HCO3-CO3-HPO4-Na2(HPO4)-2H2O.txt')\n",
    "data35NaNa2HPO47H2O = np.loadtxt(results_folder + '/data35-Na-HCO3-CO3-HPO4-Na2(HPO4)-7H2O.txt')\n",
    "data35NaNa2HPO412H2O = np.loadtxt(results_folder + '/data35-Na-HCO3-CO3-HPO4-Na2(HPO4)-12H2O.txt')"
   ]
  },
  {
   "cell_type": "code",
   "execution_count": null,
   "id": "3423c673",
   "metadata": {
    "lines_to_next_cell": 2
   },
   "outputs": [],
   "source": [
    "plt.figure()\n",
    "plt.plot(data0[:, 0], data0Na2HPO42H2O[:, 2], label=f'Na2(HPO4)-2H2O, ppCO2 = 0', color=colors[1])\n",
    "plt.plot(data0[:, 0], data0NaNa2HPO47H2O[:, 2], label=f'Na2(HPO4)-7H2O, ppCO2 = 0', color=colors[2])\n",
    "plt.plot(data0[:, 0], data0NaNa2HPO412H2O[:, 2], label=f'Na2(HPO4)-12H2O, ppCO2 = 0', color=colors[3])\n",
    "plt.plot(data0[:, 0], data35Na2HPO42H2O[:, 2], label=f'Na2(HPO4)-2H2O, ppCO2 = -3.5', color=colors[1], linestyle='dashed')\n",
    "plt.plot(data0[:, 0], data35NaNa2HPO47H2O[:, 2], label=f'Na2(HPO4)-7H2O, ppCO2 = -3.5', color=colors[2], linestyle='dashed')\n",
    "plt.plot(data0[:, 0], data35NaNa2HPO412H2O[:, 2], label=f'Na2(HPO4)-12H2O, ppCO2 = -3.5', color=colors[3], linestyle='dashed')\n",
    "plt.legend(loc=\"best\")\n",
    "plt.xlabel('ppCO2')\n",
    "plt.ylabel('Amount P [mol]')\n",
    "plt.grid()\n",
    "plt.savefig(results_folder + '/' + 'moleP-vs-ppCO2-Na-HCO3-CO3-HPO4-Na2(HPO4)-xH2O.png', bbox_inches='tight')\n",
    "plt.close()"
   ]
  },
  {
   "cell_type": "markdown",
   "id": "e383243a",
   "metadata": {},
   "source": [
    "plt.figure()\n",
    "plt.plot(data0[:, 0], data0NaClNa2HPO42H2O[:, 2], label=f'Na2(HPO4)-2H2O, ppCO2 = 0', color='black')\n",
    "plt.plot(data0[:, 0], data0NaClNa2HPO47H2O[:, 2], label=f'Na2(HPO4)-7H2O, ppCO2 = 0', color='grey')\n",
    "plt.plot(data0[:, 0], data35NaClNa2HPO42H2O[:, 2], label=f'Na2(HPO4)-2H2O, ppCO2 = -3.5', color='black', linestyle='dashed')\n",
    "plt.plot(data0[:, 0], data35NaClNa2HPO47H2O[:, 2], label=f'Na2(HPO4)-7H2O, ppCO2 = -3.5', color='grey', linestyle='dashed')\n",
    "\n",
    "plt.plot(data0[:, 0], data0NaNa2HPO42H2O[:, 2], label=f'Na2(HPO4)-2H2O, ppCO2 = 0', color='red')\n",
    "plt.plot(data0[:, 0], data0NaNa2HPO47H2O[:, 2], label=f'Na2(HPO4)-7H2O, ppCO2 = 0', color='pink')\n",
    "plt.plot(data0[:, 0], data35NaNa2HPO42H2O[:, 2], label=f'Na2(HPO4)-2H2O, ppCO2 = -3.5', color='red', linestyle='dashed')\n",
    "plt.plot(data0[:, 0], data35NaNa2HPO47H2O[:, 2], label=f'Na2(HPO4)-7H2O, ppCO2 = -3.5', color='pink', linestyle='dashed')\n",
    "#plt.plot(data0[:, 0], data35Na2HPO412H2O[:, 2], label=f'Na2(HPO4)-2H2O, ppCO2 = -3.5', color=colors[3], linestyle='dashed')\n",
    "plt.legend(loc=\"best\")\n",
    "plt.xlabel('ppCO2')\n",
    "plt.ylabel('Amount P [mol]')\n",
    "plt.grid()\n",
    "plt.savefig(results_folder + '/' + 'moleP-vs-ppCO2-Na2(HPO4)-xH2O-paper.png', bbox_inches='tight')"
   ]
  },
  {
   "cell_type": "code",
   "execution_count": null,
   "id": "c7dc5f8e",
   "metadata": {},
   "outputs": [],
   "source": [
    "plt.figure()\n",
    "plt.plot(data0[:, 0], np.minimum(data0NaClNa2HPO42H2O[:, 2], data0NaClNa2HPO47H2O[:, 2]), label=f'Na-Cl-HCO3-CO3-HPO4-xH2O, ppCO2 = 0', color='black')\n",
    "plt.plot(data0[:, 0], np.minimum(data35NaClNa2HPO42H2O[:, 2], data35NaClNa2HPO42H2O[:, 2]), label=f'Na-Cl-HCO3-CO3-HPO4-xH2O, ppCO2 = -3.5', color='black', linestyle='dashed')"
   ]
  },
  {
   "cell_type": "code",
   "execution_count": null,
   "id": "35617025",
   "metadata": {},
   "outputs": [],
   "source": [
    "plt.plot(data0[:, 0], np.minimum(data0NaNa2HPO42H2O[:, 2], data0NaNa2HPO47H2O[:, 2]), label=f'Na-HCO3-CO3-HPO4-xH2O, ppCO2 = 0', color='red')\n",
    "plt.plot(data0[:, 0], np.minimum(data35NaNa2HPO42H2O[:, 2], data35NaNa2HPO47H2O[:, 2]), label=f'Na-HCO3-CO3-HPO4-xH2O, ppCO2 = -3.5', color='red', linestyle='dashed')"
   ]
  },
  {
   "cell_type": "code",
   "execution_count": null,
   "id": "c33d1ace",
   "metadata": {},
   "outputs": [],
   "source": [
    "plt.legend(loc=\"best\")\n",
    "plt.xlabel('ppCO2')\n",
    "plt.ylabel('Amount P [mol]')\n",
    "plt.grid()\n",
    "plt.savefig(results_folder + '/' + 'moleP-vs-ppCO2-Na2(HPO4)-xH2O-paper.png', bbox_inches='tight')\n",
    "plt.close()"
   ]
  },
  {
   "cell_type": "code",
   "execution_count": null,
   "id": "0be13856",
   "metadata": {},
   "outputs": [],
   "source": [
    "plt.figure()\n",
    "plt.plot(data0[:, 0], np.maximum(data0NaClNa2HPO42H2O[:, 2], data0NaClNa2HPO47H2O[:, 2]), label=f'Na-Cl-HCO3-CO3-HPO4-xH2O, ppCO2 = 0', color='black')\n",
    "plt.plot(data0[:, 0], np.maximum(data35NaClNa2HPO42H2O[:, 2], data35NaClNa2HPO42H2O[:, 2]), label=f'Na-Cl-HCO3-CO3-HPO4-xH2O, ppCO2 = -3.5', color='black', linestyle='dashed')"
   ]
  },
  {
   "cell_type": "code",
   "execution_count": null,
   "id": "61800b82",
   "metadata": {},
   "outputs": [],
   "source": [
    "plt.plot(data0[:, 0], np.maximum(data0NaNa2HPO42H2O[:, 2], data0NaNa2HPO47H2O[:, 2]), label=f'Na-HCO3-CO3-HPO4-xH2O, ppCO2 = 0', color='red')\n",
    "plt.plot(data0[:, 0], np.maximum(data35NaNa2HPO42H2O[:, 2], data35NaNa2HPO47H2O[:, 2]), label=f'Na-HCO3-CO3-HPO4-xH2O, ppCO2 = -3.5', color='red', linestyle='dashed')"
   ]
  },
  {
   "cell_type": "code",
   "execution_count": null,
   "id": "e58924f5",
   "metadata": {},
   "outputs": [],
   "source": [
    "plt.legend(loc=\"best\")\n",
    "plt.xlabel('ppCO2')\n",
    "plt.ylabel('Amount P [mol]')\n",
    "plt.grid()\n",
    "plt.savefig(results_folder + '/' + 'moleP-vs-ppCO2-Na2(HPO4)-xH2O-max-paper.png', bbox_inches='tight')\n",
    "plt.close()"
   ]
  }
 ],
 "metadata": {},
 "nbformat": 4,
 "nbformat_minor": 5
}
