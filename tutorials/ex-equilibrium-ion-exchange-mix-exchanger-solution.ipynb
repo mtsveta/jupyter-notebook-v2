{
 "cells": [
  {
   "cell_type": "markdown",
   "id": "9ae6793a",
   "metadata": {},
   "source": [
    "Reaktoro is a unified framework for modeling chemically reactive systems.\n",
    "\n",
    "Copyright © 2014-2021 Allan Leal\n",
    "\n",
    "This library is free software; you can redistribute it and/or\n",
    "modify it under the terms of the GNU Lesser General Public\n",
    "License as published by the Free Software Foundation; either\n",
    "version 2.1 of the License, or (at your option) any later version.\n",
    "\n",
    "This library is distributed in the hope that it will be useful,\n",
    "but WITHOUT ANY WARRANTY; without even the implied warranty of\n",
    "MERCHANTABILITY or FITNESS FOR A PARTICULAR PURPOSE. See the GNU\n",
    "Lesser General Public License for more details.\n",
    "\n",
    "You should have received a copy of the GNU Lesser General Public License\n",
    "along with this library. If not, see <http://www.gnu.org/licenses/>."
   ]
  },
  {
   "cell_type": "markdown",
   "id": "876ee0da",
   "metadata": {
    "lines_to_next_cell": 2
   },
   "source": [
    "-----------------------------------------------------------------------------\n",
    "👏 Acknowledgements 👏\n",
    "-----------------------------------------------------------------------------\n",
    "This example was originally authored by:\n",
    "  • Svetlana Kyas (28 October 2021)\n",
    "\n",
    "and since revised by:\n",
    "  •\n",
    "-----------------------------------------------------------------------------"
   ]
  },
  {
   "cell_type": "code",
   "execution_count": null,
   "id": "db3de4ea",
   "metadata": {},
   "outputs": [],
   "source": [
    "from reaktoro import *"
   ]
  },
  {
   "cell_type": "code",
   "execution_count": null,
   "id": "743e063e",
   "metadata": {},
   "outputs": [],
   "source": [
    "db = PhreeqcDatabase(\"phreeqc.dat\")"
   ]
  },
  {
   "cell_type": "code",
   "execution_count": null,
   "id": "c7af16cd",
   "metadata": {},
   "outputs": [],
   "source": [
    "# Define an aqueous phase\n",
    "solution = AqueousPhase(\"H2O Na+ Cl- H+ OH- K+ Ca+2 Mg+2\")\n",
    "solution.setActivityModel(ActivityModelHKF())"
   ]
  },
  {
   "cell_type": "code",
   "execution_count": null,
   "id": "c0ceea0c",
   "metadata": {},
   "outputs": [],
   "source": [
    "# Define an ion exchange phase\n",
    "exchange_species = \"NaX KX CaX2\"\n",
    "exchange = IonExchangePhase(exchange_species)\n",
    "exchange.setActivityModel(ActivityModelIonExchangeGainesThomas())"
   ]
  },
  {
   "cell_type": "code",
   "execution_count": null,
   "id": "81229a80",
   "metadata": {},
   "outputs": [],
   "source": [
    "# Create chemical system\n",
    "system = ChemicalSystem(db, solution, exchange)"
   ]
  },
  {
   "cell_type": "code",
   "execution_count": null,
   "id": "2bc5292c",
   "metadata": {},
   "outputs": [],
   "source": [
    "T = 25.0 # temperature in celsius\n",
    "P = 1.0  # pressure in bar"
   ]
  },
  {
   "cell_type": "code",
   "execution_count": null,
   "id": "42b1d012",
   "metadata": {},
   "outputs": [],
   "source": [
    "# Define initial equilibrium state\n",
    "state = ChemicalState(system)\n",
    "state.setTemperature(T, \"celsius\")\n",
    "state.setPressure(P, \"bar\")\n",
    "# Take plenty of solution to imitate its equilibration\n",
    "state.setSpeciesMass(\"H2O\"  , 1.0e-9, \"kg\")\n",
    "state.setSpeciesAmount(\"Na+\", 1.2e-9, \"mmol\")\n",
    "state.setSpeciesAmount(\"Cl-\", 1.2e-9, \"mmol\")\n",
    "# Exchanger site\n",
    "state.setSpeciesAmount(\"CaX2\", 0.4065, \"mol\")\n",
    "state.setSpeciesAmount(\"KX\"  , 0.1871, \"mol\")"
   ]
  },
  {
   "cell_type": "code",
   "execution_count": null,
   "id": "8fe7ade8",
   "metadata": {},
   "outputs": [],
   "source": [
    "# Define equilibrium solver and equilibrate given initial state with input conditions\n",
    "solver = EquilibriumSolver(system)\n",
    "solver.solve(state)\n",
    "print(state)"
   ]
  },
  {
   "cell_type": "code",
   "execution_count": null,
   "id": "a69da8bb",
   "metadata": {},
   "outputs": [],
   "source": [
    "aqprops = AqueousProps(state)\n",
    "print(\"I  = %f mol/kgw\" % aqprops.ionicStrength()[0])\n",
    "print(\"pH = %f\" % aqprops.pH()[0])\n",
    "print(\"pE = %f\" % aqprops.pE()[0])"
   ]
  },
  {
   "cell_type": "code",
   "execution_count": null,
   "id": "8dfc03bc",
   "metadata": {},
   "outputs": [],
   "source": [
    "exprops = IonExchangeProps(state)\n",
    "print(exprops)"
   ]
  }
 ],
 "metadata": {},
 "nbformat": 4,
 "nbformat_minor": 5
}
