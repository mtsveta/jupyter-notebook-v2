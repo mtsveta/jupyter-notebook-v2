{
 "cells": [
  {
   "cell_type": "code",
   "execution_count": null,
   "id": "18d4902b",
   "metadata": {},
   "outputs": [],
   "source": [
    "from reaktoro import *"
   ]
  },
  {
   "cell_type": "code",
   "execution_count": null,
   "id": "f2929ca8",
   "metadata": {},
   "outputs": [],
   "source": [
    "db = PhreeqcDatabase.fromFile('../databases/phreeqc-toner-catling.dat') # if running from tutorials folder"
   ]
  },
  {
   "cell_type": "code",
   "execution_count": null,
   "id": "bbb8742d",
   "metadata": {},
   "outputs": [],
   "source": [
    "print(\"Database content:\\n---------------------\")\n",
    "for species in db.species():\n",
    "    print(species.name())"
   ]
  },
  {
   "cell_type": "code",
   "execution_count": null,
   "id": "e027a8c3",
   "metadata": {},
   "outputs": [],
   "source": [
    "solution = AqueousPhase(speciate(\"H O C Na Cl\"))\n",
    "solution.setActivityModel(chain(\n",
    "    ActivityModelHKF(),\n",
    "    ActivityModelDrummond(\"CO2\")\n",
    "))"
   ]
  },
  {
   "cell_type": "code",
   "execution_count": null,
   "id": "48ca35b9",
   "metadata": {},
   "outputs": [],
   "source": [
    "gases = GaseousPhase(\"CO2(g)\")\n",
    "gases.setActivityModel(ActivityModelPengRobinson())"
   ]
  },
  {
   "cell_type": "code",
   "execution_count": null,
   "id": "274bb4e5",
   "metadata": {},
   "outputs": [],
   "source": [
    "minerals = MineralPhases(\"Natron Nahcolite Trona Na2CO3:H2O Na2CO3:7H2O\")"
   ]
  },
  {
   "cell_type": "code",
   "execution_count": null,
   "id": "1933e4aa",
   "metadata": {},
   "outputs": [],
   "source": [
    "system = ChemicalSystem(db, solution, gases, minerals)\n",
    "print(\"Chemical system content:\\n---------------------\")\n",
    "for species in db.species():\n",
    "    print(species.name())"
   ]
  },
  {
   "cell_type": "code",
   "execution_count": null,
   "id": "7feebb6a",
   "metadata": {},
   "outputs": [],
   "source": [
    "T = 25.0 # temperature in celsius\n",
    "P = 1.0  # pressure in bar"
   ]
  },
  {
   "cell_type": "code",
   "execution_count": null,
   "id": "cfbe005b",
   "metadata": {},
   "outputs": [],
   "source": [
    "state = ChemicalState(system)\n",
    "state.temperature(T, \"celsius\")\n",
    "state.pressure(P, \"bar\")\n",
    "state.setSpeciesMass(\"H2O\"     , 1.0 , \"kg\")\n",
    "state.setSpeciesAmount(\"CO2(g)\", 10.0, \"mol\")\n",
    "state.setSpeciesAmount(\"Na+\"   , 4.00, \"mol\")\n",
    "state.setSpeciesAmount(\"Cl-\"   , 4.00, \"mol\")\n",
    "state.setSpeciesAmount(\"Natron\"     , 10.00, \"mol\")\n",
    "state.setSpeciesAmount(\"Nahcolite\"  , 10.00, \"mol\")\n",
    "state.setSpeciesAmount(\"Trona\"      , 10.00, \"mol\")\n",
    "state.setSpeciesAmount(\"Na2CO3:H2O\" , 10.00, \"mol\")\n",
    "state.setSpeciesAmount(\"Na2CO3:7H2O\", 10.00, \"mol\")"
   ]
  },
  {
   "cell_type": "code",
   "execution_count": null,
   "id": "36ea0eda",
   "metadata": {},
   "outputs": [],
   "source": [
    "solver = EquilibriumSolver(system)\n",
    "solver.solve(state)"
   ]
  },
  {
   "cell_type": "code",
   "execution_count": null,
   "id": "c39a1787",
   "metadata": {},
   "outputs": [],
   "source": [
    "props = ChemicalProps(state)\n",
    "print(props)"
   ]
  },
  {
   "cell_type": "code",
   "execution_count": null,
   "id": "c5f002fd",
   "metadata": {},
   "outputs": [],
   "source": [
    "aprops = AqueousProps(state)\n",
    "print(aprops)"
   ]
  }
 ],
 "metadata": {},
 "nbformat": 4,
 "nbformat_minor": 5
}
