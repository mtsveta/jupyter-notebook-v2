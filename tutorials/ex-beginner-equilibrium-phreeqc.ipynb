{
 "cells": [
  {
   "cell_type": "markdown",
   "id": "6d8e41de",
   "metadata": {},
   "source": [
    "Reaktoro is a unified framework for modeling chemically reactive systems.\n",
    "\n",
    "Copyright © 2014-2021 Allan Leal\n",
    "\n",
    "This library is free software; you can redistribute it and/or\n",
    "modify it under the terms of the GNU Lesser General Public\n",
    "License as published by the Free Software Foundation; either\n",
    "version 2.1 of the License, or (at your option) any later version.\n",
    "\n",
    "This library is distributed in the hope that it will be useful,\n",
    "but WITHOUT ANY WARRANTY; without even the implied warranty of\n",
    "MERCHANTABILITY or FITNESS FOR A PARTICULAR PURPOSE. See the GNU\n",
    "Lesser General Public License for more details.\n",
    "\n",
    "You should have received a copy of the GNU Lesser General Public License\n",
    "along with this library. If not, see <http://www.gnu.org/licenses/>."
   ]
  },
  {
   "cell_type": "markdown",
   "id": "a24e4c25",
   "metadata": {
    "lines_to_next_cell": 2
   },
   "source": [
    "-----------------------------------------------------------------------------\n",
    "👏 Acknowledgements 👏\n",
    "-----------------------------------------------------------------------------\n",
    "This example was originally authored by:\n",
    "  • Svetlana Kyas (29 September)\n",
    "\n",
    "and since revised by:\n",
    "  •\n",
    "-----------------------------------------------------------------------------"
   ]
  },
  {
   "cell_type": "code",
   "execution_count": null,
   "id": "1025323b",
   "metadata": {},
   "outputs": [],
   "source": [
    "from reaktoro import *"
   ]
  },
  {
   "cell_type": "code",
   "execution_count": null,
   "id": "60caefeb",
   "metadata": {},
   "outputs": [],
   "source": [
    "db = PhreeqcDatabase(\"phreeqc.dat\")"
   ]
  },
  {
   "cell_type": "code",
   "execution_count": null,
   "id": "8deee8c2",
   "metadata": {},
   "outputs": [],
   "source": [
    "solution = AqueousPhase(speciate(\"H O C Na Cl\"))\n",
    "solution.setActivityModel(chain(\n",
    "    ActivityModelHKF(),\n",
    "    ActivityModelDrummond(\"CO2\")\n",
    "))"
   ]
  },
  {
   "cell_type": "code",
   "execution_count": null,
   "id": "18e9f2b1",
   "metadata": {},
   "outputs": [],
   "source": [
    "gases = GaseousPhase(\"CO2(g)\")\n",
    "gases.setActivityModel(ActivityModelPengRobinson())"
   ]
  },
  {
   "cell_type": "code",
   "execution_count": null,
   "id": "d1d3fb86",
   "metadata": {},
   "outputs": [],
   "source": [
    "system = ChemicalSystem(db, solution, gases)"
   ]
  },
  {
   "cell_type": "code",
   "execution_count": null,
   "id": "a1c8ff9d",
   "metadata": {},
   "outputs": [],
   "source": [
    "T = 25.0 # temperature in celsius\n",
    "P = 1.0  # pressure in bar"
   ]
  },
  {
   "cell_type": "code",
   "execution_count": null,
   "id": "69ee3ad2",
   "metadata": {},
   "outputs": [],
   "source": [
    "state = ChemicalState(system)\n",
    "state.temperature(T, \"celsius\")\n",
    "state.pressure(P, \"bar\")\n",
    "state.setSpeciesMass(\"H2O\"     , 1.0 , \"kg\")\n",
    "state.setSpeciesAmount(\"CO2(g)\", 10.0, \"mol\")\n",
    "state.setSpeciesAmount(\"Na+\"   , 4.00, \"mol\")\n",
    "state.setSpeciesAmount(\"Cl-\"   , 4.00, \"mol\")"
   ]
  },
  {
   "cell_type": "code",
   "execution_count": null,
   "id": "fa3b1681",
   "metadata": {},
   "outputs": [],
   "source": [
    "solver = EquilibriumSolver(system)\n",
    "solver.solve(state)"
   ]
  },
  {
   "cell_type": "code",
   "execution_count": null,
   "id": "5315262c",
   "metadata": {},
   "outputs": [],
   "source": [
    "props = ChemicalProps(state)\n",
    "props.output(\"props.txt\")"
   ]
  },
  {
   "cell_type": "code",
   "execution_count": null,
   "id": "5f07b082",
   "metadata": {},
   "outputs": [],
   "source": [
    "aprops = AqueousProps(state)\n",
    "aprops.output(\"aprops.txt\")"
   ]
  }
 ],
 "metadata": {},
 "nbformat": 4,
 "nbformat_minor": 5
}
