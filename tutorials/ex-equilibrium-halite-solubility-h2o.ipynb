{
 "cells": [
  {
   "cell_type": "code",
   "execution_count": null,
   "id": "62b72914",
   "metadata": {},
   "outputs": [],
   "source": [
    "from reaktoro import *"
   ]
  },
  {
   "cell_type": "code",
   "execution_count": null,
   "id": "d4793424",
   "metadata": {},
   "outputs": [],
   "source": [
    "# Initialize a thermodynamic database\n",
    "db = SupcrtDatabase(\"supcrt98\")"
   ]
  },
  {
   "cell_type": "code",
   "execution_count": null,
   "id": "a34599ba",
   "metadata": {},
   "outputs": [],
   "source": [
    "# Create an aqueous phase automatically selecting all species with provided elements\n",
    "aqueousphase = AqueousPhase(speciate(\"H O Na Cl\"))\n",
    "aqueousphase.setActivityModel(ActivityModelHKF())"
   ]
  },
  {
   "cell_type": "code",
   "execution_count": null,
   "id": "5191351b",
   "metadata": {},
   "outputs": [],
   "source": [
    "# Create a gaseous phase\n",
    "mineralphase = MineralPhase(\"Halite\")"
   ]
  },
  {
   "cell_type": "code",
   "execution_count": null,
   "id": "ffe6688d",
   "metadata": {},
   "outputs": [],
   "source": [
    "# Collecting all above-defined phases\n",
    "phases = Phases(db)\n",
    "phases.add(aqueousphase)\n",
    "phases.add(mineralphase)"
   ]
  },
  {
   "cell_type": "code",
   "execution_count": null,
   "id": "2efb6ab6",
   "metadata": {},
   "outputs": [],
   "source": [
    "# Construct the chemical system\n",
    "system = ChemicalSystem(phases)"
   ]
  },
  {
   "cell_type": "code",
   "execution_count": null,
   "id": "4e938cb4",
   "metadata": {},
   "outputs": [],
   "source": [
    "# Initial amount of NaCl\n",
    "m0Halite = 100.0"
   ]
  },
  {
   "cell_type": "code",
   "execution_count": null,
   "id": "3c76866e",
   "metadata": {},
   "outputs": [],
   "source": [
    "# Define initial equilibrium state\n",
    "state = ChemicalState(system)\n",
    "state.setTemperature(25.0, \"celsius\")\n",
    "state.setPressure(1.0, \"bar\")\n",
    "state.setSpeciesMass(\"H2O(aq)\", 1.0, \"kg\")\n",
    "state.setSpeciesAmount(\"Halite\", m0Halite, \"mol\")"
   ]
  },
  {
   "cell_type": "code",
   "execution_count": null,
   "id": "7df77e2c",
   "metadata": {},
   "outputs": [],
   "source": [
    "# Define equilibrium solver and equilibrate given initial state\n",
    "solver = EquilibriumSolver(system)\n",
    "solver.solve(state)"
   ]
  },
  {
   "cell_type": "code",
   "execution_count": null,
   "id": "088ea2e5",
   "metadata": {},
   "outputs": [],
   "source": [
    "# Output chemical state into the txt-file\n",
    "state.output(\"state.txt\")"
   ]
  },
  {
   "cell_type": "code",
   "execution_count": null,
   "id": "558f78f7",
   "metadata": {},
   "outputs": [],
   "source": [
    "print(f\"Solubility of Halite in water is {(m0Halite - state.speciesAmount('Halite')) / state.speciesMass('H2O(aq)')} molal\")"
   ]
  }
 ],
 "metadata": {},
 "nbformat": 4,
 "nbformat_minor": 5
}
