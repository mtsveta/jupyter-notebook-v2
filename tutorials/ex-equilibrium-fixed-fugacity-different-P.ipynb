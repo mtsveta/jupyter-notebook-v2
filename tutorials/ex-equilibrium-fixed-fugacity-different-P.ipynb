{
 "cells": [
  {
   "cell_type": "code",
   "execution_count": null,
   "id": "803f9c1a",
   "metadata": {},
   "outputs": [],
   "source": [
    "from reaktoro import *\n",
    "import numpy as np\n",
    "import os"
   ]
  },
  {
   "cell_type": "code",
   "execution_count": null,
   "id": "2afa8d81",
   "metadata": {},
   "outputs": [],
   "source": [
    "results_folder = 'results-fixed-fugacity'\n",
    "os.system('mkdir -p ' + results_folder)"
   ]
  },
  {
   "cell_type": "code",
   "execution_count": null,
   "id": "a5416b5c",
   "metadata": {},
   "outputs": [],
   "source": [
    "db = PhreeqcDatabase(\"phreeqc.dat\")"
   ]
  },
  {
   "cell_type": "code",
   "execution_count": null,
   "id": "96fbfe58",
   "metadata": {},
   "outputs": [],
   "source": [
    "solution = AqueousPhase(speciate(\"H O C Na Cl Ca\"))\n",
    "solution.setActivityModel(chain(\n",
    "    ActivityModelHKF(),\n",
    "    ActivityModelDrummond(\"CO2\")\n",
    "))"
   ]
  },
  {
   "cell_type": "code",
   "execution_count": null,
   "id": "cfe55266",
   "metadata": {},
   "outputs": [],
   "source": [
    "mineral = MineralPhase(\"Calcite\")"
   ]
  },
  {
   "cell_type": "code",
   "execution_count": null,
   "id": "c634b129",
   "metadata": {},
   "outputs": [],
   "source": [
    "system = ChemicalSystem(db, solution, mineral)"
   ]
  },
  {
   "cell_type": "code",
   "execution_count": null,
   "id": "715fa376",
   "metadata": {},
   "outputs": [],
   "source": [
    "props = ChemicalProps(system)\n",
    "aprops = AqueousProps(system)"
   ]
  },
  {
   "cell_type": "code",
   "execution_count": null,
   "id": "3fa335e8",
   "metadata": {},
   "outputs": [],
   "source": [
    "state = ChemicalState(system)\n",
    "state.set(\"H2O\", 1.0, \"kg\")\n",
    "state.set(\"Calcite\", 10.0, \"mol\")"
   ]
  },
  {
   "cell_type": "code",
   "execution_count": null,
   "id": "b4ea373e",
   "metadata": {},
   "outputs": [],
   "source": [
    "specs = EquilibriumSpecs(system)\n",
    "specs.temperature()\n",
    "specs.pressure()\n",
    "specs.fugacity(\"CO2\")"
   ]
  },
  {
   "cell_type": "code",
   "execution_count": null,
   "id": "063d5082",
   "metadata": {},
   "outputs": [],
   "source": [
    "solver = EquilibriumSolver(specs)"
   ]
  },
  {
   "cell_type": "code",
   "execution_count": null,
   "id": "65d5dfb0",
   "metadata": {
    "lines_to_next_cell": 1
   },
   "outputs": [],
   "source": [
    "conditions = EquilibriumConditions(specs)"
   ]
  },
  {
   "cell_type": "code",
   "execution_count": null,
   "id": "7595d502",
   "metadata": {
    "lines_to_next_cell": 1
   },
   "outputs": [],
   "source": [
    "def equilibrate(T, ppCO2):\n",
    "\n",
    "    conditions.temperature(T, \"celsius\")\n",
    "    conditions.pressure(1.0, \"atm\")\n",
    "    conditions.fugacity(\"CO2\", 10**(ppCO2))\n",
    "\n",
    "    solver.solve(state, conditions)\n",
    "\n",
    "    props.update(state)\n",
    "    aprops.update(state)\n",
    "    pH = aprops.pH()[0]\n",
    "\n",
    "    return pH"
   ]
  },
  {
   "cell_type": "code",
   "execution_count": null,
   "id": "85296d98",
   "metadata": {},
   "outputs": [],
   "source": [
    "num_temperatures = 1\n",
    "num_ppressures = 101\n",
    "temperatures = np.array([50])\n",
    "#temperatures = np.flip(np.linspace(0, 50.0, num=num_temperatures))\n",
    "co2ppressures = np.linspace(-4.0, 0.0, num=num_ppressures)"
   ]
  },
  {
   "cell_type": "markdown",
   "id": "1f43d3a3",
   "metadata": {},
   "source": [
    "num_temperatures = 1 #101\n",
    "num_ppressures = 1 #106\n",
    "temperatures = np.array([50.0])\n",
    "co2ppressures = np.array([-4.0])"
   ]
  },
  {
   "cell_type": "code",
   "execution_count": null,
   "id": "ded69f48",
   "metadata": {},
   "outputs": [],
   "source": [
    "pHs = np.zeros((num_ppressures, num_temperatures))"
   ]
  },
  {
   "cell_type": "code",
   "execution_count": null,
   "id": "3409b046",
   "metadata": {},
   "outputs": [],
   "source": [
    "print(temperatures)\n",
    "print(co2ppressures)"
   ]
  },
  {
   "cell_type": "code",
   "execution_count": null,
   "id": "ff45d1cf",
   "metadata": {},
   "outputs": [],
   "source": [
    "t_couter = 0\n",
    "for t in temperatures:\n",
    "    pHs[:, t_couter] = np.array([equilibrate(t, p) for p in co2ppressures])\n",
    "    t_couter += 1"
   ]
  },
  {
   "cell_type": "code",
   "execution_count": null,
   "id": "46077bab",
   "metadata": {},
   "outputs": [],
   "source": [
    "np.savetxt(results_folder + '/pHs.txt', pHs)"
   ]
  },
  {
   "cell_type": "code",
   "execution_count": null,
   "id": "91e23a23",
   "metadata": {},
   "outputs": [],
   "source": [
    "import matplotlib.pyplot as plt\n",
    "colors = ['C1', 'C2', 'C3', 'C4', 'C5', 'C7', 'C8', 'C9']"
   ]
  },
  {
   "cell_type": "code",
   "execution_count": null,
   "id": "4e965fee",
   "metadata": {},
   "outputs": [],
   "source": [
    "plt.figure()\n",
    "for i in range(0, num_temperatures):\n",
    "    plt.plot(co2ppressures, pHs[:, i], label=f'{temperatures[i]} C', color=colors[i])\n",
    "plt.legend(loc=\"best\")\n",
    "plt.xlabel('ppCO2')\n",
    "plt.ylabel('pH [-]')\n",
    "plt.grid()\n",
    "plt.savefig(results_folder + '/' + 'pH-vs-ppCO2.png', bbox_inches='tight')\n",
    "plt.close()"
   ]
  },
  {
   "cell_type": "code",
   "execution_count": null,
   "id": "bc986db0",
   "metadata": {},
   "outputs": [],
   "source": []
  }
 ],
 "metadata": {},
 "nbformat": 4,
 "nbformat_minor": 5
}
