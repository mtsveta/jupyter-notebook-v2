{
 "cells": [
  {
   "cell_type": "code",
   "execution_count": null,
   "id": "0abcc9cc",
   "metadata": {},
   "outputs": [],
   "source": [
    "from reaktoro import *\n",
    "import numpy as np\n",
    "import os"
   ]
  },
  {
   "cell_type": "code",
   "execution_count": null,
   "id": "5d9b84c4",
   "metadata": {},
   "outputs": [],
   "source": [
    "results_folder = 'results-phrqc2-fugacity-fixed'\n",
    "os.system('mkdir -p ' + results_folder)"
   ]
  },
  {
   "cell_type": "code",
   "execution_count": null,
   "id": "ab9ea780",
   "metadata": {},
   "outputs": [],
   "source": [
    "#db = PhreeqcDatabase.fromFile('../databases/phreeqc-toner-catling.dat') # if running from tutorials folder\n",
    "db = PhreeqcDatabase.fromFile('databases/phreeqc-toner-catling.dat') # if running from tutorials folder"
   ]
  },
  {
   "cell_type": "markdown",
   "id": "99989ccc",
   "metadata": {},
   "source": [
    "print(\"Database content:\\n---------------------\")\n",
    "for species in db.species():\n",
    "    print(species.name())"
   ]
  },
  {
   "cell_type": "code",
   "execution_count": null,
   "id": "b5a5e278",
   "metadata": {},
   "outputs": [],
   "source": [
    "solution = AqueousPhase(speciate(\"H O C Na Cl\"))\n",
    "solution.setActivityModel(chain(\n",
    "    ActivityModelHKF(),\n",
    "    ActivityModelDrummond(\"CO2\")\n",
    "))"
   ]
  },
  {
   "cell_type": "code",
   "execution_count": null,
   "id": "b4d58dc1",
   "metadata": {},
   "outputs": [],
   "source": [
    "minerals = MineralPhases(\"Natron Nahcolite Trona Na2CO3:H2O Na2CO3:7H2O\")"
   ]
  },
  {
   "cell_type": "code",
   "execution_count": null,
   "id": "e4066082",
   "metadata": {},
   "outputs": [],
   "source": [
    "system = ChemicalSystem(db, solution, minerals)\n",
    "# print(\"Chemical system content:\\n---------------------\")\n",
    "# for species in db.species():\n",
    "#     print(species.name())"
   ]
  },
  {
   "cell_type": "code",
   "execution_count": null,
   "id": "204b4726",
   "metadata": {},
   "outputs": [],
   "source": [
    "props = ChemicalProps(system)\n",
    "aprops = AqueousProps(system)"
   ]
  },
  {
   "cell_type": "code",
   "execution_count": null,
   "id": "2b6f8ac2",
   "metadata": {},
   "outputs": [],
   "source": [
    "specs = EquilibriumSpecs(system)\n",
    "specs.temperature()\n",
    "specs.pressure()\n",
    "specs.fugacity(\"CO2\")"
   ]
  },
  {
   "cell_type": "code",
   "execution_count": null,
   "id": "5e500b66",
   "metadata": {},
   "outputs": [],
   "source": [
    "T = 25.0 # temperature in celsius\n",
    "P = 1.0  # pressure in bar"
   ]
  },
  {
   "cell_type": "code",
   "execution_count": null,
   "id": "b055e16f",
   "metadata": {},
   "outputs": [],
   "source": [
    "solver = EquilibriumSolver(specs)"
   ]
  },
  {
   "cell_type": "code",
   "execution_count": null,
   "id": "519be126",
   "metadata": {},
   "outputs": [],
   "source": [
    "conditions = EquilibriumConditions(specs)"
   ]
  },
  {
   "cell_type": "code",
   "execution_count": null,
   "id": "164e117d",
   "metadata": {
    "lines_to_next_cell": 1
   },
   "outputs": [],
   "source": [
    "state = ChemicalState(system)\n",
    "state.temperature(T, \"celsius\")\n",
    "state.set(\"H2O\"        ,  1.0 , \"kg\")\n",
    "state.set(\"Nahcolite\"  , 10.00, \"mol\")\n",
    "state.set(\"Natron\"     ,  0.00, \"mol\")\n",
    "state.set(\"Trona\"      ,  0.00, \"mol\")\n",
    "state.set(\"Na2CO3:H2O\" ,  0.00, \"mol\")\n",
    "state.set(\"Na2CO3:7H2O\",  0.00, \"mol\")"
   ]
  },
  {
   "cell_type": "code",
   "execution_count": null,
   "id": "aa034cff",
   "metadata": {
    "lines_to_next_cell": 1
   },
   "outputs": [],
   "source": [
    "def equilibrate(ppCO2, state0):\n",
    "\n",
    "    conditions.temperature(T, \"celsius\")\n",
    "    conditions.pressure(P, \"atm\")\n",
    "    conditions.fugacity(\"CO2\", 10**(-ppCO2))\n",
    "\n",
    "    solver.solve(state, conditions)\n",
    "\n",
    "    props.update(state)\n",
    "    aprops.update(state)\n",
    "\n",
    "    ph = aprops.pH()[0]\n",
    "    mCO3 = state.speciesAmount(\"CO3-2\")[0]\n",
    "    mHCO3 = state.speciesAmount(\"HCO3-\")[0]\n",
    "\n",
    "    return ph, mCO3, mHCO3"
   ]
  },
  {
   "cell_type": "code",
   "execution_count": null,
   "id": "f7fbe92d",
   "metadata": {},
   "outputs": [],
   "source": [
    "num_ppco2s = 71\n",
    "co2ppressures = np.flip(np.linspace(-5.0, 2.0, num=num_ppco2s))"
   ]
  },
  {
   "cell_type": "code",
   "execution_count": null,
   "id": "c98f34c7",
   "metadata": {},
   "outputs": [],
   "source": [
    "data_size = 3\n",
    "data = np.zeros((num_ppco2s, data_size+1))"
   ]
  },
  {
   "cell_type": "code",
   "execution_count": null,
   "id": "39968f9a",
   "metadata": {},
   "outputs": [],
   "source": [
    "#print(f'ppCO2   pH      CO3-2   HCO3-')\n",
    "for i in range(0, num_ppco2s):\n",
    "    result = equilibrate(co2ppressures[i], state)\n",
    "    data[i, 0] = co2ppressures[i]\n",
    "    data[i, 1] = result[0]\n",
    "    data[i, 2] = result[1]\n",
    "    data[i, 3] = result[2]\n",
    "    #print(f'{co2ppressures[i]:4.2f} {result[0]:4.2f} {result[1]:6.4e} {result[2]:6.4e}')"
   ]
  },
  {
   "cell_type": "code",
   "execution_count": null,
   "id": "1e880f11",
   "metadata": {},
   "outputs": [],
   "source": [
    "#print(data)\n",
    "np.savetxt(results_folder + '/m-data.txt', data)\n",
    "np.savetxt(results_folder + '/m-pH.txt', data[:, 1])\n",
    "np.savetxt(results_folder + '/m-mCO3.txt', data[:, 2])\n",
    "np.savetxt(results_folder + '/m-mHCO3.txt', data[:, 3])"
   ]
  },
  {
   "cell_type": "code",
   "execution_count": null,
   "id": "1adbaf48",
   "metadata": {},
   "outputs": [],
   "source": [
    "import matplotlib.pyplot as plt\n",
    "colors = ['C1', 'C2', 'C3', 'C4', 'C5', 'C7', 'C8', 'C9']"
   ]
  },
  {
   "cell_type": "code",
   "execution_count": null,
   "id": "dffefd71",
   "metadata": {},
   "outputs": [],
   "source": [
    "plt.figure()\n",
    "plt.plot(data[:, 0], data[:, 1], label=f'pH', color=colors[1])\n",
    "plt.legend(loc=\"best\")\n",
    "plt.xlabel('ppCO2')\n",
    "plt.ylabel('pH [-]')\n",
    "plt.grid()\n",
    "plt.savefig(results_folder + '/' + 'pH-vs-ppCO2.png', bbox_inches='tight')\n",
    "plt.close()"
   ]
  },
  {
   "cell_type": "code",
   "execution_count": null,
   "id": "e0fddc35",
   "metadata": {},
   "outputs": [],
   "source": [
    "plt.figure()\n",
    "plt.plot(data[:, 0], data[:, 2], label=f'CO3-2', color=colors[2])\n",
    "plt.legend(loc=\"best\")\n",
    "plt.xlabel('ppCO2')\n",
    "plt.ylabel('Amount [mol]')\n",
    "plt.grid()\n",
    "plt.savefig(results_folder + '/' + 'mCO32-vs-ppCO2.png', bbox_inches='tight')\n",
    "plt.close()"
   ]
  },
  {
   "cell_type": "code",
   "execution_count": null,
   "id": "6406a167",
   "metadata": {
    "lines_to_next_cell": 2
   },
   "outputs": [],
   "source": [
    "plt.figure()\n",
    "plt.plot(data[:, 0], data[:, 3], label=f'HCO3-', color=colors[3])\n",
    "plt.legend(loc=\"best\")\n",
    "plt.xlabel('ppCO2')\n",
    "plt.ylabel('Amount [mol]')\n",
    "plt.grid()\n",
    "plt.savefig(results_folder + '/' + 'mHCO3-vs-ppCO2.png', bbox_inches='tight')\n",
    "plt.close()"
   ]
  }
 ],
 "metadata": {},
 "nbformat": 4,
 "nbformat_minor": 5
}
