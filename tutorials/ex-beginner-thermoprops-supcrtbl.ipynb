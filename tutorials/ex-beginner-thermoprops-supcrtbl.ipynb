{
 "cells": [
  {
   "cell_type": "markdown",
   "id": "955804fb",
   "metadata": {},
   "source": [
    "Reaktoro is a unified framework for modeling chemically reactive systems.\n",
    "\n",
    "Copyright © 2014-2021 Allan Leal\n",
    "\n",
    "This library is free software; you can redistribute it and/or\n",
    "modify it under the terms of the GNU Lesser General Public\n",
    "License as published by the Free Software Foundation; either\n",
    "version 2.1 of the License, or (at your option) any later version.\n",
    "\n",
    "This library is distributed in the hope that it will be useful,\n",
    "but WITHOUT ANY WARRANTY; without even the implied warranty of\n",
    "MERCHANTABILITY or FITNESS FOR A PARTICULAR PURPOSE. See the GNU\n",
    "Lesser General Public License for more details.\n",
    "\n",
    "You should have received a copy of the GNU Lesser General Public License\n",
    "along with this library. If not, see <http://www.gnu.org/licenses/>."
   ]
  },
  {
   "cell_type": "markdown",
   "id": "7c9f41f0",
   "metadata": {
    "lines_to_next_cell": 2
   },
   "source": [
    "-----------------------------------------------------------------------------\n",
    "👏 Acknowledgements 👏\n",
    "-----------------------------------------------------------------------------\n",
    "This example was originally authored by:\n",
    "  • Allan Leal (19 July 2021)\n",
    "\n",
    "and since revised by:\n",
    "  •\n",
    "-----------------------------------------------------------------------------"
   ]
  },
  {
   "cell_type": "code",
   "execution_count": null,
   "id": "c531d37e",
   "metadata": {},
   "outputs": [],
   "source": [
    "from reaktoro import *\n",
    "from matplotlib import pyplot as plt\n",
    "import numpy as npy"
   ]
  },
  {
   "cell_type": "code",
   "execution_count": null,
   "id": "21b1ecaf",
   "metadata": {},
   "outputs": [],
   "source": [
    "db_bl = Database(\"supcrtbl.yaml\")\n",
    "db_98 = Database(\"supcrt98.yaml\")"
   ]
  },
  {
   "cell_type": "code",
   "execution_count": null,
   "id": "3024fc60",
   "metadata": {},
   "outputs": [],
   "source": [
    "H2Og_bl = db_bl.species().get(\"H2O(g)\")\n",
    "H2Og_98 = db_98.species().get(\"H2O(g)\")"
   ]
  },
  {
   "cell_type": "code",
   "execution_count": null,
   "id": "ab78ddf5",
   "metadata": {},
   "outputs": [],
   "source": [
    "CO2g_bl = db_bl.species().get(\"CO2(g)\")\n",
    "CO2g_98 = db_98.species().get(\"CO2(g)\")"
   ]
  },
  {
   "cell_type": "code",
   "execution_count": null,
   "id": "ba0476f4",
   "metadata": {},
   "outputs": [],
   "source": [
    "H2Sg_bl = db_bl.species().get(\"H2S(g)\")\n",
    "H2Sg_98 = db_98.species().get(\"H2S(g)\")"
   ]
  },
  {
   "cell_type": "code",
   "execution_count": null,
   "id": "9d75c52d",
   "metadata": {},
   "outputs": [],
   "source": [
    "P = 80.0"
   ]
  },
  {
   "cell_type": "code",
   "execution_count": null,
   "id": "2cbc7636",
   "metadata": {},
   "outputs": [],
   "source": [
    "data = []\n",
    "for T in npy.arange(25.0, 105.0, 5.0):\n",
    "    G0_H2Og_bl = H2Og_bl.props(T+273.15, P*1e5).G0[0]/1000\n",
    "    G0_H2Og_98 = H2Og_98.props(T+273.15, P*1e5).G0[0]/1000\n",
    "    G0_CO2g_bl = CO2g_bl.props(T+273.15, P*1e5).G0[0]/1000\n",
    "    G0_CO2g_98 = CO2g_98.props(T+273.15, P*1e5).G0[0]/1000\n",
    "    G0_H2Sg_bl = H2Sg_bl.props(T+273.15, P*1e5).G0[0]/1000\n",
    "    G0_H2Sg_98 = H2Sg_98.props(T+273.15, P*1e5).G0[0]/1000\n",
    "    data.append([T, G0_H2Og_bl, G0_H2Og_98, G0_CO2g_bl, G0_CO2g_98, G0_H2Sg_bl, G0_H2Sg_98])"
   ]
  },
  {
   "cell_type": "code",
   "execution_count": null,
   "id": "fbadbfed",
   "metadata": {},
   "outputs": [],
   "source": [
    "data = npy.array(data)"
   ]
  },
  {
   "cell_type": "code",
   "execution_count": null,
   "id": "c94a137b",
   "metadata": {},
   "outputs": [],
   "source": [
    "print(data)"
   ]
  },
  {
   "cell_type": "code",
   "execution_count": null,
   "id": "6eb009be",
   "metadata": {},
   "outputs": [],
   "source": [
    "plt.plot(data[:, 0], data[:, 1], label=f\"G0 (kJ/mol) of H2O(g) SUPCRTBL\")\n",
    "plt.plot(data[:, 0], data[:, 2], label=f\"G0 (kJ/mol) of H2O(g) SUPCRT98\")\n",
    "plt.legend()\n",
    "plt.savefig(\"H2Og.pdf\")\n",
    "plt.close()"
   ]
  },
  {
   "cell_type": "code",
   "execution_count": null,
   "id": "fd628dce",
   "metadata": {},
   "outputs": [],
   "source": [
    "plt.plot(data[:, 0], data[:, 3], label=f\"G0 (kJ/mol) of CO2(g) SUPCRTBL\")\n",
    "plt.plot(data[:, 0], data[:, 4], label=f\"G0 (kJ/mol) of CO2(g) SUPCRT98\")\n",
    "plt.legend()\n",
    "plt.savefig(\"CO2g.pdf\")\n",
    "plt.close()"
   ]
  },
  {
   "cell_type": "code",
   "execution_count": null,
   "id": "6409914e",
   "metadata": {},
   "outputs": [],
   "source": [
    "plt.plot(data[:, 0], data[:, 5], label=f\"G0 (kJ/mol) of H2S(g) SUPCRTBL\")\n",
    "plt.plot(data[:, 0], data[:, 6], label=f\"G0 (kJ/mol) of H2S(g) SUPCRT98\")\n",
    "plt.legend()\n",
    "plt.savefig(\"H2Sg.pdf\")\n",
    "plt.close()"
   ]
  }
 ],
 "metadata": {},
 "nbformat": 4,
 "nbformat_minor": 5
}
