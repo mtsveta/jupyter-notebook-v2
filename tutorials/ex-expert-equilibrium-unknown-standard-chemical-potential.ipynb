{
 "cells": [
  {
   "cell_type": "code",
   "execution_count": null,
   "id": "702d8333",
   "metadata": {
    "lines_to_next_cell": 2
   },
   "outputs": [],
   "source": [
    "from reaktoro import *\n",
    "from autodiff import abs"
   ]
  },
  {
   "cell_type": "code",
   "execution_count": null,
   "id": "b3455d72",
   "metadata": {},
   "outputs": [],
   "source": [
    "T = 60.0 + 273.15 # temperature in K\n",
    "P = 10.0 * 1e5    # pressure in Pa"
   ]
  },
  {
   "cell_type": "code",
   "execution_count": null,
   "id": "a4477d68",
   "metadata": {},
   "outputs": [],
   "source": [
    "def computeSolubilityCaCO3(system):\n",
    "    state = ChemicalState(system)\n",
    "    state.setTemperature(T)\n",
    "    state.setPressure(P)\n",
    "    state.set(\"H2O(aq)\", 1.0, \"kg\")\n",
    "    state.set(\"Calcite\", 1.0, \"mol\")\n",
    "\n",
    "    equilibrate(state)\n",
    "\n",
    "    aprops = AqueousProps(state)\n",
    "\n",
    "    return aprops.elementMolality(\"Ca\")"
   ]
  },
  {
   "cell_type": "code",
   "execution_count": null,
   "id": "6e443094",
   "metadata": {},
   "outputs": [],
   "source": [
    "db = SupcrtDatabase(\"supcrtbl\")"
   ]
  },
  {
   "cell_type": "code",
   "execution_count": null,
   "id": "fd5edd8d",
   "metadata": {},
   "outputs": [],
   "source": [
    "solution = AqueousPhase(speciate(\"C Ca\"), exclude(\"organic\"))\n",
    "solution.setActivityModel(chain(\n",
    "    ActivityModelHKF(),\n",
    "    ActivityModelDrummond(\"CO2\")\n",
    "))"
   ]
  },
  {
   "cell_type": "code",
   "execution_count": null,
   "id": "cae3da9a",
   "metadata": {},
   "outputs": [],
   "source": [
    "mineral = MineralPhase(\"Calcite\")"
   ]
  },
  {
   "cell_type": "code",
   "execution_count": null,
   "id": "2fae0b9a",
   "metadata": {},
   "outputs": [],
   "source": [
    "system = ChemicalSystem(db, solution, mineral)"
   ]
  },
  {
   "cell_type": "code",
   "execution_count": null,
   "id": "30782a1f",
   "metadata": {},
   "outputs": [],
   "source": [
    "solubilityCaCO3 = computeSolubilityCaCO3(system)"
   ]
  },
  {
   "cell_type": "code",
   "execution_count": null,
   "id": "0278bdc0",
   "metadata": {},
   "outputs": [],
   "source": [
    "constraint = ConstraintEquation()\n",
    "constraint.id = \"solubility[CaCO3]\""
   ]
  },
  {
   "cell_type": "code",
   "execution_count": null,
   "id": "a1a7e543",
   "metadata": {
    "lines_to_next_cell": 1
   },
   "outputs": [],
   "source": [
    "aprops = AqueousProps(system)\n",
    "def fn(props, w):\n",
    "    aprops.update(props)\n",
    "    return aprops.elementMolality(\"Ca\") - solubilityCaCO3"
   ]
  },
  {
   "cell_type": "code",
   "execution_count": null,
   "id": "4ccb0ef0",
   "metadata": {},
   "outputs": [],
   "source": [
    "constraint.fn = fn"
   ]
  },
  {
   "cell_type": "code",
   "execution_count": null,
   "id": "9e31fcc8",
   "metadata": {},
   "outputs": [],
   "source": [
    "specs = EquilibriumSpecs(system)\n",
    "specs.temperature()\n",
    "specs.pressure()\n",
    "specs.addUnknownStandardChemicalPotential(\"Calcite\")\n",
    "specs.addConstraint(constraint)"
   ]
  },
  {
   "cell_type": "code",
   "execution_count": null,
   "id": "075dd816",
   "metadata": {},
   "outputs": [],
   "source": [
    "state = ChemicalState(system)\n",
    "state.setTemperature(T)\n",
    "state.setPressure(P)\n",
    "state.set(\"H2O(aq)\", 1.0, \"kg\")\n",
    "state.set(\"Calcite\", 10.0, \"mol\")"
   ]
  },
  {
   "cell_type": "code",
   "execution_count": null,
   "id": "027d296a",
   "metadata": {},
   "outputs": [],
   "source": [
    "solver = EquilibriumSolver(specs)"
   ]
  },
  {
   "cell_type": "code",
   "execution_count": null,
   "id": "565d289a",
   "metadata": {},
   "outputs": [],
   "source": [
    "solver.solve(state)"
   ]
  },
  {
   "cell_type": "code",
   "execution_count": null,
   "id": "1f694d51",
   "metadata": {},
   "outputs": [],
   "source": [
    "G0_calcite_expected = system.species().get(\"Calcite\").props(T, P).G0\n",
    "G0_calcite_computed = state.equilibrium().p()[0]"
   ]
  },
  {
   "cell_type": "code",
   "execution_count": null,
   "id": "832fbb92",
   "metadata": {},
   "outputs": [],
   "source": [
    "print(f\"=================================\")\n",
    "print(f\"G0(calcite) at 60 °C and 10 bar  \")\n",
    "print(f\"=================================\")\n",
    "print(f\"expected: {G0_calcite_expected/1000.0} kJ/mol\")\n",
    "print(f\"computed: {G0_calcite_computed/1000.0} kJ/mol\")\n",
    "print(f\"   error: {abs((G0_calcite_computed - G0_calcite_expected)/G0_calcite_expected) * 100.0} %\")\n",
    "print(f\"=================================\")"
   ]
  }
 ],
 "metadata": {},
 "nbformat": 4,
 "nbformat_minor": 5
}
