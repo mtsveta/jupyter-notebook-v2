{
 "cells": [
  {
   "cell_type": "code",
   "execution_count": null,
   "id": "5429db04",
   "metadata": {},
   "outputs": [],
   "source": [
    "from reaktoro import *\n",
    "import numpy as np\n",
    "import os"
   ]
  },
  {
   "cell_type": "code",
   "execution_count": null,
   "id": "48d9860f",
   "metadata": {},
   "outputs": [],
   "source": [
    "results_folder = 'results-stream-model'\n",
    "os.system('mkdir -p ' + results_folder)"
   ]
  },
  {
   "cell_type": "code",
   "execution_count": null,
   "id": "9160d359",
   "metadata": {},
   "outputs": [],
   "source": [
    "db = PhreeqcDatabase.fromFile('databases/phreeqc-extended.dat') # if running from tutorials folder"
   ]
  },
  {
   "cell_type": "markdown",
   "id": "0075e901",
   "metadata": {},
   "source": [
    "print(\"Database content:\\n---------------------\")\n",
    "for species in db.species():\n",
    "    print(species.name())"
   ]
  },
  {
   "cell_type": "code",
   "execution_count": null,
   "id": "a6772cf1",
   "metadata": {},
   "outputs": [],
   "source": [
    "solution = AqueousPhase(speciate(\"H O C Na Cl Ca P\"))\n",
    "solution.setActivityModel(chain(\n",
    "    ActivityModelHKF(),\n",
    "    ActivityModelDrummond(\"CO2\")\n",
    "))"
   ]
  },
  {
   "cell_type": "code",
   "execution_count": null,
   "id": "0bdfcbd2",
   "metadata": {},
   "outputs": [],
   "source": [
    "minerals = MineralPhases(\"Fluorapatite Hydroxylapatite Calcite\")"
   ]
  },
  {
   "cell_type": "code",
   "execution_count": null,
   "id": "c745353c",
   "metadata": {},
   "outputs": [],
   "source": [
    "system = ChemicalSystem(db, solution, minerals)"
   ]
  },
  {
   "cell_type": "code",
   "execution_count": null,
   "id": "96c6f9cc",
   "metadata": {},
   "outputs": [],
   "source": [
    "props = ChemicalProps(system)\n",
    "aprops = AqueousProps(system)"
   ]
  },
  {
   "cell_type": "code",
   "execution_count": null,
   "id": "82512ed4",
   "metadata": {},
   "outputs": [],
   "source": [
    "specs = EquilibriumSpecs(system)\n",
    "specs.temperature()\n",
    "specs.pressure()\n",
    "specs.fugacity(\"CO2\")"
   ]
  },
  {
   "cell_type": "code",
   "execution_count": null,
   "id": "838cf5e1",
   "metadata": {},
   "outputs": [],
   "source": [
    "solver = EquilibriumSolver(specs)"
   ]
  },
  {
   "cell_type": "code",
   "execution_count": null,
   "id": "a53b711f",
   "metadata": {},
   "outputs": [],
   "source": [
    "conditions = EquilibriumConditions(specs)"
   ]
  },
  {
   "cell_type": "code",
   "execution_count": null,
   "id": "cc1b5e4a",
   "metadata": {
    "lines_to_next_cell": 1
   },
   "outputs": [],
   "source": [
    "state = ChemicalState(system)\n",
    "state.set(\"H2O\", 1.0, \"kg\")\n",
    "#state.set(\"CO2\", 100.0, \"mmol\")\n",
    "state.set(\"Calcite\", 10.00, \"mol\")\n",
    "state.set(\"Fluorapatite\", 10.00, \"mol\")\n",
    "state.set(\"Hydroxylapatite\", 10.00, \"mol\")"
   ]
  },
  {
   "cell_type": "code",
   "execution_count": null,
   "id": "b06af0c3",
   "metadata": {
    "lines_to_next_cell": 1
   },
   "outputs": [],
   "source": [
    "def equilibrate(T, ppCO2):\n",
    "\n",
    "    conditions.temperature(T, \"celsius\")\n",
    "    conditions.pressure(1.0, \"atm\")\n",
    "    conditions.fugacity(\"CO2\", 10**(ppCO2))\n",
    "\n",
    "    solver.solve(state, conditions)\n",
    "\n",
    "    props.update(state)\n",
    "    aprops.update(state)\n",
    "    ph = aprops.pH()[0]\n",
    "\n",
    "    mPO4 = state.speciesAmount(\"HPO4-2\")[0]\n",
    "    #mPO4 = aprops.speciesMolality(\"HPO4-2\")[0]\n",
    "\n",
    "    return ph, mPO4"
   ]
  },
  {
   "cell_type": "code",
   "execution_count": null,
   "id": "ca177e1b",
   "metadata": {},
   "outputs": [],
   "source": [
    "num_temperatures = 101\n",
    "num_co2s = 106\n",
    "temperatures = np.flip(np.linspace(0, 50.0, num=num_temperatures))\n",
    "co2ppressures = np.linspace(-4.1, 0.1, num=num_co2s)"
   ]
  },
  {
   "cell_type": "markdown",
   "id": "7e83e816",
   "metadata": {},
   "source": [
    "num_temperatures = 1 #101\n",
    "num_co2s = 1 #106\n",
    "temperatures = np.array([50.0])\n",
    "co2ppressures = np.array([-4.0])"
   ]
  },
  {
   "cell_type": "code",
   "execution_count": null,
   "id": "f1322624",
   "metadata": {},
   "outputs": [],
   "source": [
    "data_size = 2\n",
    "data = np.zeros((data_size, num_temperatures, num_co2s))"
   ]
  },
  {
   "cell_type": "markdown",
   "id": "a01b0b01",
   "metadata": {},
   "source": [
    "print(temperatures)\n",
    "print(co2ppressures)"
   ]
  },
  {
   "cell_type": "code",
   "execution_count": null,
   "id": "e161c636",
   "metadata": {},
   "outputs": [],
   "source": [
    "p_couter = 0\n",
    "for ppCO2 in co2ppressures:\n",
    "    data[:, :, p_couter] = np.array([equilibrate(T, ppCO2) for T in temperatures]).T\n",
    "    p_couter += 1\n",
    "pHs = data[0]\n",
    "mPO4 = data[1]"
   ]
  },
  {
   "cell_type": "code",
   "execution_count": null,
   "id": "5b18e7e6",
   "metadata": {},
   "outputs": [],
   "source": [
    "np.savetxt(results_folder + '/m-pH.txt', pHs)\n",
    "np.savetxt(results_folder + '/m-mPO4.txt', mPO4)"
   ]
  },
  {
   "cell_type": "code",
   "execution_count": null,
   "id": "8a80e358",
   "metadata": {},
   "outputs": [],
   "source": [
    "import matplotlib.pyplot as plt\n",
    "colors = ['C1', 'C2', 'C3', 'C4', 'C5', 'C7', 'C8', 'C9']"
   ]
  },
  {
   "cell_type": "code",
   "execution_count": null,
   "id": "07ac9667",
   "metadata": {},
   "outputs": [],
   "source": [
    "plt.figure()\n",
    "plt.plot(co2ppressures, pHs[0, :], label=f'50 C', color=colors[1])\n",
    "plt.plot(co2ppressures, pHs[-51, :], label=f'25 C', color=colors[2])\n",
    "plt.plot(co2ppressures, pHs[-1, :], label=f'0 C', color=colors[3])\n",
    "plt.legend(loc=\"best\")\n",
    "plt.xlabel('ppCO2')\n",
    "plt.ylabel('pH [-]')\n",
    "plt.grid()\n",
    "plt.savefig(results_folder + '/' + 'pH-vs-ppCO2.png', bbox_inches='tight')\n",
    "plt.close()"
   ]
  },
  {
   "cell_type": "code",
   "execution_count": null,
   "id": "00995bf6",
   "metadata": {},
   "outputs": [],
   "source": [
    "plt.figure()\n",
    "plt.plot(temperatures, mPO4[:, -3], label=f'log10 pCO2 = 0.02', color=colors[1])\n",
    "plt.plot(temperatures, mPO4[:, 16], label=f'log10 pCO2 = -3.5', color=colors[2])\n",
    "plt.legend(loc=\"best\")\n",
    "plt.xlabel('T [degC]')\n",
    "plt.ylabel('m (HPO4) [molal]')\n",
    "plt.grid()\n",
    "plt.savefig(results_folder + '/' + 'mHPO4-vs-T.png', bbox_inches='tight')\n",
    "plt.close()"
   ]
  },
  {
   "cell_type": "code",
   "execution_count": null,
   "id": "92b27caa",
   "metadata": {},
   "outputs": [],
   "source": []
  }
 ],
 "metadata": {},
 "nbformat": 4,
 "nbformat_minor": 5
}
