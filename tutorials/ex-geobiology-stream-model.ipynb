{
 "cells": [
  {
   "cell_type": "code",
   "execution_count": null,
   "id": "0f667c5e",
   "metadata": {},
   "outputs": [],
   "source": [
    "from reaktoro import *\n",
    "import numpy as np\n",
    "import os"
   ]
  },
  {
   "cell_type": "code",
   "execution_count": null,
   "id": "f2b56e1d",
   "metadata": {},
   "outputs": [],
   "source": [
    "results_folder = 'results-stream-model'\n",
    "os.system('mkdir -p ' + results_folder)"
   ]
  },
  {
   "cell_type": "code",
   "execution_count": null,
   "id": "af7a2235",
   "metadata": {},
   "outputs": [],
   "source": [
    "db = PhreeqcDatabase.fromFile('../databases/phreeqc-extended.dat') # if running from tutorials folder"
   ]
  },
  {
   "cell_type": "code",
   "execution_count": null,
   "id": "89072516",
   "metadata": {},
   "outputs": [],
   "source": [
    "print(\"Database content:\\n---------------------\")\n",
    "for species in db.species():\n",
    "    print(species.name())"
   ]
  },
  {
   "cell_type": "code",
   "execution_count": null,
   "id": "682069dc",
   "metadata": {},
   "outputs": [],
   "source": [
    "solution = AqueousPhase(speciate(\"H O C Na Cl P\"))\n",
    "solution.setActivityModel(chain(\n",
    "    ActivityModelHKF(),\n",
    "    ActivityModelDrummond(\"CO2\")\n",
    "))"
   ]
  },
  {
   "cell_type": "code",
   "execution_count": null,
   "id": "0fb03c63",
   "metadata": {},
   "outputs": [],
   "source": [
    "gases = GaseousPhase(\"CO2(g)\")\n",
    "gases.setActivityModel(ActivityModelPengRobinson())"
   ]
  },
  {
   "cell_type": "code",
   "execution_count": null,
   "id": "22e211b7",
   "metadata": {},
   "outputs": [],
   "source": [
    "minerals = MineralPhases(\"Fluorapatite Hydroxylapatite Calcite\")"
   ]
  },
  {
   "cell_type": "code",
   "execution_count": null,
   "id": "af4712ad",
   "metadata": {},
   "outputs": [],
   "source": [
    "system = ChemicalSystem(db, solution, gases, minerals)"
   ]
  },
  {
   "cell_type": "code",
   "execution_count": null,
   "id": "5360e169",
   "metadata": {},
   "outputs": [],
   "source": [
    "print(\"System content:\\n---------------------\")\n",
    "for species in db.species():\n",
    "    print(species.name())"
   ]
  },
  {
   "cell_type": "code",
   "execution_count": null,
   "id": "2733b9fa",
   "metadata": {},
   "outputs": [],
   "source": [
    "solver = EquilibriumSolver(system)"
   ]
  },
  {
   "cell_type": "code",
   "execution_count": null,
   "id": "1391aca8",
   "metadata": {
    "lines_to_next_cell": 1
   },
   "outputs": [],
   "source": [
    "props = ChemicalProps(system)\n",
    "aprops = AqueousProps(system)"
   ]
  },
  {
   "cell_type": "code",
   "execution_count": null,
   "id": "b649603f",
   "metadata": {
    "lines_to_next_cell": 1
   },
   "outputs": [],
   "source": [
    "def convertPPCO2Bar(ppCO2):\n",
    "    return 10**ppCO2 # log10(P) = ppCO2"
   ]
  },
  {
   "cell_type": "code",
   "execution_count": null,
   "id": "28c24be4",
   "metadata": {},
   "outputs": [],
   "source": [
    "def equilibrate(T, ppCO2):\n",
    "\n",
    "    P = convertPPCO2Bar(ppCO2)\n",
    "    state = ChemicalState(system)\n",
    "    state.temperature(T, \"celsius\")\n",
    "    state.pressure(P, \"atm\")\n",
    "    state.setSpeciesMass(\"H2O\"     , 1.0 , \"kg\")\n",
    "    state.setSpeciesAmount(\"CO2(g)\", 100.0, \"mmol\")\n",
    "    state.setSpeciesAmount(\"Na+\"   , 4.00, \"mmol\")\n",
    "    state.setSpeciesAmount(\"Cl-\"   , 4.00, \"mmol\")\n",
    "    state.setSpeciesAmount(\"Calcite\"        , 10.00, \"mmol\")\n",
    "    state.setSpeciesAmount(\"Fluorapatite\"   , 10.00, \"mmol\")\n",
    "    state.setSpeciesAmount(\"Hydroxylapatite\", 10.00, \"mmol\")\n",
    "\n",
    "    solver.solve(state)\n",
    "\n",
    "    props.update(state)\n",
    "    aprops.update(state)\n",
    "\n",
    "    # PO4 - 3\n",
    "    # H2PO4 -\n",
    "    # CaH2PO4 +\n",
    "    # CaHCO3 +\n",
    "    # HPO4 - 2\n",
    "\n",
    "    mPO4 = state.speciesAmount(\"HPO4-2\")[0]\n",
    "\n",
    "    return mPO4"
   ]
  },
  {
   "cell_type": "code",
   "execution_count": null,
   "id": "fc822562",
   "metadata": {},
   "outputs": [],
   "source": [
    "num_temperatures = 101\n",
    "num_co2s = 106\n",
    "temperatures = np.linspace(0, 50.0, num=num_temperatures)\n",
    "co2ppressures = np.linspace(-4.1, 0.1, num=num_co2s)"
   ]
  },
  {
   "cell_type": "code",
   "execution_count": null,
   "id": "d4f416ed",
   "metadata": {},
   "outputs": [],
   "source": [
    "mols_PO4 = np.zeros((num_temperatures, num_co2s))"
   ]
  },
  {
   "cell_type": "code",
   "execution_count": null,
   "id": "310a347e",
   "metadata": {},
   "outputs": [],
   "source": [
    "print(temperatures)\n",
    "print(co2ppressures)"
   ]
  },
  {
   "cell_type": "code",
   "execution_count": null,
   "id": "7113b449",
   "metadata": {},
   "outputs": [],
   "source": [
    "t_couter = 0\n",
    "for T in temperatures:\n",
    "    mols_PO4[t_couter, :] = np.array([equilibrate(T, ppCO2) for ppCO2 in co2ppressures])\n",
    "    t_couter += 1"
   ]
  },
  {
   "cell_type": "code",
   "execution_count": null,
   "id": "d88f02d0",
   "metadata": {
    "lines_to_next_cell": 2
   },
   "outputs": [],
   "source": [
    "np.savetxt(results_folder + '/m-PO4.txt', mols_PO4)"
   ]
  }
 ],
 "metadata": {},
 "nbformat": 4,
 "nbformat_minor": 5
}
