{
 "cells": [
  {
   "cell_type": "markdown",
   "id": "8f51bf80",
   "metadata": {},
   "source": [
    "# Dependence of the pH on added contaminant in water\n",
    "\n",
    "This tutorial demonstrates how pH is dependent on the added contaminant in the water, affecting the fish life as well\n",
    "as the general ecosystem."
   ]
  },
  {
   "cell_type": "markdown",
   "id": "74ed065e",
   "metadata": {},
   "source": [
    "We start by importing the **reaktoro** package:"
   ]
  },
  {
   "cell_type": "code",
   "execution_count": null,
   "id": "dc53efdc",
   "metadata": {},
   "outputs": [],
   "source": [
    "from reaktoro import *"
   ]
  },
  {
   "cell_type": "markdown",
   "id": "d0d89ccc",
   "metadata": {},
   "source": [
    "To initialize chemical system, we have to start from defining a thermodynamic database and chemical editor (where\n",
    "system's phases are defined):"
   ]
  },
  {
   "cell_type": "code",
   "execution_count": null,
   "id": "b489a4df",
   "metadata": {},
   "outputs": [],
   "source": [
    "db =  SupcrtDatabase(\"supcrt98\")\n",
    "aqueousphase = AqueousPhase(speciate(\"H O Na Cl N\"))\n",
    "aqueousphase.setActivityModel(ActivityModelHKF())"
   ]
  },
  {
   "cell_type": "markdown",
   "id": "08c7b4c1",
   "metadata": {},
   "source": [
    "Construct the chemical system:"
   ]
  },
  {
   "cell_type": "code",
   "execution_count": null,
   "id": "98db0123",
   "metadata": {},
   "outputs": [],
   "source": [
    "system = ChemicalSystem(db, aqueousphase)"
   ]
  },
  {
   "cell_type": "code",
   "execution_count": null,
   "id": "822cab51",
   "metadata": {},
   "outputs": [],
   "source": [
    "for s in system.species():\n",
    "    print(s.name())"
   ]
  },
  {
   "cell_type": "markdown",
   "id": "4b995738",
   "metadata": {},
   "source": [
    "Below, we initialize chemical state corresponding to the pure water with approximate pH equal to 7:"
   ]
  },
  {
   "cell_type": "code",
   "execution_count": null,
   "id": "71cb92df",
   "metadata": {},
   "outputs": [],
   "source": [
    "T = 25.0\n",
    "P = 1.0\n",
    "\n",
    "state = ChemicalState(system)\n",
    "state.setTemperature(T, \"celsius\")\n",
    "state.setPressure(P, \"bar\")\n",
    "state.setSpeciesMass(\"H2O(aq)\", 1.0, \"kg\")"
   ]
  },
  {
   "cell_type": "markdown",
   "id": "4606df92",
   "metadata": {},
   "source": [
    "We also define equilibrium solver to be used for range of equilibrium problems:"
   ]
  },
  {
   "cell_type": "code",
   "execution_count": null,
   "id": "c7a73125",
   "metadata": {},
   "outputs": [],
   "source": [
    "solver = EquilibriumSolver(system)\n",
    "solver.solve(state)"
   ]
  },
  {
   "cell_type": "markdown",
   "id": "e2ad7e66",
   "metadata": {},
   "source": [
    "Evaluate pH of the pute water:"
   ]
  },
  {
   "cell_type": "code",
   "execution_count": null,
   "id": "dcf72b8c",
   "metadata": {},
   "outputs": [],
   "source": [
    "aprops = AqueousProps(state)\n",
    "print(\"pH of pure water = \", aprops.pH())"
   ]
  },
  {
   "cell_type": "markdown",
   "id": "a75e3017",
   "metadata": {},
   "source": [
    "### Decreasing pH\n",
    "\n",
    "First, we investigate the behavior of the pH when adding the acidic contaminant to the water.\n",
    "We define the auxiliary lists with amounts of acid HCl in the chemical state `hcl_amounts` and corresponding to that\n",
    "state list of pH `phs`. Both lists are populated in the loop of 50 steps. We gradually add 0.1 mmol of hydrogen\n",
    "chloride and evaluate the pH in the obtained state."
   ]
  },
  {
   "cell_type": "code",
   "execution_count": null,
   "id": "1c202eeb",
   "metadata": {},
   "outputs": [],
   "source": [
    "# Initialize lists with HCl amounts and ph values\n",
    "hcl_initial = 0.0\n",
    "hcl_delta = 0.1\n",
    "nsteps = 50\n",
    "hcl_amounts = [hcl_initial]\n",
    "phs = [aprops.pH()[0]]\n",
    "\n",
    "# Run loop of nsteps steps\n",
    "for i in range(nsteps):\n",
    "\n",
    "    # Add more hydrogen chlorite to the problem\n",
    "    state.add(\"HCl(aq)\", hcl_delta, \"mmol\")\n",
    "\n",
    "    # Equilibrate state with updated problem\n",
    "    solver.solve(state)\n",
    "\n",
    "    # Update aqueous properties\n",
    "    aprops.update(state)\n",
    "\n",
    "    # Append new ph\n",
    "    phs.append(aprops.pH()[0])\n",
    "\n",
    "    # Append new hydrogen chlorite amount\n",
    "    hcl_amounts.append(hcl_amounts[-1] + hcl_delta)"
   ]
  },
  {
   "cell_type": "markdown",
   "id": "4a547c55",
   "metadata": {},
   "source": [
    "### Increasing pH\n",
    "\n",
    "If we add in a chemical contaminant such as ammonia (a compound of nitrogen and hydrogen with the formula NH3,\n",
    "colorless gas with a characteristic pungent smell), that can increase the pH and affect fish life."
   ]
  },
  {
   "cell_type": "code",
   "execution_count": null,
   "id": "9b1ccae8",
   "metadata": {},
   "outputs": [],
   "source": [
    "state = ChemicalState(system)\n",
    "state.setTemperature(T, \"celsius\")\n",
    "state.setPressure(P, \"bar\")\n",
    "state.setSpeciesMass(\"H2O(aq)\", 1.0, \"kg\")\n",
    "solver.solve(state)\n",
    "aprops.update(state)"
   ]
  },
  {
   "cell_type": "markdown",
   "id": "7d54bd6b",
   "metadata": {},
   "source": [
    "Define the auxiliary lists with amounts of acid HCl in the chemical state and corresponding to that state pH:"
   ]
  },
  {
   "cell_type": "code",
   "execution_count": null,
   "id": "4d75045b",
   "metadata": {},
   "outputs": [],
   "source": [
    "nh3_initial = 0.0\n",
    "nh3_amounts = [nh3_initial]\n",
    "phs_increase = [aprops.pH()[0]]\n",
    "\n",
    "nh3_delta = 0.1\n",
    "nsteps = 50\n",
    "\n",
    "for i in range(nsteps):\n",
    "\n",
    "    # Add more ammonia to the problem\n",
    "    state.add(\"NH3(aq)\", nh3_delta, \"mmol\")\n",
    "\n",
    "    # Equilibrate state with updated problem\n",
    "    solver.solve(state)\n",
    "\n",
    "    # Update aqueous properties\n",
    "    aprops.update(state)\n",
    "\n",
    "    # Append new ph\n",
    "    phs_increase.append(aprops.pH()[0])\n",
    "\n",
    "    # Append new ammonia amount\n",
    "    nh3_amounts.append(nh3_amounts[-1] + nh3_delta)"
   ]
  },
  {
   "cell_type": "markdown",
   "id": "0c37209c",
   "metadata": {},
   "source": [
    "Let us plot pH as a function of the HCl and NH<sup>3</sup>(aq) amounts:"
   ]
  },
  {
   "cell_type": "code",
   "execution_count": null,
   "id": "4641a40b",
   "metadata": {},
   "outputs": [],
   "source": [
    "import matplotlib.pyplot as plt\n",
    "fig, (ax1, ax2) = plt.subplots(2, 1)\n",
    "\n",
    "ax1.plot(hcl_amounts, phs, label=f\"pH\", color='C3')\n",
    "ax1.legend(loc=\"best\")\n",
    "ax1.set_title('Dependence of pH on HCl amount')\n",
    "ax1.grid(True)\n",
    "ax1.set_ylabel('pH [-]')\n",
    "ax1.set_xlabel(r'HCl amount [mol]')\n",
    "\n",
    "ax2.plot(nh3_amounts, phs_increase, label=f\"pH\", color='C4')\n",
    "ax2.set_title(r'Dependence of pH on NH$\\mathsf{_3}$ amount')\n",
    "ax2.legend(loc=\"best\")\n",
    "ax2.grid(True)\n",
    "ax2.set_ylabel('pH [-]')\n",
    "ax2.set_xlabel(r'NH$\\mathsf{_3}$ amount [mol]')\n",
    "\n",
    "fig.tight_layout()\n",
    "fig.savefig('ph-dependence-on-contaminants-in-water.png', bbox_inches='tight')"
   ]
  },
  {
   "cell_type": "markdown",
   "id": "2ad15c63",
   "metadata": {},
   "source": [
    "As expected, the contaminant like HCl can decrease the pH, affecting the ecosystem, whereas\n",
    "ammonia removes H<sup>+</sup> proton from the water to produce ammonium and hydroxide and, therefore,\n",
    "increases pH."
   ]
  }
 ],
 "metadata": {},
 "nbformat": 4,
 "nbformat_minor": 5
}
