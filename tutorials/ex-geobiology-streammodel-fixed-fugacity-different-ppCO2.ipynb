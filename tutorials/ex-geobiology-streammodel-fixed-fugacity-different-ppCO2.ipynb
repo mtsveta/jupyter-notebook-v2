{
 "cells": [
  {
   "cell_type": "code",
   "execution_count": null,
   "id": "c7a03b54",
   "metadata": {},
   "outputs": [],
   "source": [
    "from reaktoro import *\n",
    "import numpy as np\n",
    "import os"
   ]
  },
  {
   "cell_type": "code",
   "execution_count": null,
   "id": "e1ac49f6",
   "metadata": {},
   "outputs": [],
   "source": [
    "results_folder = 'results-streammodel-fixed-fugacity-different-ppCO2'\n",
    "os.system('mkdir -p ' + results_folder)"
   ]
  },
  {
   "cell_type": "code",
   "execution_count": null,
   "id": "1346d57d",
   "metadata": {},
   "outputs": [],
   "source": [
    "db = PhreeqcDatabase.fromFile('databases/phreeqc-extended.dat') # if running from tutorials folder"
   ]
  },
  {
   "cell_type": "code",
   "execution_count": null,
   "id": "728ad210",
   "metadata": {},
   "outputs": [],
   "source": [
    "solution = AqueousPhase(speciate(\"H O C Na Cl Ca P\"))\n",
    "solution.setActivityModel(chain(\n",
    "    ActivityModelHKF(),\n",
    "    ActivityModelDrummond(\"CO2\")\n",
    "))\n",
    "gases = GaseousPhase(\"CO2(g)\")\n",
    "gases.setActivityModel(ActivityModelPengRobinson())"
   ]
  },
  {
   "cell_type": "code",
   "execution_count": null,
   "id": "252daf0a",
   "metadata": {},
   "outputs": [],
   "source": [
    "mineral = MineralPhase(\"Calcite Fluorapatite Hydroxylapatite\")"
   ]
  },
  {
   "cell_type": "code",
   "execution_count": null,
   "id": "2f38730a",
   "metadata": {},
   "outputs": [],
   "source": [
    "system = ChemicalSystem(db, solution, mineral, gases)"
   ]
  },
  {
   "cell_type": "code",
   "execution_count": null,
   "id": "c08541bb",
   "metadata": {},
   "outputs": [],
   "source": [
    "aprops = AqueousProps(system)\n",
    "props = ChemicalProps(system)"
   ]
  },
  {
   "cell_type": "code",
   "execution_count": null,
   "id": "03a16f3a",
   "metadata": {},
   "outputs": [],
   "source": [
    "specs = EquilibriumSpecs(system)\n",
    "specs.temperature()\n",
    "specs.pressure()\n",
    "specs.fugacity(\"CO2\")"
   ]
  },
  {
   "cell_type": "code",
   "execution_count": null,
   "id": "55348cdc",
   "metadata": {},
   "outputs": [],
   "source": [
    "conditions = EquilibriumConditions(specs)"
   ]
  },
  {
   "cell_type": "code",
   "execution_count": null,
   "id": "2759b48c",
   "metadata": {},
   "outputs": [],
   "source": [
    "solver = EquilibriumSolver(specs)"
   ]
  },
  {
   "cell_type": "code",
   "execution_count": null,
   "id": "e46e7339",
   "metadata": {},
   "outputs": [],
   "source": [
    "opts = EquilibriumOptions()\n",
    "opts.epsilon = 1e-13\n",
    "solver.setOptions(opts)"
   ]
  },
  {
   "cell_type": "code",
   "execution_count": null,
   "id": "e0afaca4",
   "metadata": {
    "lines_to_next_cell": 1
   },
   "outputs": [],
   "source": [
    "P = 1.0  # pressure in atm"
   ]
  },
  {
   "cell_type": "markdown",
   "id": "5a34170f",
   "metadata": {},
   "source": [
    "USE SOLUTION 1;\n",
    "EQUILIBRIUM_PHASES 1;\n",
    "CO2(g)    -4.00 100;\n",
    "Hydroxyapatite 0 10 dissolve_only;\n",
    "Fluorapatite 0 10 dissolve_only;\n",
    "Calcite 0 10 dissolve_only;\n",
    "REACTION_TEMPERATURE 1; 0;\n",
    "END"
   ]
  },
  {
   "cell_type": "code",
   "execution_count": null,
   "id": "319d9e1d",
   "metadata": {
    "lines_to_next_cell": 1
   },
   "outputs": [],
   "source": [
    "def equilibrate(ppCO2, T):\n",
    "\n",
    "    conditions.temperature(T, \"celsius\")\n",
    "    conditions.pressure(P, \"atm\")\n",
    "    conditions.fugacity(\"CO2\", 10 ** (ppCO2), 'atm')\n",
    "\n",
    "    state = ChemicalState(system)\n",
    "    state.set(\"H2O\"    , 1.0 , \"kg\")\n",
    "    state.set(\"Calcite\", 10.0, \"mol\")\n",
    "    state.set(\"Fluorapatite\", 10.0, \"mol\")\n",
    "    state.set(\"Hydroxylapatite\", 10.0, \"mol\")\n",
    "    state.set(\"CO2\",  100.0, \"mol\")\n",
    "\n",
    "    solver.solve(state, conditions)\n",
    "\n",
    "    aprops.update(state)\n",
    "    props.update(state)\n",
    "\n",
    "    pH = aprops.pH()[0]\n",
    "    molP = props.elementAmountInPhase(\"P\", \"AqueousPhase\")[0]\n",
    "\n",
    "    return pH, molP"
   ]
  },
  {
   "cell_type": "code",
   "execution_count": null,
   "id": "9116487e",
   "metadata": {},
   "outputs": [],
   "source": [
    "num_temperatures = 1\n",
    "num_ppco2s = 101\n",
    "temperatures = np.array([0, 25, 50])\n",
    "co2ppressures = np.linspace(-4.0, 0.0, num=num_ppco2s)"
   ]
  },
  {
   "cell_type": "code",
   "execution_count": null,
   "id": "43fa5ed1",
   "metadata": {},
   "outputs": [],
   "source": [
    "data_size = 2\n",
    "data50 = np.zeros((num_ppco2s, data_size + 1))\n",
    "data25 = np.zeros((num_ppco2s, data_size + 1))\n",
    "data0 = np.zeros((num_ppco2s, data_size + 1))"
   ]
  },
  {
   "cell_type": "code",
   "execution_count": null,
   "id": "d40f586b",
   "metadata": {},
   "outputs": [],
   "source": [
    "for i in range(0, num_ppco2s):\n",
    "\n",
    "    result = equilibrate(co2ppressures[i], temperatures[2])\n",
    "    data50[i, 0] = co2ppressures[i]\n",
    "    data50[i, 1] = result[0]\n",
    "    data50[i, 2] = result[1]\n",
    "\n",
    "    result = equilibrate(co2ppressures[i], temperatures[1])\n",
    "    data25[i, 0] = co2ppressures[i]\n",
    "    data25[i, 1] = result[0]\n",
    "    data25[i, 2] = result[1]\n",
    "\n",
    "    result = equilibrate(co2ppressures[i], temperatures[0])\n",
    "    data0[i, 0] = co2ppressures[i]\n",
    "    data0[i, 1] = result[0]\n",
    "    data0[i, 2] = result[1]"
   ]
  },
  {
   "cell_type": "code",
   "execution_count": null,
   "id": "ceaa2f4b",
   "metadata": {},
   "outputs": [],
   "source": [
    "np.savetxt(results_folder + '/m-data-25.txt', data25)\n",
    "np.savetxt(results_folder + '/m-pH-25.txt', data25[:, 1])\n",
    "np.savetxt(results_folder + '/m-mP-25.txt', data25[:, 2])\n",
    "np.savetxt(results_folder + '/m-data-50.txt', data50)\n",
    "np.savetxt(results_folder + '/m-pH-50.txt', data50[:, 1])\n",
    "np.savetxt(results_folder + '/m-mP-50.txt', data50[:, 2])\n",
    "np.savetxt(results_folder + '/m-data-0.txt', data0)\n",
    "np.savetxt(results_folder + '/m-pH-0.txt', data0[:, 1])\n",
    "np.savetxt(results_folder + '/m-mP-0.txt', data0[:, 2])"
   ]
  },
  {
   "cell_type": "code",
   "execution_count": null,
   "id": "67417eb2",
   "metadata": {},
   "outputs": [],
   "source": [
    "import matplotlib.pyplot as plt\n",
    "colors = ['C1', 'C2', 'C3', 'C4', 'C5', 'C7', 'C8', 'C9']"
   ]
  },
  {
   "cell_type": "code",
   "execution_count": null,
   "id": "32ea53d8",
   "metadata": {},
   "outputs": [],
   "source": [
    "plt.figure()\n",
    "plt.plot(co2ppressures, data50[:, 1], label=f'{temperatures[2]} C', color=colors[2])\n",
    "plt.plot(co2ppressures, data25[:, 1], label=f'{temperatures[1]} C', color=colors[1])\n",
    "plt.plot(co2ppressures, data0[:, 1], label=f'{temperatures[0]} C', color=colors[0])\n",
    "plt.legend(loc=\"best\")\n",
    "plt.xlabel('ppCO2')\n",
    "plt.ylabel('pH [-]')\n",
    "plt.grid()\n",
    "plt.savefig(results_folder + '/' + 'pH-vs-ppCO2.png', bbox_inches='tight')\n",
    "plt.close()"
   ]
  },
  {
   "cell_type": "code",
   "execution_count": null,
   "id": "a5ba463d",
   "metadata": {},
   "outputs": [],
   "source": [
    "plt.figure()\n",
    "plt.plot(co2ppressures, data50[:, 2], label=f'{temperatures[2]} C', color=colors[2])\n",
    "plt.plot(co2ppressures, data25[:, 2], label=f'{temperatures[1]} C', color=colors[1])\n",
    "plt.plot(co2ppressures, data0[:, 2], label=f'{temperatures[0]} C', color=colors[0])\n",
    "plt.legend(loc=\"best\")\n",
    "plt.xlabel('ppCO2')\n",
    "plt.ylabel('Amount of P [mol]')\n",
    "plt.grid()\n",
    "plt.savefig(results_folder + '/' + 'mP-vs-ppCO2.png', bbox_inches='tight')\n",
    "plt.close()"
   ]
  },
  {
   "cell_type": "code",
   "execution_count": null,
   "id": "4ee8c81c",
   "metadata": {},
   "outputs": [],
   "source": []
  }
 ],
 "metadata": {},
 "nbformat": 4,
 "nbformat_minor": 5
}
