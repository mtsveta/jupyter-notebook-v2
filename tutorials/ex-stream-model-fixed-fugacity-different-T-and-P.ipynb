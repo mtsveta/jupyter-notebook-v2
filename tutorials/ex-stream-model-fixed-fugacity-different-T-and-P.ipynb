{
 "cells": [
  {
   "cell_type": "code",
   "execution_count": null,
   "id": "5527a94a",
   "metadata": {},
   "outputs": [],
   "source": [
    "from reaktoro import *\n",
    "import numpy as np\n",
    "import os"
   ]
  },
  {
   "cell_type": "code",
   "execution_count": null,
   "id": "4c27015d",
   "metadata": {},
   "outputs": [],
   "source": [
    "results_folder = 'results-stream-model-fixed-fugacity'\n",
    "os.system('mkdir -p ' + results_folder)"
   ]
  },
  {
   "cell_type": "code",
   "execution_count": null,
   "id": "b3f98a0f",
   "metadata": {},
   "outputs": [],
   "source": [
    "db = PhreeqcDatabase.fromFile('databases/phreeqc-extended.dat') # if running from tutorials folder"
   ]
  },
  {
   "cell_type": "code",
   "execution_count": null,
   "id": "cad5b5b4",
   "metadata": {},
   "outputs": [],
   "source": [
    "solution = AqueousPhase(speciate(\"H O C Na Cl Ca P\"))\n",
    "solution.setActivityModel(chain(\n",
    "    ActivityModelHKF(),\n",
    "    ActivityModelDrummond(\"CO2\")\n",
    "))"
   ]
  },
  {
   "cell_type": "code",
   "execution_count": null,
   "id": "f9d7915a",
   "metadata": {},
   "outputs": [],
   "source": [
    "minerals = MineralPhases(\"Fluorapatite Hydroxylapatite Calcite\")"
   ]
  },
  {
   "cell_type": "code",
   "execution_count": null,
   "id": "e3fa7b32",
   "metadata": {},
   "outputs": [],
   "source": [
    "system = ChemicalSystem(db, solution, minerals)"
   ]
  },
  {
   "cell_type": "code",
   "execution_count": null,
   "id": "14979b64",
   "metadata": {},
   "outputs": [],
   "source": [
    "props = ChemicalProps(system)\n",
    "aprops = AqueousProps(system)"
   ]
  },
  {
   "cell_type": "code",
   "execution_count": null,
   "id": "f6a65133",
   "metadata": {},
   "outputs": [],
   "source": [
    "specs = EquilibriumSpecs(system)\n",
    "specs.temperature()\n",
    "specs.pressure()\n",
    "specs.fugacity(\"CO2\")"
   ]
  },
  {
   "cell_type": "code",
   "execution_count": null,
   "id": "ae287836",
   "metadata": {},
   "outputs": [],
   "source": [
    "solver = EquilibriumSolver(specs)"
   ]
  },
  {
   "cell_type": "code",
   "execution_count": null,
   "id": "fe7517bf",
   "metadata": {},
   "outputs": [],
   "source": [
    "conditions = EquilibriumConditions(specs)"
   ]
  },
  {
   "cell_type": "markdown",
   "id": "691b7823",
   "metadata": {},
   "source": [
    "USE SOLUTION 1;\n",
    "EQUILIBRIUM_PHASES 1;\n",
    "CO2(g)    -4 100;\n",
    "Hydroxyapatite 0 10 dissolve_only;\n",
    "Fluorapatite 0 10 dissolve_only;\n",
    "Calcite 0 10 dissolve_only;\n",
    "REACTION_TEMPERATURE 1; 50;\n",
    "END"
   ]
  },
  {
   "cell_type": "code",
   "execution_count": null,
   "id": "0c1d9f1d",
   "metadata": {
    "lines_to_next_cell": 1
   },
   "outputs": [],
   "source": [
    "state = ChemicalState(system)\n",
    "state.set(\"H2O\", 1.0, \"kg\")\n",
    "state.set(\"CO2\", 100.0, \"mol\")\n",
    "state.set(\"Calcite\", 10.00, \"mol\")\n",
    "state.set(\"Fluorapatite\", 10.00, \"mol\")\n",
    "state.set(\"Hydroxylapatite\", 10.00, \"mol\")"
   ]
  },
  {
   "cell_type": "code",
   "execution_count": null,
   "id": "fc8238b0",
   "metadata": {
    "lines_to_next_cell": 1
   },
   "outputs": [],
   "source": [
    "def equilibrate(T, ppCO2):\n",
    "\n",
    "    conditions.temperature(T, \"celsius\")\n",
    "    conditions.pressure(1.0, \"atm\")\n",
    "    conditions.fugacity(\"CO2\", 10**(ppCO2), 'atm')\n",
    "\n",
    "    solver.solve(state, conditions)\n",
    "\n",
    "    props.update(state)\n",
    "    aprops.update(state)\n",
    "    pH = aprops.pH()[0]\n",
    "\n",
    "    return pH"
   ]
  },
  {
   "cell_type": "code",
   "execution_count": null,
   "id": "641c4e96",
   "metadata": {},
   "outputs": [],
   "source": [
    "num_temperatures = 3\n",
    "num_ppressures = 101\n",
    "temperatures = np.linspace(0, 50.0, num=num_temperatures)\n",
    "co2ppressures = np.linspace(-4.0, 0.0, num=num_ppressures)"
   ]
  },
  {
   "cell_type": "code",
   "execution_count": null,
   "id": "1ad823c9",
   "metadata": {},
   "outputs": [],
   "source": [
    "pHs = np.zeros((num_ppressures, num_temperatures))"
   ]
  },
  {
   "cell_type": "code",
   "execution_count": null,
   "id": "dc75bde1",
   "metadata": {},
   "outputs": [],
   "source": [
    "p_couter = 0\n",
    "for ppCO2 in co2ppressures:\n",
    "    pHs[p_couter, :] = np.array([equilibrate(T, ppCO2) for T in temperatures])\n",
    "    p_couter += 1"
   ]
  },
  {
   "cell_type": "code",
   "execution_count": null,
   "id": "b91df1dd",
   "metadata": {},
   "outputs": [],
   "source": [
    "np.savetxt(results_folder + '/pHs.txt', pHs)"
   ]
  },
  {
   "cell_type": "code",
   "execution_count": null,
   "id": "7dcf2630",
   "metadata": {},
   "outputs": [],
   "source": [
    "import matplotlib.pyplot as plt\n",
    "colors = ['C1', 'C2', 'C3', 'C4', 'C5', 'C7', 'C8', 'C9']"
   ]
  },
  {
   "cell_type": "code",
   "execution_count": null,
   "id": "707d68b1",
   "metadata": {},
   "outputs": [],
   "source": [
    "plt.figure()\n",
    "for i in range(0, num_temperatures):\n",
    "    plt.plot(co2ppressures, pHs[:, i], label=f'{temperatures[i]} C', color=colors[i])"
   ]
  },
  {
   "cell_type": "code",
   "execution_count": null,
   "id": "75846977",
   "metadata": {},
   "outputs": [],
   "source": [
    "plt.legend(loc=\"best\")\n",
    "plt.xlabel('ppCO2')\n",
    "plt.ylabel('pH [-]')\n",
    "plt.grid()\n",
    "plt.savefig(results_folder + '/' + 'pH-vs-ppCO2.png', bbox_inches='tight')\n",
    "plt.close()"
   ]
  },
  {
   "cell_type": "code",
   "execution_count": null,
   "id": "1425266e",
   "metadata": {},
   "outputs": [],
   "source": []
  }
 ],
 "metadata": {},
 "nbformat": 4,
 "nbformat_minor": 5
}
