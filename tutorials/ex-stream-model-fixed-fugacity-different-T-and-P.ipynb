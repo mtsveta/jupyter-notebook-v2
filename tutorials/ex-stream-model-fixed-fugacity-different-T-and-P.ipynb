{
 "cells": [
  {
   "cell_type": "code",
   "execution_count": null,
   "id": "503cbd25",
   "metadata": {},
   "outputs": [],
   "source": [
    "from reaktoro import *\n",
    "import numpy as np\n",
    "import os"
   ]
  },
  {
   "cell_type": "code",
   "execution_count": null,
   "id": "db88007b",
   "metadata": {},
   "outputs": [],
   "source": [
    "results_folder = 'results-stream-model-fixed-fugacity'\n",
    "os.system('mkdir -p ' + results_folder)"
   ]
  },
  {
   "cell_type": "code",
   "execution_count": null,
   "id": "848747b9",
   "metadata": {},
   "outputs": [],
   "source": [
    "db = PhreeqcDatabase.fromFile('databases/phreeqc-extended.dat') # if running from tutorials folder"
   ]
  },
  {
   "cell_type": "code",
   "execution_count": null,
   "id": "f1b1107d",
   "metadata": {},
   "outputs": [],
   "source": [
    "solution = AqueousPhase(speciate(\"H O C Na Cl Ca P\"))\n",
    "solution.setActivityModel(chain(\n",
    "    ActivityModelHKF(),\n",
    "    ActivityModelDrummond(\"CO2\")\n",
    "))"
   ]
  },
  {
   "cell_type": "code",
   "execution_count": null,
   "id": "0225be0b",
   "metadata": {},
   "outputs": [],
   "source": [
    "minerals = MineralPhases(\"Fluorapatite Hydroxylapatite Calcite\")"
   ]
  },
  {
   "cell_type": "code",
   "execution_count": null,
   "id": "7ee04ad0",
   "metadata": {},
   "outputs": [],
   "source": [
    "system = ChemicalSystem(db, solution, minerals)"
   ]
  },
  {
   "cell_type": "code",
   "execution_count": null,
   "id": "26f85114",
   "metadata": {},
   "outputs": [],
   "source": [
    "props = ChemicalProps(system)\n",
    "aprops = AqueousProps(system)"
   ]
  },
  {
   "cell_type": "code",
   "execution_count": null,
   "id": "c160baa2",
   "metadata": {},
   "outputs": [],
   "source": [
    "specs = EquilibriumSpecs(system)\n",
    "specs.temperature()\n",
    "specs.pressure()\n",
    "specs.fugacity(\"CO2\")"
   ]
  },
  {
   "cell_type": "code",
   "execution_count": null,
   "id": "8b03c101",
   "metadata": {},
   "outputs": [],
   "source": [
    "solver = EquilibriumSolver(specs)"
   ]
  },
  {
   "cell_type": "code",
   "execution_count": null,
   "id": "2291afd7",
   "metadata": {},
   "outputs": [],
   "source": [
    "conditions = EquilibriumConditions(specs)"
   ]
  },
  {
   "cell_type": "code",
   "execution_count": null,
   "id": "25c07cea",
   "metadata": {
    "lines_to_next_cell": 1
   },
   "outputs": [],
   "source": [
    "state = ChemicalState(system)\n",
    "state.set(\"H2O\", 1.0, \"kg\")\n",
    "state.set(\"CO2\", 100.0, \"mmol\")\n",
    "state.set(\"Calcite\", 10.00, \"mmol\")\n",
    "state.set(\"Fluorapatite\", 10.00, \"mmol\")\n",
    "state.set(\"Hydroxylapatite\", 10.00, \"mmol\")"
   ]
  },
  {
   "cell_type": "code",
   "execution_count": null,
   "id": "ba6b065c",
   "metadata": {
    "lines_to_next_cell": 1
   },
   "outputs": [],
   "source": [
    "def equilibrate(T, ppCO2):\n",
    "\n",
    "    conditions.temperature(T, \"celsius\")\n",
    "    conditions.pressure(1.0, \"atm\")\n",
    "    conditions.fugacity(\"CO2\", 10**(ppCO2))\n",
    "\n",
    "    solver.solve(state, conditions)\n",
    "\n",
    "    props.update(state)\n",
    "    aprops.update(state)\n",
    "    pH = aprops.pH()[0]\n",
    "\n",
    "    return pH"
   ]
  },
  {
   "cell_type": "code",
   "execution_count": null,
   "id": "23ea7cca",
   "metadata": {},
   "outputs": [],
   "source": [
    "num_temperatures = 3\n",
    "num_ppressures = 101\n",
    "temperatures = np.flip(np.linspace(0, 50.0, num=num_temperatures))\n",
    "co2ppressures = np.linspace(-4.0, 0.0, num=num_ppressures)"
   ]
  },
  {
   "cell_type": "markdown",
   "id": "8c020d7b",
   "metadata": {},
   "source": [
    "num_temperatures = 1 #101\n",
    "num_ppressures = 1 #106\n",
    "temperatures = np.array([50.0])\n",
    "co2ppressures = np.array([-4.0])"
   ]
  },
  {
   "cell_type": "code",
   "execution_count": null,
   "id": "3b4fd3c0",
   "metadata": {},
   "outputs": [],
   "source": [
    "pHs = np.zeros((num_ppressures, num_temperatures))"
   ]
  },
  {
   "cell_type": "markdown",
   "id": "8ae097a2",
   "metadata": {},
   "source": [
    "print(temperatures)\n",
    "print(co2ppressures)\n",
    "input()"
   ]
  },
  {
   "cell_type": "code",
   "execution_count": null,
   "id": "47b065ef",
   "metadata": {},
   "outputs": [],
   "source": [
    "p_couter = 0\n",
    "for ppCO2 in co2ppressures:\n",
    "    pHs[p_couter, :] = np.array([equilibrate(T, ppCO2) for T in temperatures])\n",
    "    p_couter += 1"
   ]
  },
  {
   "cell_type": "code",
   "execution_count": null,
   "id": "b22b173f",
   "metadata": {},
   "outputs": [],
   "source": [
    "np.savetxt(results_folder + '/pHs.txt', pHs)"
   ]
  },
  {
   "cell_type": "code",
   "execution_count": null,
   "id": "457b22e5",
   "metadata": {},
   "outputs": [],
   "source": [
    "import matplotlib.pyplot as plt\n",
    "colors = ['C1', 'C2', 'C3', 'C4', 'C5', 'C7', 'C8', 'C9']"
   ]
  },
  {
   "cell_type": "code",
   "execution_count": null,
   "id": "0464e170",
   "metadata": {},
   "outputs": [],
   "source": [
    "plt.figure()\n",
    "for i in range(0, num_temperatures):\n",
    "    plt.plot(co2ppressures, pHs[:, i], label=f'{temperatures[i]} C', color=colors[i])\n",
    "plt.legend(loc=\"best\")\n",
    "plt.xlabel('ppCO2')\n",
    "plt.ylabel('pH [-]')\n",
    "plt.grid()\n",
    "plt.savefig(results_folder + '/' + 'pH-vs-ppCO2.png', bbox_inches='tight')\n",
    "plt.close()"
   ]
  },
  {
   "cell_type": "code",
   "execution_count": null,
   "id": "98ccd1e4",
   "metadata": {},
   "outputs": [],
   "source": []
  }
 ],
 "metadata": {},
 "nbformat": 4,
 "nbformat_minor": 5
}
