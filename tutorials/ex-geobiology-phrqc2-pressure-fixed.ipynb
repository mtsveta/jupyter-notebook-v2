{
 "cells": [
  {
   "cell_type": "code",
   "execution_count": null,
   "id": "b6ea8cfb",
   "metadata": {},
   "outputs": [],
   "source": [
    "from reaktoro import *\n",
    "import numpy as np\n",
    "import os"
   ]
  },
  {
   "cell_type": "code",
   "execution_count": null,
   "id": "3f5ef8ed",
   "metadata": {},
   "outputs": [],
   "source": [
    "results_folder = 'results-phrqc2-pressure-fixed'\n",
    "os.system('mkdir -p ' + results_folder)"
   ]
  },
  {
   "cell_type": "code",
   "execution_count": null,
   "id": "cf1b4bfe",
   "metadata": {},
   "outputs": [],
   "source": [
    "db = PhreeqcDatabase.fromFile('databases/phreeqc-toner-catling.dat') # if running from tutorials folder"
   ]
  },
  {
   "cell_type": "markdown",
   "id": "f85cdbea",
   "metadata": {},
   "source": [
    "print(\"Database content:\\n---------------------\")\n",
    "for species in db.species():\n",
    "    print(species.name())"
   ]
  },
  {
   "cell_type": "code",
   "execution_count": null,
   "id": "5ea98524",
   "metadata": {},
   "outputs": [],
   "source": [
    "solution = AqueousPhase(speciate(\"H O C Na Cl\"))\n",
    "solution.setActivityModel(chain(\n",
    "    ActivityModelHKF(),\n",
    "    ActivityModelDrummond(\"CO2\")\n",
    "))"
   ]
  },
  {
   "cell_type": "code",
   "execution_count": null,
   "id": "62101d9a",
   "metadata": {},
   "outputs": [],
   "source": [
    "gases = GaseousPhase(\"CO2(g)\")\n",
    "gases.setActivityModel(ActivityModelPengRobinson())"
   ]
  },
  {
   "cell_type": "code",
   "execution_count": null,
   "id": "4c79efd3",
   "metadata": {},
   "outputs": [],
   "source": [
    "minerals = MineralPhases(\"Natron Nahcolite Trona Na2CO3:H2O Na2CO3:7H2O\")"
   ]
  },
  {
   "cell_type": "code",
   "execution_count": null,
   "id": "a179ab6d",
   "metadata": {},
   "outputs": [],
   "source": [
    "system = ChemicalSystem(db, solution, minerals, gases)\n",
    "# print(\"Chemical system content:\\n---------------------\")\n",
    "# for species in db.species():\n",
    "#     print(species.name())"
   ]
  },
  {
   "cell_type": "code",
   "execution_count": null,
   "id": "8b9ef62d",
   "metadata": {},
   "outputs": [],
   "source": [
    "specs = EquilibriumSpecs(system)\n",
    "specs.temperature()\n",
    "specs.pressure()"
   ]
  },
  {
   "cell_type": "code",
   "execution_count": null,
   "id": "fdbb583c",
   "metadata": {},
   "outputs": [],
   "source": [
    "T = 25.0 # temperature in celsius\n",
    "ppCO2 = -2"
   ]
  },
  {
   "cell_type": "code",
   "execution_count": null,
   "id": "2318e06c",
   "metadata": {},
   "outputs": [],
   "source": [
    "solver = EquilibriumSolver(specs)"
   ]
  },
  {
   "cell_type": "code",
   "execution_count": null,
   "id": "5f79ff7f",
   "metadata": {},
   "outputs": [],
   "source": [
    "conditions = EquilibriumConditions(specs)\n",
    "conditions.temperature(T, \"celsius\")\n",
    "conditions.pressure(10**(ppCO2), \"atm\")"
   ]
  },
  {
   "cell_type": "code",
   "execution_count": null,
   "id": "c53ec57e",
   "metadata": {},
   "outputs": [],
   "source": [
    "state = ChemicalState(system)\n",
    "state.set(\"H2O\", 1.0, \"kg\")\n",
    "state.set(\"Nahcolite\", 10.00, \"mol\")\n",
    "state.set(\"Natron\", 0.00, \"mol\")\n",
    "state.set(\"Trona\", 0.00, \"mol\")\n",
    "state.set(\"Na2CO3:H2O\", 0.00, \"mol\")\n",
    "state.set(\"Na2CO3:7H2O\", 0.00, \"mol\")\n",
    "state.set(\"CO2(g)\", 100, \"mol\")"
   ]
  },
  {
   "cell_type": "code",
   "execution_count": null,
   "id": "664e9f2c",
   "metadata": {},
   "outputs": [],
   "source": [
    "solver.solve(state, conditions)"
   ]
  },
  {
   "cell_type": "code",
   "execution_count": null,
   "id": "35a238e4",
   "metadata": {},
   "outputs": [],
   "source": [
    "props = ChemicalProps(state)\n",
    "aprops = AqueousProps(state)"
   ]
  },
  {
   "cell_type": "code",
   "execution_count": null,
   "id": "99f5dc1f",
   "metadata": {},
   "outputs": [],
   "source": [
    "ph = aprops.pH()[0]"
   ]
  },
  {
   "cell_type": "code",
   "execution_count": null,
   "id": "efeb4138",
   "metadata": {},
   "outputs": [],
   "source": [
    "print(\"pH = \", ph)"
   ]
  }
 ],
 "metadata": {},
 "nbformat": 4,
 "nbformat_minor": 5
}
