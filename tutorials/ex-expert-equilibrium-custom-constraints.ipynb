{
 "cells": [
  {
   "cell_type": "code",
   "execution_count": null,
   "id": "05369dc3",
   "metadata": {
    "lines_to_next_cell": 2
   },
   "outputs": [],
   "source": [
    "from reaktoro import *"
   ]
  },
  {
   "cell_type": "code",
   "execution_count": null,
   "id": "b81da1e1",
   "metadata": {},
   "outputs": [],
   "source": [
    "db = SupcrtDatabase(\"supcrtbl\")"
   ]
  },
  {
   "cell_type": "code",
   "execution_count": null,
   "id": "e46894b8",
   "metadata": {},
   "outputs": [],
   "source": [
    "solution = AqueousPhase(speciate(\"Na Cl C Ca Mg Si\"), exclude(\"organic\"))\n",
    "solution.setActivityModel(chain(\n",
    "    ActivityModelHKF(),\n",
    "    ActivityModelDrummond(\"CO2\")\n",
    "))"
   ]
  },
  {
   "cell_type": "code",
   "execution_count": null,
   "id": "c6ca2c0d",
   "metadata": {},
   "outputs": [],
   "source": [
    "gases = GaseousPhase(\"CO2(g) H2O(g)\")\n",
    "gases.setActivityModel(ActivityModelPengRobinson())"
   ]
  },
  {
   "cell_type": "code",
   "execution_count": null,
   "id": "9a228fcc",
   "metadata": {},
   "outputs": [],
   "source": [
    "minerals = MineralPhases(\"Halite Calcite Magnesite Dolomite Quartz\")"
   ]
  },
  {
   "cell_type": "code",
   "execution_count": null,
   "id": "1df66b05",
   "metadata": {},
   "outputs": [],
   "source": [
    "system = ChemicalSystem(db, solution, gases, minerals)"
   ]
  },
  {
   "cell_type": "code",
   "execution_count": null,
   "id": "dbb4552d",
   "metadata": {},
   "outputs": [],
   "source": [
    "statex = ChemicalState(system)\n",
    "statex.temperature(60.0, \"celsius\")\n",
    "statex.pressure(100.0, \"bar\")\n",
    "statex.set(\"H2O(aq)\"  , 1.00, \"kg\")\n",
    "statex.set(\"Halite\"   , 1.00, \"mol\")\n",
    "statex.set(\"Calcite\"  , 1.00, \"mol\")\n",
    "statex.set(\"Magnesite\", 1.00, \"mol\")\n",
    "statex.set(\"Quartz\"   , 1.00, \"mol\")"
   ]
  },
  {
   "cell_type": "code",
   "execution_count": null,
   "id": "dcffe4e0",
   "metadata": {},
   "outputs": [],
   "source": [
    "equilibrate(statex)"
   ]
  },
  {
   "cell_type": "code",
   "execution_count": null,
   "id": "a583a763",
   "metadata": {},
   "outputs": [],
   "source": [
    "propsx = ChemicalProps(statex)\n",
    "Vx = propsx.volume()\n",
    "Ux = propsx.internalEnergy()"
   ]
  },
  {
   "cell_type": "code",
   "execution_count": null,
   "id": "9b89ade7",
   "metadata": {},
   "outputs": [],
   "source": [
    "statex.output(\"state-expected.txt\")\n",
    "propsx.output(\"props-expected.txt\")"
   ]
  },
  {
   "cell_type": "code",
   "execution_count": null,
   "id": "7d802ed9",
   "metadata": {},
   "outputs": [],
   "source": [
    "specs = EquilibriumSpecs(system)"
   ]
  },
  {
   "cell_type": "code",
   "execution_count": null,
   "id": "5ad05c6d",
   "metadata": {},
   "outputs": [],
   "source": [
    "idxV = specs.addInput(\"V\")\n",
    "idxU = specs.addInput(\"U\")"
   ]
  },
  {
   "cell_type": "code",
   "execution_count": null,
   "id": "3d454e93",
   "metadata": {},
   "outputs": [],
   "source": [
    "volumeConstraint = ConstraintEquation()\n",
    "volumeConstraint.id = \"VolumeConstraint\"\n",
    "volumeConstraint.fn = lambda props, w: props.volume() - w[idxV]"
   ]
  },
  {
   "cell_type": "code",
   "execution_count": null,
   "id": "dd17e4cf",
   "metadata": {},
   "outputs": [],
   "source": [
    "internalEnergyConstraint = ConstraintEquation()\n",
    "internalEnergyConstraint.id = \"InternalEnergyConstraint\"\n",
    "internalEnergyConstraint.fn = lambda props, w: props.internalEnergy() - w[idxU]"
   ]
  },
  {
   "cell_type": "code",
   "execution_count": null,
   "id": "a27c92d1",
   "metadata": {},
   "outputs": [],
   "source": [
    "specs.addConstraint(volumeConstraint)\n",
    "specs.addConstraint(internalEnergyConstraint)"
   ]
  },
  {
   "cell_type": "code",
   "execution_count": null,
   "id": "6562adaa",
   "metadata": {},
   "outputs": [],
   "source": [
    "conditions = EquilibriumConditions(specs)\n",
    "conditions.set(\"V\", Vx)\n",
    "conditions.set(\"U\", Ux)\n",
    "conditions.setLowerBoundPressure(1.0, \"bar\")"
   ]
  },
  {
   "cell_type": "code",
   "execution_count": null,
   "id": "8fcc4891",
   "metadata": {},
   "outputs": [],
   "source": [
    "state = ChemicalState(system)\n",
    "state.temperature(25.0, \"celsius\")\n",
    "state.pressure(1.0, \"bar\")\n",
    "state.set(\"H2O(aq)\"  , 1.00, \"kg\")\n",
    "state.set(\"Halite\"   , 1.00, \"mol\")\n",
    "state.set(\"Calcite\"  , 1.00, \"mol\")\n",
    "state.set(\"Magnesite\", 1.00, \"mol\")\n",
    "state.set(\"Quartz\"   , 1.00, \"mol\")"
   ]
  },
  {
   "cell_type": "code",
   "execution_count": null,
   "id": "d5d545ad",
   "metadata": {},
   "outputs": [],
   "source": [
    "solver = EquilibriumSolver(specs)"
   ]
  },
  {
   "cell_type": "code",
   "execution_count": null,
   "id": "44a38d8f",
   "metadata": {},
   "outputs": [],
   "source": [
    "solver.solve(state, conditions)"
   ]
  },
  {
   "cell_type": "code",
   "execution_count": null,
   "id": "91876ef2",
   "metadata": {},
   "outputs": [],
   "source": [
    "props = ChemicalProps(state)"
   ]
  },
  {
   "cell_type": "code",
   "execution_count": null,
   "id": "9ce3c98a",
   "metadata": {},
   "outputs": [],
   "source": [
    "state.output(\"state.txt\")\n",
    "props.output(\"props.txt\")"
   ]
  },
  {
   "cell_type": "markdown",
   "id": "53467c9d",
   "metadata": {},
   "source": [
    "Check if props.txt and props-expected.txt are numerically equivalent."
   ]
  }
 ],
 "metadata": {},
 "nbformat": 4,
 "nbformat_minor": 5
}
