{
 "cells": [
  {
   "cell_type": "code",
   "execution_count": null,
   "id": "e1d62fb1",
   "metadata": {},
   "outputs": [],
   "source": [
    "from reaktoro import *"
   ]
  },
  {
   "cell_type": "code",
   "execution_count": null,
   "id": "852128ab",
   "metadata": {},
   "outputs": [],
   "source": [
    "db = PhreeqcDatabase(\"phreeqc.dat\")"
   ]
  },
  {
   "cell_type": "code",
   "execution_count": null,
   "id": "d0f6471f",
   "metadata": {},
   "outputs": [],
   "source": [
    "solution = AqueousPhase(speciate(\"H O C Na Cl Ca\"))\n",
    "solution.setActivityModel(chain(\n",
    "    ActivityModelHKF(),\n",
    "    ActivityModelDrummond(\"CO2\")\n",
    "))"
   ]
  },
  {
   "cell_type": "code",
   "execution_count": null,
   "id": "bcecb19e",
   "metadata": {},
   "outputs": [],
   "source": [
    "mineral = MineralPhase(\"Calcite\")"
   ]
  },
  {
   "cell_type": "code",
   "execution_count": null,
   "id": "01525a76",
   "metadata": {},
   "outputs": [],
   "source": [
    "system = ChemicalSystem(db, solution, mineral)"
   ]
  },
  {
   "cell_type": "code",
   "execution_count": null,
   "id": "f7879cc1",
   "metadata": {},
   "outputs": [],
   "source": [
    "T = 25.0 # temperature in celsius\n",
    "P = 1.0  # pressure in bar"
   ]
  },
  {
   "cell_type": "code",
   "execution_count": null,
   "id": "0b7318ba",
   "metadata": {},
   "outputs": [],
   "source": [
    "state = ChemicalState(system)\n",
    "state.temperature(T, \"celsius\")\n",
    "state.pressure(P, \"bar\")\n",
    "state.set(\"H2O\"    , 1.0 , \"kg\")\n",
    "#state.set(\"Na+\"    , 4.00, \"mol\")\n",
    "#state.set(\"Cl-\"    , 4.00, \"mol\")\n",
    "#state.set(\"Calcite\", 10.0, \"mol\")"
   ]
  },
  {
   "cell_type": "code",
   "execution_count": null,
   "id": "de3a4e9e",
   "metadata": {},
   "outputs": [],
   "source": [
    "specs = EquilibriumSpecs(system)\n",
    "specs.temperature()\n",
    "specs.pressure()\n",
    "specs.fugacity(\"CO2\")"
   ]
  },
  {
   "cell_type": "code",
   "execution_count": null,
   "id": "1c324031",
   "metadata": {},
   "outputs": [],
   "source": [
    "solver = EquilibriumSolver(specs)"
   ]
  },
  {
   "cell_type": "code",
   "execution_count": null,
   "id": "95b3b035",
   "metadata": {},
   "outputs": [],
   "source": [
    "conditions = EquilibriumConditions(specs)\n",
    "conditions.temperature(25.0, \"celsius\")\n",
    "conditions.pressure(1.0, \"atm\")\n",
    "conditions.fugacity(\"CO2\", 10**(-2))"
   ]
  },
  {
   "cell_type": "code",
   "execution_count": null,
   "id": "325f5367",
   "metadata": {},
   "outputs": [],
   "source": [
    "solver.solve(state, conditions)"
   ]
  },
  {
   "cell_type": "code",
   "execution_count": null,
   "id": "098e0cec",
   "metadata": {},
   "outputs": [],
   "source": [
    "props = ChemicalProps(state)\n",
    "props.output(\"props.txt\")"
   ]
  },
  {
   "cell_type": "code",
   "execution_count": null,
   "id": "96ebfd3f",
   "metadata": {},
   "outputs": [],
   "source": [
    "aprops = AqueousProps(state)\n",
    "aprops.output(\"aprops.txt\")"
   ]
  }
 ],
 "metadata": {},
 "nbformat": 4,
 "nbformat_minor": 5
}
