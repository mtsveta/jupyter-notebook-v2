{
 "cells": [
  {
   "cell_type": "code",
   "execution_count": null,
   "id": "18c7ba0f",
   "metadata": {},
   "outputs": [],
   "source": [
    "from reaktoro import *\n",
    "import numpy as np\n",
    "import os\n",
    "from math import *"
   ]
  },
  {
   "cell_type": "code",
   "execution_count": null,
   "id": "cb9012be",
   "metadata": {},
   "outputs": [],
   "source": [
    "results_folder = 'results-phrqc2-PO4'\n",
    "os.system('mkdir -p ' + results_folder)"
   ]
  },
  {
   "cell_type": "code",
   "execution_count": null,
   "id": "bcb90112",
   "metadata": {},
   "outputs": [],
   "source": [
    "db = PhreeqcDatabase.fromFile('databases/phreeqc-toner-catling.dat') # if running from tutorials folder"
   ]
  },
  {
   "cell_type": "code",
   "execution_count": null,
   "id": "05c46c70",
   "metadata": {},
   "outputs": [],
   "source": [
    "print(\"Database:\\n---------------------\")\n",
    "for species in db.species():\n",
    "    print(species.name())\n",
    "#input()"
   ]
  },
  {
   "cell_type": "markdown",
   "id": "e6d9f907",
   "metadata": {},
   "source": [
    "PO4-3\n",
    "H2PO4-\n",
    "CaH2PO4+\n",
    "HPO4-2\n",
    "CaHPO4"
   ]
  },
  {
   "cell_type": "markdown",
   "id": "3297688f",
   "metadata": {},
   "source": [
    "FeH2PO4+\n",
    "FeH2PO4+2\n",
    "FeHCO3+\n",
    "FeHPO4\n",
    "FeHPO4+\n",
    "H3PO4\n",
    "KHPO4-\n",
    "MgH2PO4+\n",
    "MgHCO3+\n",
    "MgHPO4\n",
    "MgOH+\n",
    "MgPO4-"
   ]
  },
  {
   "cell_type": "code",
   "execution_count": null,
   "id": "20511d0f",
   "metadata": {},
   "outputs": [],
   "source": [
    "solution = AqueousPhase(speciate(\"H O C Na Cl Ca P\"))\n",
    "solution.setActivityModel(chain(\n",
    "    ActivityModelHKF(),\n",
    "    ActivityModelDrummond(\"CO2\")\n",
    "))"
   ]
  },
  {
   "cell_type": "code",
   "execution_count": null,
   "id": "1285ddd9",
   "metadata": {
    "lines_to_next_cell": 2
   },
   "outputs": [],
   "source": [
    "#minerals = MineralPhases(\"Natron Nahcolite Trona Na2CO3:H2O Na2CO3:7H2O\")\n",
    "minerals = MineralPhases(\"Na2(HPO4):12H2O Na2(HPO4):7H2O Na2(HPO4):2H2O Na2(HPO4) Na(H2PO4):2H2O Na(H2PO4):H2O Na(H2PO4) \"\n",
    "                         \"Natron Nahcolite Trona Na2CO3:H2O Na2CO3:7H2O \"\n",
    "                         \"Halite\")"
   ]
  },
  {
   "cell_type": "code",
   "execution_count": null,
   "id": "94ef34b1",
   "metadata": {},
   "outputs": [],
   "source": [
    "system = ChemicalSystem(db, solution, minerals)"
   ]
  },
  {
   "cell_type": "markdown",
   "id": "52521c69",
   "metadata": {},
   "source": [
    "print(\"Chemical system content:\\n---------------------\")\n",
    "for species in db.species():\n",
    "    print(species.name())\n",
    "input()"
   ]
  },
  {
   "cell_type": "code",
   "execution_count": null,
   "id": "56df50be",
   "metadata": {},
   "outputs": [],
   "source": [
    "props = ChemicalProps(system)\n",
    "aprops = AqueousProps(system)"
   ]
  },
  {
   "cell_type": "code",
   "execution_count": null,
   "id": "6fbadd2d",
   "metadata": {},
   "outputs": [],
   "source": [
    "specs = EquilibriumSpecs(system)\n",
    "specs.temperature()\n",
    "specs.pressure()\n",
    "specs.fugacity(\"CO2\")"
   ]
  },
  {
   "cell_type": "code",
   "execution_count": null,
   "id": "43173e7c",
   "metadata": {},
   "outputs": [],
   "source": [
    "solver = EquilibriumSolver(specs)"
   ]
  },
  {
   "cell_type": "code",
   "execution_count": null,
   "id": "36ce7b28",
   "metadata": {},
   "outputs": [],
   "source": [
    "conditions = EquilibriumConditions(specs)"
   ]
  },
  {
   "cell_type": "code",
   "execution_count": null,
   "id": "f466737b",
   "metadata": {},
   "outputs": [],
   "source": [
    "opts = EquilibriumOptions()\n",
    "opts.epsilon = 1e-13\n",
    "solver.setOptions(opts)"
   ]
  },
  {
   "cell_type": "code",
   "execution_count": null,
   "id": "332bf438",
   "metadata": {
    "lines_to_next_cell": 1
   },
   "outputs": [],
   "source": [
    "def equilibrate_Na_HPO4(T, ppCO2):\n",
    "\n",
    "    conditions.temperature(T, \"celsius\")\n",
    "    conditions.pressure(1.0, \"bar\")\n",
    "    conditions.fugacity(\"CO2\", 10**(ppCO2), 'bar')\n",
    "\n",
    "    state = ChemicalState(system)\n",
    "    state.set(\"H2O\", 1.0, \"kg\")\n",
    "    state.set(\"CO2\", 100, \"mol\")\n",
    "    state.set(\"Na2(HPO4):12H2O\", 10.00, \"mol\")\n",
    "    #state.set(\"Na2(HPO4):7H2O\", 10.00, \"mol\")\n",
    "    #state.set(\"Na2(HPO4):2H2O\", 10.00, \"mol\") # with this mineral nothing works\n",
    "\n",
    "    res = solver.solve(state, conditions)\n",
    "\n",
    "    if not res.optima.succeeded:\n",
    "        print(f\"ERROR: The optimization solver hasn't converged for T = {T} C and ppCO2 = {ppCO2}\")\n",
    "        return nan, nan\n",
    "\n",
    "    props.update(state)\n",
    "    aprops.update(state)\n",
    "\n",
    "    pH = aprops.pH()[0]\n",
    "    moleP = props.elementAmountInPhase(\"P\", \"AqueousPhase\")[0]\n",
    "\n",
    "    #print(\"pH = \", pH)\n",
    "    if pH < 5 or pH > 13:\n",
    "        return nan, nan\n",
    "    else:\n",
    "        return pH, moleP"
   ]
  },
  {
   "cell_type": "code",
   "execution_count": null,
   "id": "7b841d79",
   "metadata": {
    "lines_to_next_cell": 1
   },
   "outputs": [],
   "source": [
    "def equilibrate_Na_HCO3_CO3_HPO4(T, ppCO2):\n",
    "\n",
    "    conditions.temperature(T, \"celsius\")\n",
    "    conditions.pressure(1.0, \"bar\")\n",
    "    conditions.fugacity(\"CO2\", 10**(ppCO2), 'bar')\n",
    "\n",
    "    state = ChemicalState(system)\n",
    "    state.set(\"H2O\", 1.0, \"kg\")\n",
    "    state.set(\"CO2\", 100, \"mol\")\n",
    "\n",
    "    # All the Phosphat species\n",
    "    state.set(\"Na2(HPO4):12H2O\", 10.00, \"mol\")\n",
    "    #state.set(\"Na2(HPO4):7H2O\", 10.00, \"mol\")\n",
    "    # state.set(\"Na2(HPO4):2H2O\", 10.00, \"mol\") # solver doesn't converge\n",
    "    # state.set(\"Na2(HPO4)\", 10.00, \"mol\")\n",
    "    # state.set(\"Na(H2PO4):2H2O\", 10.00, \"mol\")\n",
    "    # state.set(\"Na(H2PO4):H2O\", 10.00, \"mol\")\n",
    "    # state.set(\"Na(H2PO4)\", 10.00, \"mol\")\n",
    "\n",
    "    # All the sodium minerals\n",
    "    #state.set(\"Natron\", 10.00, \"mol\")       # Na2CO3:10H2O\n",
    "    state.set(\"Nahcolite\", 10.00, \"mol\")   # NaHCO3 (works better then Natron)\n",
    "    #state.set(\"Trona\", 10.00, \"mol\")       # Na3H(CO3)2:2H2O (convergese the worst of the above)\n",
    "    #state.set(\"Na2CO3:H2O\", 10.00, \"mol\")\n",
    "    #state.set(\"Na2CO3:7H2O\", 10.00, \"mol\")\n",
    "\n",
    "    res = solver.solve(state, conditions)\n",
    "\n",
    "    if not res.optima.succeeded:\n",
    "        print(f\"ERROR: The optimization solver hasn't converged for T = {T} C and ppCO2 = {ppCO2}\")\n",
    "        return nan, nan\n",
    "\n",
    "    props.update(state)\n",
    "    aprops.update(state)\n",
    "\n",
    "    pH = aprops.pH()[0]\n",
    "    moleP = props.elementAmountInPhase(\"P\", \"AqueousPhase\")[0]\n",
    "\n",
    "    if pH < 5 or pH > 13:\n",
    "        return nan, nan\n",
    "    else:\n",
    "        return pH, moleP"
   ]
  },
  {
   "cell_type": "code",
   "execution_count": null,
   "id": "fa450034",
   "metadata": {
    "lines_to_next_cell": 1
   },
   "outputs": [],
   "source": [
    "def equilibrate_Na_Cl_HCO3_CO3_HPO4(T, ppCO2):\n",
    "\n",
    "    conditions.temperature(T, \"celsius\")\n",
    "    conditions.pressure(1.0, \"bar\")\n",
    "    conditions.fugacity(\"CO2\", 10**(ppCO2), 'bar')\n",
    "\n",
    "    state = ChemicalState(system)\n",
    "    state.set(\"H2O\", 1.0, \"kg\")\n",
    "    state.set(\"CO2\", 100, \"mol\")\n",
    "\n",
    "    # All the Phosphat species\n",
    "    #state.set(\"Na2(HPO4):12H2O\", 10.00, \"mol\")\n",
    "    state.set(\"Na2(HPO4):7H2O\", 10.00, \"mol\")\n",
    "    # state.set(\"Na2(HPO4):2H2O\", 10.00, \"mol\") # solver doesn't converge\n",
    "    # state.set(\"Na2(HPO4)\", 10.00, \"mol\")\n",
    "    # state.set(\"Na(H2PO4):2H2O\", 10.00, \"mol\")\n",
    "    # state.set(\"Na(H2PO4):H2O\", 10.00, \"mol\")\n",
    "    # state.set(\"Na(H2PO4)\", 10.00, \"mol\")\n",
    "\n",
    "    # All the sodium minerals\n",
    "    state.set(\"Natron\", 10.00, \"mol\")       # Na2CO3:10H2O\n",
    "    #state.set(\"Nahcolite\", 10.00, \"mol\")   # NaHCO3\n",
    "    #state.set(\"Trona\", 10.00, \"mol\")       # Na3H(CO3)2:2H2O\n",
    "    #state.set(\"Na2CO3:H2O\", 10.00, \"mol\")\n",
    "    #state.set(\"Na2CO3:7H2O\", 10.00, \"mol\")\n",
    "    state.set(\"Halite\", 10.00, \"mol\")\n",
    "\n",
    "    res = solver.solve(state, conditions)\n",
    "\n",
    "    if not res.optima.succeeded:\n",
    "        print(f\"ERROR: The optimization solver hasn't converged for T = {T} C and ppCO2 = {ppCO2}\")\n",
    "        return nan, nan\n",
    "\n",
    "    props.update(state)\n",
    "    aprops.update(state)\n",
    "\n",
    "    pH = aprops.pH()[0]\n",
    "    moleP = props.elementAmountInPhase(\"P\", \"AqueousPhase\")[0]\n",
    "\n",
    "    if pH < 5 or pH > 13:\n",
    "        return nan, nan\n",
    "    else:\n",
    "        return pH, moleP"
   ]
  },
  {
   "cell_type": "code",
   "execution_count": null,
   "id": "11843daa",
   "metadata": {},
   "outputs": [],
   "source": [
    "num_temperatures = 101\n",
    "num_ppressures = 2\n",
    "temperatures = np.linspace(0, 50.0, num=num_temperatures)\n",
    "co2ppressures = np.linspace(-3.5, 0.0, num=num_ppressures)"
   ]
  },
  {
   "cell_type": "markdown",
   "id": "62e7b833",
   "metadata": {},
   "source": [
    "data_size = 2\n",
    "data0  = np.zeros((num_temperatures, data_size+1))\n",
    "data35 = np.zeros((num_temperatures, data_size+1))\n",
    "\n",
    "for i in range(0, num_temperatures):\n",
    "    # ppCO2 = -3.5\n",
    "    result = Na_HPO4(temperatures[i], co2ppressures[0])\n",
    "    #print(result)\n",
    "    #input()\n",
    "    if result != \"ERROR\":\n",
    "        data35[i, 0] = temperatures[i]\n",
    "        data35[i, 1] = result[0]\n",
    "        data35[i, 2] = result[1]\n",
    "\n",
    "    # ppCO2 = 0.0\n",
    "    result = Na_HPO4(temperatures[i], co2ppressures[1])\n",
    "    #input()\n",
    "    if result != \"ERROR\":\n",
    "        data0[i, 0] = temperatures[i]\n",
    "        data0[i, 1] = result[0]\n",
    "        data0[i, 2] = result[1]\n",
    "\n",
    "np.savetxt(results_folder + '/data0-Na2(HPO4)-12H2O.txt', data0)\n",
    "np.savetxt(results_folder + '/data35-Na2(HPO4)-12H2O.txt', data35)\n",
    "\n",
    "import matplotlib.pyplot as plt\n",
    "colors = ['C1', 'C2', 'C3', 'C4', 'C5', 'C7', 'C8', 'C9']\n",
    "\n",
    "plt.figure()\n",
    "plt.plot(temperatures, data0[:, 1], label=f'ppCO2 = 0', color=colors[0])\n",
    "plt.plot(temperatures, data35[:, 1], label=f'ppCO2 = -3.5', color=colors[1])\n",
    "\n",
    "plt.legend(loc=\"best\")\n",
    "plt.xlabel('ppCO2')\n",
    "plt.ylabel('pH [-]')\n",
    "plt.grid()\n",
    "plt.savefig(results_folder + '/' + 'pH-vs-ppCO2-pure-Na2(HPO4)-12H2O.png', bbox_inches='tight')\n",
    "plt.close()\n",
    "\n",
    "plt.figure()\n",
    "plt.plot(temperatures, data0[:, 2], label=f'ppCO2 = 0', color=colors[2])\n",
    "plt.plot(temperatures, data35[:, 2], label=f'ppCO2 = -3.5', color=colors[3])\n",
    "plt.yscale('log')\n",
    "plt.legend(loc=\"best\")\n",
    "plt.xlabel('ppCO2')\n",
    "plt.ylabel('Amount of P [mole]')\n",
    "plt.grid()\n",
    "plt.savefig(results_folder + '/' + 'moleP-vs-ppCO2-pure-Na2(HPO4)-12H2O.png', bbox_inches='tight')\n",
    "plt.close()"
   ]
  },
  {
   "cell_type": "markdown",
   "id": "065cb1d9",
   "metadata": {},
   "source": [
    "# ##########################################################\n",
    "\n",
    "data_size = 2\n",
    "data0  = np.zeros((num_temperatures, data_size+1))\n",
    "data35 = np.zeros((num_temperatures, data_size+1))\n",
    "\n",
    "for i in range(0, num_temperatures):\n",
    "    # ppCO2 = -3.5\n",
    "    result = equilibrate_Na_Cl_HCO3_CO3_HPO4(temperatures[i], co2ppressures[0])\n",
    "    #print(result)\n",
    "    #input()\n",
    "    if result != \"ERROR\":\n",
    "        data35[i, 0] = temperatures[i]\n",
    "        data35[i, 1] = result[0]\n",
    "        data35[i, 2] = result[1]\n",
    "\n",
    "    # ppCO2 = 0.0\n",
    "    result = equilibrate_Na_Cl_HCO3_CO3_HPO4(temperatures[i], co2ppressures[1])\n",
    "    #input()\n",
    "    if result != \"ERROR\":\n",
    "        data0[i, 0] = temperatures[i]\n",
    "        data0[i, 1] = result[0]\n",
    "        data0[i, 2] = result[1]\n",
    "\n",
    "np.savetxt(results_folder + '/data0-mixed-Na2(HPO4)-7H2O.txt', data0)\n",
    "np.savetxt(results_folder + '/data35-mixed-Na2(HPO4)-7H2O.txt', data35)\n",
    "\n",
    "import matplotlib.pyplot as plt\n",
    "colors = ['C1', 'C2', 'C3', 'C4', 'C5', 'C7', 'C8', 'C9']\n",
    "\n",
    "plt.figure()\n",
    "plt.plot(temperatures, data0[:, 1], label=f'ppCO2 = 0', color=colors[0])\n",
    "plt.plot(temperatures, data35[:, 1], label=f'ppCO2 = -3.5', color=colors[1])\n",
    "\n",
    "plt.legend(loc=\"best\")\n",
    "plt.xlabel('T [degC]')\n",
    "plt.ylabel('pH [-]')\n",
    "plt.grid()\n",
    "plt.savefig(results_folder + '/' + 'pH-vs-ppCO2-mixed-Na2(HPO4)-7H2O.png', bbox_inches='tight')\n",
    "plt.close()\n",
    "\n",
    "plt.figure()\n",
    "plt.plot(temperatures, data0[:, 2], label=f'ppCO2 = 0', color=colors[2])\n",
    "plt.plot(temperatures, data35[:, 2], label=f'ppCO2 = -3.5', color=colors[3])\n",
    "plt.yscale('log')\n",
    "plt.legend(loc=\"best\")\n",
    "plt.xlabel('T [degC]')\n",
    "plt.ylabel('Amount of P [mole]')\n",
    "plt.grid()\n",
    "plt.savefig(results_folder + '/' + 'moleP-vs-ppCO2-mixed-Na2(HPO4)-7H2O.png', bbox_inches='tight')\n",
    "plt.close()\n"
   ]
  },
  {
   "cell_type": "markdown",
   "id": "3372249b",
   "metadata": {},
   "source": [
    "##########################################################"
   ]
  },
  {
   "cell_type": "code",
   "execution_count": null,
   "id": "791f47a7",
   "metadata": {},
   "outputs": [],
   "source": [
    "data_size = 2\n",
    "data0  = np.zeros((num_temperatures, data_size+1))\n",
    "data35 = np.zeros((num_temperatures, data_size+1))"
   ]
  },
  {
   "cell_type": "code",
   "execution_count": null,
   "id": "fc559839",
   "metadata": {},
   "outputs": [],
   "source": [
    "for i in range(0, num_temperatures):\n",
    "    # ppCO2 = -3.5\n",
    "    result = equilibrate_Na_HCO3_CO3_HPO4(temperatures[i], co2ppressures[0])\n",
    "    #print(result)\n",
    "    #input()\n",
    "    if result != \"ERROR\":\n",
    "        data35[i, 0] = temperatures[i]\n",
    "        data35[i, 1] = result[0]\n",
    "        data35[i, 2] = result[1]\n",
    "\n",
    "    # ppCO2 = 0.0\n",
    "    result = equilibrate_Na_HCO3_CO3_HPO4(temperatures[i], co2ppressures[1])\n",
    "    #input()\n",
    "    if result != \"ERROR\":\n",
    "        data0[i, 0] = temperatures[i]\n",
    "        data0[i, 1] = result[0]\n",
    "        data0[i, 2] = result[1]"
   ]
  },
  {
   "cell_type": "code",
   "execution_count": null,
   "id": "ea090460",
   "metadata": {},
   "outputs": [],
   "source": [
    "np.savetxt(results_folder + '/data0-mixed-NaHCO3_CO3_HPO4.txt', data0)\n",
    "np.savetxt(results_folder + '/data35-mixed-NaHCO3_CO3_HPO4.txt', data35)"
   ]
  },
  {
   "cell_type": "code",
   "execution_count": null,
   "id": "e0e8164a",
   "metadata": {},
   "outputs": [],
   "source": [
    "import matplotlib.pyplot as plt\n",
    "colors = ['C1', 'C2', 'C3', 'C4', 'C5', 'C7', 'C8', 'C9']"
   ]
  },
  {
   "cell_type": "code",
   "execution_count": null,
   "id": "0c56202b",
   "metadata": {},
   "outputs": [],
   "source": [
    "plt.figure()\n",
    "plt.plot(temperatures, data0[:, 1], label=f'ppCO2 = 0', color=colors[0])\n",
    "plt.plot(temperatures, data35[:, 1], label=f'ppCO2 = -3.5', color=colors[1])"
   ]
  },
  {
   "cell_type": "code",
   "execution_count": null,
   "id": "1455f27d",
   "metadata": {},
   "outputs": [],
   "source": [
    "plt.legend(loc=\"best\")\n",
    "plt.xlabel('T [degC]')\n",
    "plt.ylabel('pH [-]')\n",
    "plt.grid()\n",
    "plt.savefig(results_folder + '/' + 'pH-vs-ppCO2-NaHCO3_CO3_HPO4.png', bbox_inches='tight')\n",
    "plt.close()"
   ]
  },
  {
   "cell_type": "code",
   "execution_count": null,
   "id": "438b5437",
   "metadata": {},
   "outputs": [],
   "source": [
    "plt.figure()\n",
    "plt.plot(temperatures, data0[:, 2], label=f'ppCO2 = 0', color=colors[2])\n",
    "plt.plot(temperatures, data35[:, 2], label=f'ppCO2 = -3.5', color=colors[3])\n",
    "plt.yscale('log')\n",
    "plt.legend(loc=\"best\")\n",
    "plt.xlabel('T [degC]')\n",
    "plt.ylabel('Amount of P [mole]')\n",
    "plt.grid()\n",
    "plt.savefig(results_folder + '/' + 'moleP-vs-ppCO2-NaHCO3_CO3_HPO4.png', bbox_inches='tight')\n",
    "plt.close()"
   ]
  }
 ],
 "metadata": {},
 "nbformat": 4,
 "nbformat_minor": 5
}
