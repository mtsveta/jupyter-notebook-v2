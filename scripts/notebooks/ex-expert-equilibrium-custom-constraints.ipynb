{
 "cells": [
  {
   "cell_type": "markdown",
   "id": "e730fe46",
   "metadata": {},
   "source": [
    "Reaktoro is a unified framework for modeling chemically reactive systems.\n",
    "\n",
    "Copyright © 2014-2021 Allan Leal\n",
    "\n",
    "This library is free software; you can redistribute it and/or\n",
    "modify it under the terms of the GNU Lesser General Public\n",
    "License as published by the Free Software Foundation; either\n",
    "version 2.1 of the License, or (at your option) any later version.\n",
    "\n",
    "This library is distributed in the hope that it will be useful,\n",
    "but WITHOUT ANY WARRANTY; without even the implied warranty of\n",
    "MERCHANTABILITY or FITNESS FOR A PARTICULAR PURPOSE. See the GNU\n",
    "Lesser General Public License for more details.\n",
    "\n",
    "You should have received a copy of the GNU Lesser General Public License\n",
    "along with this library. If not, see <http://www.gnu.org/licenses/>."
   ]
  },
  {
   "cell_type": "markdown",
   "id": "cf2aedd8",
   "metadata": {
    "lines_to_next_cell": 2
   },
   "source": [
    "-----------------------------------------------------------------------------\n",
    "👏 Acknowledgements 👏\n",
    "-----------------------------------------------------------------------------\n",
    "This example was originally authored by:\n",
    "  • Allan Leal (16 July 2021)\n",
    "\n",
    "and since revised by:\n",
    "  • Allan Leal (22 July 2021)\n",
    "-----------------------------------------------------------------------------"
   ]
  },
  {
   "cell_type": "code",
   "execution_count": null,
   "id": "e61dc7ae",
   "metadata": {
    "lines_to_next_cell": 2
   },
   "outputs": [],
   "source": [
    "from reaktoro import *"
   ]
  },
  {
   "cell_type": "code",
   "execution_count": null,
   "id": "dd12c2a2",
   "metadata": {},
   "outputs": [],
   "source": [
    "db = SupcrtDatabase(\"supcrtbl\")"
   ]
  },
  {
   "cell_type": "code",
   "execution_count": null,
   "id": "4ba5360d",
   "metadata": {},
   "outputs": [],
   "source": [
    "solution = AqueousPhase(speciate(\"Na Cl C Ca Mg Si\"), exclude(\"organic\"))\n",
    "solution.setActivityModel(chain(\n",
    "    ActivityModelHKF(),\n",
    "    ActivityModelDrummond(\"CO2\")\n",
    "))"
   ]
  },
  {
   "cell_type": "code",
   "execution_count": null,
   "id": "61dd7f94",
   "metadata": {},
   "outputs": [],
   "source": [
    "gases = GaseousPhase(\"CO2(g) H2O(g)\")\n",
    "gases.setActivityModel(ActivityModelPengRobinson())"
   ]
  },
  {
   "cell_type": "code",
   "execution_count": null,
   "id": "bb0d5b68",
   "metadata": {},
   "outputs": [],
   "source": [
    "minerals = MineralPhases(\"Halite Calcite Magnesite Dolomite Quartz\")"
   ]
  },
  {
   "cell_type": "code",
   "execution_count": null,
   "id": "dff6cfb5",
   "metadata": {},
   "outputs": [],
   "source": [
    "system = ChemicalSystem(db, solution, gases, minerals)"
   ]
  },
  {
   "cell_type": "code",
   "execution_count": null,
   "id": "c774e2e7",
   "metadata": {},
   "outputs": [],
   "source": [
    "statex = ChemicalState(system)\n",
    "statex.temperature(60.0, \"celsius\")\n",
    "statex.pressure(100.0, \"bar\")\n",
    "statex.set(\"H2O(aq)\"  , 1.00, \"kg\")\n",
    "statex.set(\"Halite\"   , 1.00, \"mol\")\n",
    "statex.set(\"Calcite\"  , 1.00, \"mol\")\n",
    "statex.set(\"Magnesite\", 1.00, \"mol\")\n",
    "statex.set(\"Quartz\"   , 1.00, \"mol\")"
   ]
  },
  {
   "cell_type": "code",
   "execution_count": null,
   "id": "7a15c078",
   "metadata": {},
   "outputs": [],
   "source": [
    "equilibrate(statex)"
   ]
  },
  {
   "cell_type": "code",
   "execution_count": null,
   "id": "2758b563",
   "metadata": {},
   "outputs": [],
   "source": [
    "propsx = ChemicalProps(statex)\n",
    "Vx = propsx.volume()\n",
    "Ux = propsx.internalEnergy()"
   ]
  },
  {
   "cell_type": "code",
   "execution_count": null,
   "id": "75fa185d",
   "metadata": {},
   "outputs": [],
   "source": [
    "statex.output(\"state-expected.txt\")\n",
    "propsx.output(\"props-expected.txt\")"
   ]
  },
  {
   "cell_type": "code",
   "execution_count": null,
   "id": "db69aa54",
   "metadata": {},
   "outputs": [],
   "source": [
    "specs = EquilibriumSpecs(system)"
   ]
  },
  {
   "cell_type": "code",
   "execution_count": null,
   "id": "997eac33",
   "metadata": {},
   "outputs": [],
   "source": [
    "idxV = specs.addInput(\"V\")\n",
    "idxU = specs.addInput(\"U\")"
   ]
  },
  {
   "cell_type": "code",
   "execution_count": null,
   "id": "d1138b34",
   "metadata": {},
   "outputs": [],
   "source": [
    "volumeConstraint = ConstraintEquation()\n",
    "volumeConstraint.id = \"VolumeConstraint\"\n",
    "volumeConstraint.fn = lambda props, w: props.volume() - w[idxV]"
   ]
  },
  {
   "cell_type": "code",
   "execution_count": null,
   "id": "d5bc6675",
   "metadata": {},
   "outputs": [],
   "source": [
    "internalEnergyConstraint = ConstraintEquation()\n",
    "internalEnergyConstraint.id = \"InternalEnergyConstraint\"\n",
    "internalEnergyConstraint.fn = lambda props, w: props.internalEnergy() - w[idxU]"
   ]
  },
  {
   "cell_type": "code",
   "execution_count": null,
   "id": "cde48899",
   "metadata": {},
   "outputs": [],
   "source": [
    "specs.addConstraint(volumeConstraint)\n",
    "specs.addConstraint(internalEnergyConstraint)"
   ]
  },
  {
   "cell_type": "code",
   "execution_count": null,
   "id": "ac344dc8",
   "metadata": {},
   "outputs": [],
   "source": [
    "conditions = EquilibriumConditions(specs)\n",
    "conditions.set(\"V\", Vx)\n",
    "conditions.set(\"U\", Ux)\n",
    "conditions.setLowerBoundPressure(1.0, \"bar\")"
   ]
  },
  {
   "cell_type": "code",
   "execution_count": null,
   "id": "ca43c0c1",
   "metadata": {},
   "outputs": [],
   "source": [
    "state = ChemicalState(system)\n",
    "state.temperature(25.0, \"celsius\")\n",
    "state.pressure(1.0, \"bar\")\n",
    "state.set(\"H2O(aq)\"  , 1.00, \"kg\")\n",
    "state.set(\"Halite\"   , 1.00, \"mol\")\n",
    "state.set(\"Calcite\"  , 1.00, \"mol\")\n",
    "state.set(\"Magnesite\", 1.00, \"mol\")\n",
    "state.set(\"Quartz\"   , 1.00, \"mol\")"
   ]
  },
  {
   "cell_type": "code",
   "execution_count": null,
   "id": "c1529356",
   "metadata": {},
   "outputs": [],
   "source": [
    "solver = EquilibriumSolver(specs)"
   ]
  },
  {
   "cell_type": "code",
   "execution_count": null,
   "id": "aac619c9",
   "metadata": {},
   "outputs": [],
   "source": [
    "solver.solve(state, conditions)"
   ]
  },
  {
   "cell_type": "code",
   "execution_count": null,
   "id": "e60b9ee6",
   "metadata": {},
   "outputs": [],
   "source": [
    "props = ChemicalProps(state)"
   ]
  },
  {
   "cell_type": "code",
   "execution_count": null,
   "id": "b8bc1855",
   "metadata": {},
   "outputs": [],
   "source": [
    "state.output(\"state.txt\")\n",
    "props.output(\"props.txt\")"
   ]
  },
  {
   "cell_type": "markdown",
   "id": "8769a1ee",
   "metadata": {},
   "source": [
    "Check if props.txt and props-expected.txt are numerically equivalent."
   ]
  }
 ],
 "metadata": {
  "jupytext": {
   "cell_metadata_filter": "-all",
   "encoding": "# -*- coding: utf-8 -*-",
   "formats": "notebooks//ipynb,py:light",
   "main_language": "python"
  }
 },
 "nbformat": 4,
 "nbformat_minor": 5
}
