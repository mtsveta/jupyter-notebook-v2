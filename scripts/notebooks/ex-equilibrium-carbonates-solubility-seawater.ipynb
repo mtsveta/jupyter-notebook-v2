{
 "cells": [
  {
   "cell_type": "code",
   "execution_count": null,
   "id": "4f721818",
   "metadata": {
    "lines_to_next_cell": 1
   },
   "outputs": [],
   "source": [
    "from reaktoro import *\n",
    "import numpy as np"
   ]
  },
  {
   "cell_type": "code",
   "execution_count": null,
   "id": "557161b7",
   "metadata": {
    "lines_to_next_cell": 1
   },
   "outputs": [],
   "source": [
    "# Function to calculate equilibrium of the carbonates and seawater\n",
    "def carbonates_in_seawater(system, solver, T, P):\n",
    "\n",
    "    # Initial values of the carbonates and mass of water\n",
    "    n0Calcite = 10.0\n",
    "    n0Dolomite = 10.0\n",
    "    water_kg = 1.0\n",
    "\n",
    "    # Define initial equilibrium state corresponding to the seawater\n",
    "    state_sw = ChemicalState(system)\n",
    "    state_sw.setTemperature(T, \"celsius\")\n",
    "    state_sw.setPressure(P, \"atm\")\n",
    "    state_sw.setSpeciesMass(\"H2O\", 1.0, \"kg\")\n",
    "    state_sw.setSpeciesMass(\"Ca+2\", 412.3 * water_kg, \"mg\")\n",
    "    state_sw.setSpeciesMass(\"Mg+2\", 1290 * water_kg, \"mg\")\n",
    "    state_sw.setSpeciesMass(\"Na+\", 10768.0 * water_kg, \"mg\")\n",
    "    state_sw.setSpeciesMass(\"K+\", 399.1 * water_kg, \"mg\")\n",
    "    state_sw.setSpeciesMass(\"Cl-\", 19353.0 * water_kg, \"mg\")\n",
    "    state_sw.setSpeciesMass(\"HCO3-\", 141.682 * water_kg, \"mg\")\n",
    "    state_sw.setSpeciesMass(\"SO4-2\", 2712.0 * water_kg, \"mg\")\n",
    "\n",
    "    # Calculate chemical state corresponding to the seawater\n",
    "    res = solver.solve(state_sw)\n",
    "\n",
    "    # Throw exception if the equilibrium couldn't be found\n",
    "    if not res.optima.succeeded:\n",
    "        raise RuntimeError(\"Equilibrium calculation did not succeed!\")\n",
    "\n",
    "    # Add carbonates\n",
    "    state_sw.setSpeciesAmount(\"Dolomite\", n0Dolomite, \"mol\")\n",
    "    state_sw.setSpeciesAmount(\"Calcite\", n0Calcite, \"mol\")\n",
    "\n",
    "    # Equilibrate the seawater with carbonates\n",
    "    solver.solve(state_sw)\n",
    "\n",
    "    # Fetch values of the specified species\n",
    "    nDolomite = state_sw.speciesAmount(\"Dolomite\")\n",
    "    nCalcite = state_sw.speciesAmount(\"Calcite\")\n",
    "    nCa2 = state_sw.speciesAmount(\"Ca+2\")\n",
    "    nMg2 = state_sw.speciesAmount(\"Mg+2\")\n",
    "    nH = state_sw.speciesAmount(\"H+\")\n",
    "    nHCO3 = state_sw.speciesAmount(\"HCO3-\")\n",
    "\n",
    "    return (nCalcite[0], nDolomite[0], nCa2[0], nMg2[0], nH[0], nHCO3[0])"
   ]
  },
  {
   "cell_type": "code",
   "execution_count": null,
   "id": "b7faf943",
   "metadata": {},
   "outputs": [],
   "source": [
    "# Initialize a thermodynamic database\n",
    "db = PhreeqcDatabase(\"pitzer.dat\")"
   ]
  },
  {
   "cell_type": "code",
   "execution_count": null,
   "id": "a6747101",
   "metadata": {},
   "outputs": [],
   "source": [
    "# Create an aqueous phase automatically selecting all species with provided elements\n",
    "aqueousphase = AqueousPhase(speciate(\"H O C Ca Cl Na K Mg S Si\"))\n",
    "aqueousphase.setActivityModel(chain(\n",
    "    ActivityModelPitzerHMW()\n",
    "))"
   ]
  },
  {
   "cell_type": "code",
   "execution_count": null,
   "id": "0a3d9fd1",
   "metadata": {},
   "outputs": [],
   "source": [
    "# Create carbonates phases\n",
    "calcitephase = MineralPhase(\"Calcite\")\n",
    "dolomitephase = MineralPhase(\"Dolomite\")"
   ]
  },
  {
   "cell_type": "code",
   "execution_count": null,
   "id": "49a99c16",
   "metadata": {},
   "outputs": [],
   "source": [
    "# Collecting all above-defined phases\n",
    "phases = Phases(db)\n",
    "phases.add(aqueousphase)\n",
    "phases.add(calcitephase)\n",
    "phases.add(dolomitephase)"
   ]
  },
  {
   "cell_type": "code",
   "execution_count": null,
   "id": "69fe4448",
   "metadata": {},
   "outputs": [],
   "source": [
    "# Construct the chemical system\n",
    "system = ChemicalSystem(phases)"
   ]
  },
  {
   "cell_type": "code",
   "execution_count": null,
   "id": "d9032364",
   "metadata": {},
   "outputs": [],
   "source": [
    "# Create the equilibrium solver\n",
    "solver = EquilibriumSolver(system)"
   ]
  },
  {
   "cell_type": "code",
   "execution_count": null,
   "id": "568254b8",
   "metadata": {},
   "outputs": [],
   "source": [
    "# Define the range of temperatures and pressure for the equilibrium calculations\n",
    "T = np.arange(25.0, 91.0, 5.0)\n",
    "P = 1.0"
   ]
  },
  {
   "cell_type": "code",
   "execution_count": null,
   "id": "bfeec675",
   "metadata": {},
   "outputs": [],
   "source": [
    "# Fetch specific species amounts\n",
    "species_amounts = [carbonates_in_seawater(system, solver, x, P) for x in T]  # [0] is needed to get the value of autodiff.real\n",
    "mCalcite = [molals[0] for molals in species_amounts]\n",
    "mDolomite = [molals[1] for molals in species_amounts]\n",
    "mCa2 = [molals[2] for molals in species_amounts]\n",
    "mMg2 = [molals[3] for molals in species_amounts]\n",
    "mH = [molals[4] for molals in species_amounts]\n",
    "mHCO3 = [molals[5] for molals in species_amounts]"
   ]
  },
  {
   "cell_type": "code",
   "execution_count": null,
   "id": "c119aefe",
   "metadata": {},
   "outputs": [],
   "source": [
    "# Output species amount after equilibration for a range of the\n",
    "print(\" --------------------------------------------------------------------------------\")\n",
    "print(\"  Final species amounts w.r.t. temperatures\")\n",
    "print(\" --------------------------------------------------------------------------------\")\n",
    "print(\"   T     Calcite   Dolomite         Ca++         Mg++           H+        HCO3-\")\n",
    "for i in range(len(T)):\n",
    "    print(f\"{T[i]:4.0f}  {mCalcite[i]:10.4f} {mDolomite[i]:10.4f} {mCa2[i]:12.4e} {mMg2[i]:12.4e} {mH[i]:12.4e} {mHCO3[i]:12.4e}\")"
   ]
  }
 ],
 "metadata": {
  "jupytext": {
   "cell_metadata_filter": "-all",
   "encoding": "# -*- coding: utf-8 -*-",
   "formats": "notebooks//ipynb,py:light",
   "main_language": "python"
  }
 },
 "nbformat": 4,
 "nbformat_minor": 5
}
