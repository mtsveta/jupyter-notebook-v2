{
 "cells": [
  {
   "cell_type": "markdown",
   "id": "2f1f5352",
   "metadata": {},
   "source": [
    "Reaktoro is a unified framework for modeling chemically reactive systems.\n",
    "\n",
    "Copyright © 2014-2021 Allan Leal\n",
    "\n",
    "This library is free software; you can redistribute it and/or\n",
    "modify it under the terms of the GNU Lesser General Public\n",
    "License as published by the Free Software Foundation; either\n",
    "version 2.1 of the License, or (at your option) any later version.\n",
    "\n",
    "This library is distributed in the hope that it will be useful,\n",
    "but WITHOUT ANY WARRANTY; without even the implied warranty of\n",
    "MERCHANTABILITY or FITNESS FOR A PARTICULAR PURPOSE. See the GNU\n",
    "Lesser General Public License for more details.\n",
    "\n",
    "You should have received a copy of the GNU Lesser General Public License\n",
    "along with this library. If not, see <http://www.gnu.org/licenses/>.\n",
    "-----------------------------------------------------------------------------\n",
    "👏 Acknowledgements 👏\n",
    "-----------------------------------------------------------------------------\n",
    "This example was originally authored by:\n",
    "  • Allan Leal (4 August 2021)\n",
    "\n",
    "and since revised by:\n",
    "  •\n",
    "-----------------------------------------------------------------------------"
   ]
  },
  {
   "cell_type": "code",
   "execution_count": null,
   "id": "217e3e15",
   "metadata": {
    "lines_to_next_cell": 2
   },
   "outputs": [],
   "source": [
    "from reaktoro import *"
   ]
  },
  {
   "cell_type": "code",
   "execution_count": null,
   "id": "90ba6a4e",
   "metadata": {},
   "outputs": [],
   "source": [
    "db = SupcrtDatabase(\"supcrtbl\")"
   ]
  },
  {
   "cell_type": "code",
   "execution_count": null,
   "id": "08440d1f",
   "metadata": {},
   "outputs": [],
   "source": [
    "solution = AqueousPhase(speciate(\"Na Cl C\"), exclude(\"organic\"))\n",
    "solution.setActivityModel(chain(\n",
    "    ActivityModelHKF(),\n",
    "    ActivityModelDrummond(\"CO2\")\n",
    "))"
   ]
  },
  {
   "cell_type": "code",
   "execution_count": null,
   "id": "a1b03bc0",
   "metadata": {},
   "outputs": [],
   "source": [
    "gases = GaseousPhase(\"CO2(g) H2O(g)\")\n",
    "gases.setActivityModel(ActivityModelPengRobinson())"
   ]
  },
  {
   "cell_type": "code",
   "execution_count": null,
   "id": "ee6d28d1",
   "metadata": {},
   "outputs": [],
   "source": [
    "system = ChemicalSystem(db, solution, gases)"
   ]
  },
  {
   "cell_type": "code",
   "execution_count": null,
   "id": "17d9128e",
   "metadata": {},
   "outputs": [],
   "source": [
    "specs = EquilibriumSpecs(system)\n",
    "specs.temperature()\n",
    "specs.phaseAmount(\"GaseousPhase\")"
   ]
  },
  {
   "cell_type": "code",
   "execution_count": null,
   "id": "7853e38b",
   "metadata": {},
   "outputs": [],
   "source": [
    "solver = EquilibriumSolver(specs)"
   ]
  },
  {
   "cell_type": "code",
   "execution_count": null,
   "id": "caf80b02",
   "metadata": {},
   "outputs": [],
   "source": [
    "state = ChemicalState(system)\n",
    "state.setTemperature(50.0, \"celsius\")\n",
    "state.setPressure(300.0, \"bar\")\n",
    "state.set(\"H2O(aq)\", 1.0, \"kg\")\n",
    "state.set(\"Na+\",     1.0, \"mol\")\n",
    "state.set(\"Cl-\",     1.0, \"mol\")\n",
    "state.set(\"CO2(aq)\", 1.0, \"mol\")"
   ]
  },
  {
   "cell_type": "code",
   "execution_count": null,
   "id": "06c698fa",
   "metadata": {},
   "outputs": [],
   "source": [
    "conditions = EquilibriumConditions(specs)\n",
    "conditions.temperature(50.0, \"celsius\")\n",
    "conditions.phaseAmount(\"GaseousPhase\", 1e-10, \"mol\")\n",
    "conditions.setLowerBoundPressure(1.0, \"bar\")\n",
    "conditions.setUpperBoundPressure(1000.0, \"bar\")"
   ]
  },
  {
   "cell_type": "code",
   "execution_count": null,
   "id": "75d148fc",
   "metadata": {},
   "outputs": [],
   "source": [
    "solver.solve(state, conditions)"
   ]
  },
  {
   "cell_type": "code",
   "execution_count": null,
   "id": "c04b82a1",
   "metadata": {},
   "outputs": [],
   "source": [
    "print(f\"Pressure: {state.pressure() * 1e-5} bar\")"
   ]
  }
 ],
 "metadata": {
  "jupytext": {
   "cell_metadata_filter": "-all",
   "encoding": "# -*- coding: utf-8 -*-",
   "formats": "notebooks//ipynb,py:light",
   "main_language": "python"
  }
 },
 "nbformat": 4,
 "nbformat_minor": 5
}
