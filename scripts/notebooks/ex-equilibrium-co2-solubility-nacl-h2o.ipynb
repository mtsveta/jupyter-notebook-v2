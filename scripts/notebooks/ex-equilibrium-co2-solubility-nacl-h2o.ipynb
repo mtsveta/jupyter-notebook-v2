{
 "cells": [
  {
   "cell_type": "code",
   "execution_count": null,
   "id": "564d1a1f",
   "metadata": {
    "lines_to_next_cell": 1
   },
   "outputs": [],
   "source": [
    "from reaktoro import *\n",
    "import numpy as np"
   ]
  },
  {
   "cell_type": "code",
   "execution_count": null,
   "id": "6e3115da",
   "metadata": {
    "lines_to_next_cell": 1
   },
   "outputs": [],
   "source": [
    "# Function to calculate solubility of CO2 in the NaCl-brine\n",
    "def solubility_co2(system, solver, T, P, mNaCl):\n",
    "\n",
    "    # Initial amount of CO2 gas\n",
    "    n0CO2g = 10.0\n",
    "\n",
    "    # Define initial chemical state corresponding to the NaCl-brine of the given concentration\n",
    "    state = ChemicalState(system)\n",
    "    state.setTemperature(T, \"celsius\")\n",
    "    state.setPressure(P, \"bar\")\n",
    "    state.setSpeciesMass(\"H2O\", 1.0, \"kg\")\n",
    "    state.setSpeciesAmount(\"CO2(g)\", n0CO2g, \"mol\")\n",
    "    state.setSpeciesAmount(\"Na+\", mNaCl, \"mol\")\n",
    "    state.setSpeciesAmount(\"Cl-\", mNaCl, \"mol\")\n",
    "\n",
    "    # Calculate equilibrium state\n",
    "    res = solver.solve(state)\n",
    "\n",
    "    # Throw exception if the equilibrium couldn't be found\n",
    "    if not res.optima.succeeded:\n",
    "        raise RuntimeError(\"Equilibrium calculation did not succeed!\")\n",
    "\n",
    "    # Fetch resulting aqueous properties of the chemical state\n",
    "    aqprops = AqueousProps(state)\n",
    "\n",
    "    # Return concentration of the carbon in the aqueous phase\n",
    "    return aqprops.elementMolality(\"C\")[0]"
   ]
  },
  {
   "cell_type": "code",
   "execution_count": null,
   "id": "bf25bb12",
   "metadata": {},
   "outputs": [],
   "source": [
    "# Initialize a thermodynamic database\n",
    "db = PhreeqcDatabase(\"phreeqc.dat\")"
   ]
  },
  {
   "cell_type": "code",
   "execution_count": null,
   "id": "79634687",
   "metadata": {},
   "outputs": [],
   "source": [
    "# Create an aqueous phase automatically selecting all species with provided elements\n",
    "aqueousphase = AqueousPhase(speciate(\"H O C Na Cl\"))\n",
    "aqueousphase.setActivityModel(chain(\n",
    "    ActivityModelHKF(),\n",
    "    ActivityModelDrummond(\"CO2\"),\n",
    "))"
   ]
  },
  {
   "cell_type": "code",
   "execution_count": null,
   "id": "3a3608d0",
   "metadata": {},
   "outputs": [],
   "source": [
    "# Create a gaseous phase\n",
    "gaseousphase = GaseousPhase(\"CO2(g)\")\n",
    "gaseousphase.setActivityModel(ActivityModelPengRobinson())"
   ]
  },
  {
   "cell_type": "code",
   "execution_count": null,
   "id": "260c9c2f",
   "metadata": {},
   "outputs": [],
   "source": [
    "# Collecting all above-defined phases\n",
    "phases = Phases(db)\n",
    "phases.add(aqueousphase)\n",
    "phases.add(gaseousphase)"
   ]
  },
  {
   "cell_type": "code",
   "execution_count": null,
   "id": "1dce56ce",
   "metadata": {},
   "outputs": [],
   "source": [
    "# Construct the chemical system\n",
    "system = ChemicalSystem(phases)"
   ]
  },
  {
   "cell_type": "code",
   "execution_count": null,
   "id": "26c5a597",
   "metadata": {},
   "outputs": [],
   "source": [
    "# Create the equilibrium solver\n",
    "solver = EquilibriumSolver(system)"
   ]
  },
  {
   "cell_type": "code",
   "execution_count": null,
   "id": "d8369032",
   "metadata": {},
   "outputs": [],
   "source": [
    "# Define the range of temperatures and pressure for the equilibrium calculations\n",
    "T = np.arange(25.0, 90.0, 5.0)\n",
    "P = 100.0"
   ]
  },
  {
   "cell_type": "code",
   "execution_count": null,
   "id": "adcc86b6",
   "metadata": {},
   "outputs": [],
   "source": [
    "# Calculate CO2 solubilities for the range of the temperatures and different brine concentrations\n",
    "mCO2_1 = [solubility_co2(system, solver, x, P, mNaCl=1.0) for x in T]\n",
    "mCO2_2 = [solubility_co2(system, solver, x, P, mNaCl=2.0) for x in T]\n",
    "mCO2_3 = [solubility_co2(system, solver, x, P, mNaCl=4.0) for x in T]"
   ]
  },
  {
   "cell_type": "code",
   "execution_count": null,
   "id": "16885441",
   "metadata": {},
   "outputs": [],
   "source": [
    "# Output the results\n",
    "print(\" ----------------------------------------------------------------\")\n",
    "print(\"  CO2 solubilities w.r.t. temperatures\")\n",
    "print(\" ----------------------------------------------------------------\")\n",
    "print(\"   T    1 mol NaCl-brine   2 mol NaCl-brine   4 mol NaCl-brine\")\n",
    "for i in range(len(T)):\n",
    "    print(f\"{T[i]:4.0f}  {mCO2_1[i]:18.4f} {mCO2_2[i]:18.4f} {mCO2_3[i]:18.4f}\")"
   ]
  }
 ],
 "metadata": {
  "jupytext": {
   "cell_metadata_filter": "-all",
   "encoding": "# -*- coding: utf-8 -*-",
   "formats": "notebooks//ipynb,py:light",
   "main_language": "python"
  }
 },
 "nbformat": 4,
 "nbformat_minor": 5
}
