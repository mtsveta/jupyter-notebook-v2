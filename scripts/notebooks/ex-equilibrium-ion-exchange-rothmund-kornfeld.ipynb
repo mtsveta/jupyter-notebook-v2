{
 "cells": [
  {
   "cell_type": "markdown",
   "id": "b86c4179",
   "metadata": {},
   "source": [
    "Reaktoro is a unified framework for modeling chemically reactive systems.\n",
    "\n",
    "Copyright © 2014-2021 Allan Leal\n",
    "\n",
    "This library is free software; you can redistribute it and/or\n",
    "modify it under the terms of the GNU Lesser General Public\n",
    "License as published by the Free Software Foundation; either\n",
    "version 2.1 of the License, or (at your option) any later version.\n",
    "\n",
    "This library is distributed in the hope that it will be useful,\n",
    "but WITHOUT ANY WARRANTY; without even the implied warranty of\n",
    "MERCHANTABILITY or FITNESS FOR A PARTICULAR PURPOSE. See the GNU\n",
    "Lesser General Public License for more details.\n",
    "\n",
    "You should have received a copy of the GNU Lesser General Public License\n",
    "along with this library. If not, see <http://www.gnu.org/licenses/>."
   ]
  },
  {
   "cell_type": "markdown",
   "id": "3651b382",
   "metadata": {
    "lines_to_next_cell": 2
   },
   "source": [
    "-----------------------------------------------------------------------------\n",
    "👏 Acknowledgements 👏\n",
    "-----------------------------------------------------------------------------\n",
    "This example was originally authored by:\n",
    "  • Svetlana Kyas (28 October 2021)\n",
    "\n",
    "and since revised by:\n",
    "  •\n",
    "-----------------------------------------------------------------------------"
   ]
  },
  {
   "cell_type": "code",
   "execution_count": null,
   "id": "e7398e7e",
   "metadata": {},
   "outputs": [],
   "source": [
    "from reaktoro import *"
   ]
  },
  {
   "cell_type": "code",
   "execution_count": null,
   "id": "616d6c62",
   "metadata": {},
   "outputs": [],
   "source": [
    "db = PhreeqcDatabase(\"phreeqc-rothmund-kornfeld-convention.dat\")"
   ]
  },
  {
   "cell_type": "code",
   "execution_count": null,
   "id": "f3d484b6",
   "metadata": {},
   "outputs": [],
   "source": [
    "# Define an aqueous phase\n",
    "solution = AqueousPhase(\"H2O Na+ Cl- H+ OH- K+ Ca+2 Mg+2\")\n",
    "solution.setActivityModel(ActivityModelHKF())"
   ]
  },
  {
   "cell_type": "code",
   "execution_count": null,
   "id": "3d72b791",
   "metadata": {},
   "outputs": [],
   "source": [
    "# Define an ion exchange phase\n",
    "exchange_species = \"NaX KX CaX2\"\n",
    "exchange = IonExchangePhase(exchange_species)\n",
    "exchange.setActivityModel(ActivityModelIonExchangeGainesThomas())"
   ]
  },
  {
   "cell_type": "code",
   "execution_count": null,
   "id": "973d111c",
   "metadata": {},
   "outputs": [],
   "source": [
    "# Create chemical system\n",
    "system = ChemicalSystem(db, solution, exchange)"
   ]
  },
  {
   "cell_type": "code",
   "execution_count": null,
   "id": "323e9ee9",
   "metadata": {},
   "outputs": [],
   "source": [
    "T = 25.0 # temperature in celsius\n",
    "P = 1.0  # pressure in bar"
   ]
  },
  {
   "cell_type": "code",
   "execution_count": null,
   "id": "5f48d2f6",
   "metadata": {},
   "outputs": [],
   "source": [
    "# Define equilibrium solver and equilibrate given initial state with input conditions\n",
    "solver = EquilibriumSolver(system)"
   ]
  },
  {
   "cell_type": "code",
   "execution_count": null,
   "id": "b4d7c0bf",
   "metadata": {},
   "outputs": [],
   "source": [
    "# Define initial equilibrium state\n",
    "state = ChemicalState(system)\n",
    "state.setTemperature(T, \"celsius\")\n",
    "state.setPressure(P, \"bar\")\n",
    "# Take plenty of solution to imitate its equilibration\n",
    "state.setSpeciesMass(\"H2O\"   , 1.0 , \"kg\")\n",
    "state.setSpeciesAmount(\"K+\"  , 0.1 , \"mol\")\n",
    "state.setSpeciesAmount(\"Ca+2\"  , 0.05 , \"mol\")"
   ]
  },
  {
   "cell_type": "code",
   "execution_count": null,
   "id": "5cd3bacb",
   "metadata": {},
   "outputs": [],
   "source": [
    "# Exchanger site\n",
    "state.setSpeciesAmount(\"NaX\"  , 0.417, \"mol\")"
   ]
  },
  {
   "cell_type": "code",
   "execution_count": null,
   "id": "2dd1bfa7",
   "metadata": {},
   "outputs": [],
   "source": [
    "solver.solve(state)"
   ]
  },
  {
   "cell_type": "code",
   "execution_count": null,
   "id": "dd8b6fc3",
   "metadata": {
    "lines_to_next_cell": 2
   },
   "outputs": [],
   "source": [
    "exprops = IonExchangeProps(state)\n",
    "print(exprops)\n",
    "# [exprops.speciesAmount(\"KX\")[0], exprops.speciesAmount(\"CaX2\")[0]]"
   ]
  }
 ],
 "metadata": {
  "jupytext": {
   "cell_metadata_filter": "-all",
   "encoding": "# -*- coding: utf-8 -*-",
   "formats": "notebooks//ipynb,py:light",
   "main_language": "python"
  }
 },
 "nbformat": 4,
 "nbformat_minor": 5
}
