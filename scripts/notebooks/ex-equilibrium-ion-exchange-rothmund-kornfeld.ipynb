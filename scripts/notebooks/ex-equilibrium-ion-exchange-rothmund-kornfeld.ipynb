{
 "cells": [
  {
   "cell_type": "code",
   "execution_count": null,
   "id": "9f381375",
   "metadata": {},
   "outputs": [],
   "source": [
    "from reaktoro import *"
   ]
  },
  {
   "cell_type": "code",
   "execution_count": null,
   "id": "f2cd915b",
   "metadata": {},
   "outputs": [],
   "source": [
    "db = PhreeqcDatabase(\"phreeqc-rothmund-kornfeld-convention.dat\")"
   ]
  },
  {
   "cell_type": "code",
   "execution_count": null,
   "id": "74959d10",
   "metadata": {},
   "outputs": [],
   "source": [
    "# Define an aqueous phase\n",
    "solution = AqueousPhase(\"H2O Na+ Cl- H+ OH- K+ Ca+2 Mg+2\")\n",
    "solution.setActivityModel(ActivityModelHKF())"
   ]
  },
  {
   "cell_type": "code",
   "execution_count": null,
   "id": "935d27e7",
   "metadata": {},
   "outputs": [],
   "source": [
    "# Define an ion exchange phase\n",
    "exchange_species = \"NaX KX CaX2\"\n",
    "exchange = IonExchangePhase(exchange_species)\n",
    "exchange.setActivityModel(ActivityModelIonExchangeGainesThomas())"
   ]
  },
  {
   "cell_type": "code",
   "execution_count": null,
   "id": "5fd4f1d4",
   "metadata": {},
   "outputs": [],
   "source": [
    "# Create chemical system\n",
    "system = ChemicalSystem(db, solution, exchange)"
   ]
  },
  {
   "cell_type": "code",
   "execution_count": null,
   "id": "660ffc34",
   "metadata": {},
   "outputs": [],
   "source": [
    "T = 25.0 # temperature in celsius\n",
    "P = 1.0  # pressure in bar"
   ]
  },
  {
   "cell_type": "code",
   "execution_count": null,
   "id": "ace57f0e",
   "metadata": {},
   "outputs": [],
   "source": [
    "# Define equilibrium solver and equilibrate given initial state with input conditions\n",
    "solver = EquilibriumSolver(system)"
   ]
  },
  {
   "cell_type": "code",
   "execution_count": null,
   "id": "e07ec8a1",
   "metadata": {},
   "outputs": [],
   "source": [
    "# Define initial equilibrium state\n",
    "state = ChemicalState(system)\n",
    "state.setTemperature(T, \"celsius\")\n",
    "state.setPressure(P, \"bar\")\n",
    "# Take plenty of solution to imitate its equilibration\n",
    "state.setSpeciesMass(\"H2O\"   , 1.0 , \"kg\")\n",
    "state.setSpeciesAmount(\"K+\"  , 0.1 , \"mol\")\n",
    "state.setSpeciesAmount(\"Ca+2\"  , 0.05 , \"mol\")"
   ]
  },
  {
   "cell_type": "code",
   "execution_count": null,
   "id": "de899086",
   "metadata": {},
   "outputs": [],
   "source": [
    "# Exchanger site\n",
    "state.setSpeciesAmount(\"NaX\"  , 0.417, \"mol\")"
   ]
  },
  {
   "cell_type": "code",
   "execution_count": null,
   "id": "cff2a9c6",
   "metadata": {},
   "outputs": [],
   "source": [
    "solver.solve(state)"
   ]
  },
  {
   "cell_type": "code",
   "execution_count": null,
   "id": "86a0fda8",
   "metadata": {
    "lines_to_next_cell": 2
   },
   "outputs": [],
   "source": [
    "exprops = IonExchangeProps(state)\n",
    "print(exprops)\n",
    "# [exprops.speciesAmount(\"KX\")[0], exprops.speciesAmount(\"CaX2\")[0]]"
   ]
  }
 ],
 "metadata": {
  "jupytext": {
   "cell_metadata_filter": "-all",
   "encoding": "# -*- coding: utf-8 -*-",
   "formats": "notebooks//ipynb,py:light",
   "main_language": "python"
  }
 },
 "nbformat": 4,
 "nbformat_minor": 5
}
