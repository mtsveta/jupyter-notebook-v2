{
 "cells": [
  {
   "cell_type": "code",
   "execution_count": null,
   "id": "69e78fb4",
   "metadata": {},
   "outputs": [],
   "source": [
    "from reaktoro import *"
   ]
  },
  {
   "cell_type": "code",
   "execution_count": null,
   "id": "5120b1f4",
   "metadata": {},
   "outputs": [],
   "source": [
    "db = ThermoFunDatabase(\"aq17\")"
   ]
  },
  {
   "cell_type": "code",
   "execution_count": null,
   "id": "3ec2302d",
   "metadata": {},
   "outputs": [],
   "source": [
    "solution = AqueousPhase(speciate(\"H O C Na Cl\"))\n",
    "solution.setActivityModel(chain(\n",
    "    ActivityModelHKF(),\n",
    "    ActivityModelDrummond(\"CO2\")\n",
    "))"
   ]
  },
  {
   "cell_type": "code",
   "execution_count": null,
   "id": "9ac9b1f0",
   "metadata": {},
   "outputs": [],
   "source": [
    "gases = GaseousPhase(\"CO2 H2O\")\n",
    "gases.setActivityModel(ActivityModelPengRobinson())"
   ]
  },
  {
   "cell_type": "code",
   "execution_count": null,
   "id": "e6ad6779",
   "metadata": {},
   "outputs": [],
   "source": [
    "minerals = MineralPhases()"
   ]
  },
  {
   "cell_type": "code",
   "execution_count": null,
   "id": "d23c6c6f",
   "metadata": {},
   "outputs": [],
   "source": [
    "system = ChemicalSystem(db, solution, gases, minerals)"
   ]
  },
  {
   "cell_type": "code",
   "execution_count": null,
   "id": "99b96d15",
   "metadata": {},
   "outputs": [],
   "source": [
    "specs = EquilibriumSpecs(system)\n",
    "specs.temperature()\n",
    "specs.pressure()\n",
    "specs.pH()"
   ]
  },
  {
   "cell_type": "code",
   "execution_count": null,
   "id": "936e20b3",
   "metadata": {},
   "outputs": [],
   "source": [
    "solver = EquilibriumSolver(specs)"
   ]
  },
  {
   "cell_type": "code",
   "execution_count": null,
   "id": "9bc5316a",
   "metadata": {},
   "outputs": [],
   "source": [
    "conditions = EquilibriumConditions(specs)\n",
    "conditions.temperature(60.0, \"celsius\")\n",
    "conditions.pressure(100.0, \"bar\")\n",
    "conditions.pH(4.0)\n",
    "conditions.startWith(\"H2O@\", 1.0, \"kg\")\n",
    "conditions.startWith(\"Na+\",  1.0, \"mol\")\n",
    "conditions.startWith(\"Cl-\",  1.0, \"mol\")\n",
    "conditions.startWith(\"CO2\", 10.0, \"mol\")"
   ]
  },
  {
   "cell_type": "code",
   "execution_count": null,
   "id": "215564ba",
   "metadata": {},
   "outputs": [],
   "source": [
    "state = ChemicalState(system)"
   ]
  },
  {
   "cell_type": "code",
   "execution_count": null,
   "id": "2914d973",
   "metadata": {},
   "outputs": [],
   "source": [
    "solver.solve(state, conditions)"
   ]
  },
  {
   "cell_type": "code",
   "execution_count": null,
   "id": "3126d9c3",
   "metadata": {},
   "outputs": [],
   "source": [
    "props = ChemicalProps(state)\n",
    "props.output(\"props.txt\")"
   ]
  },
  {
   "cell_type": "code",
   "execution_count": null,
   "id": "4b781f7d",
   "metadata": {},
   "outputs": [],
   "source": [
    "aprops = AqueousProps(state)\n",
    "aprops.output(\"aprops.txt\")"
   ]
  }
 ],
 "metadata": {
  "jupytext": {
   "cell_metadata_filter": "-all",
   "encoding": "# -*- coding: utf-8 -*-",
   "formats": "notebooks//ipynb,py:light",
   "main_language": "python"
  }
 },
 "nbformat": 4,
 "nbformat_minor": 5
}
