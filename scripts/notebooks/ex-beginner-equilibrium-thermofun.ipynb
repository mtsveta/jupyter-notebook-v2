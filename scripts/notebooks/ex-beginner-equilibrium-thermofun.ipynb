{
 "cells": [
  {
   "cell_type": "markdown",
   "id": "e1a62a4d",
   "metadata": {},
   "source": [
    "Reaktoro is a unified framework for modeling chemically reactive systems.\n",
    "\n",
    "Copyright © 2014-2021 Allan Leal\n",
    "\n",
    "This library is free software; you can redistribute it and/or\n",
    "modify it under the terms of the GNU Lesser General Public\n",
    "License as published by the Free Software Foundation; either\n",
    "version 2.1 of the License, or (at your option) any later version.\n",
    "\n",
    "This library is distributed in the hope that it will be useful,\n",
    "but WITHOUT ANY WARRANTY; without even the implied warranty of\n",
    "MERCHANTABILITY or FITNESS FOR A PARTICULAR PURPOSE. See the GNU\n",
    "Lesser General Public License for more details.\n",
    "\n",
    "You should have received a copy of the GNU Lesser General Public License\n",
    "along with this library. If not, see <http://www.gnu.org/licenses/>."
   ]
  },
  {
   "cell_type": "markdown",
   "id": "7762829f",
   "metadata": {
    "lines_to_next_cell": 2
   },
   "source": [
    "-----------------------------------------------------------------------------\n",
    "👏 Acknowledgements 👏\n",
    "-----------------------------------------------------------------------------\n",
    "This example was originally authored by:\n",
    "  • Allan Leal (19 July 2021)\n",
    "\n",
    "and since revised by:\n",
    "  •\n",
    "-----------------------------------------------------------------------------"
   ]
  },
  {
   "cell_type": "code",
   "execution_count": null,
   "id": "c0057175",
   "metadata": {},
   "outputs": [],
   "source": [
    "from reaktoro import *"
   ]
  },
  {
   "cell_type": "code",
   "execution_count": null,
   "id": "dd8beaee",
   "metadata": {},
   "outputs": [],
   "source": [
    "db = ThermoFunDatabase(\"aq17\")"
   ]
  },
  {
   "cell_type": "code",
   "execution_count": null,
   "id": "3ba6fc1f",
   "metadata": {},
   "outputs": [],
   "source": [
    "solution = AqueousPhase(speciate(\"H O C Na Cl\"))\n",
    "solution.setActivityModel(chain(\n",
    "    ActivityModelHKF(),\n",
    "    ActivityModelDrummond(\"CO2\")\n",
    "))"
   ]
  },
  {
   "cell_type": "code",
   "execution_count": null,
   "id": "c7aeff68",
   "metadata": {},
   "outputs": [],
   "source": [
    "gases = GaseousPhase(\"CO2 H2O\")\n",
    "gases.setActivityModel(ActivityModelPengRobinson())"
   ]
  },
  {
   "cell_type": "code",
   "execution_count": null,
   "id": "356cea7b",
   "metadata": {},
   "outputs": [],
   "source": [
    "minerals = MineralPhases()"
   ]
  },
  {
   "cell_type": "code",
   "execution_count": null,
   "id": "804b2b08",
   "metadata": {},
   "outputs": [],
   "source": [
    "system = ChemicalSystem(db, solution, gases, minerals)"
   ]
  },
  {
   "cell_type": "code",
   "execution_count": null,
   "id": "ab0977f8",
   "metadata": {},
   "outputs": [],
   "source": [
    "specs = EquilibriumSpecs(system)\n",
    "specs.temperature()\n",
    "specs.pressure()\n",
    "specs.pH()"
   ]
  },
  {
   "cell_type": "code",
   "execution_count": null,
   "id": "485136f4",
   "metadata": {},
   "outputs": [],
   "source": [
    "solver = EquilibriumSolver(specs)"
   ]
  },
  {
   "cell_type": "code",
   "execution_count": null,
   "id": "4595fd2f",
   "metadata": {},
   "outputs": [],
   "source": [
    "conditions = EquilibriumConditions(specs)\n",
    "conditions.temperature(60.0, \"celsius\")\n",
    "conditions.pressure(100.0, \"bar\")\n",
    "conditions.pH(4.0)\n",
    "conditions.startWith(\"H2O@\", 1.0, \"kg\")\n",
    "conditions.startWith(\"Na+\",  1.0, \"mol\")\n",
    "conditions.startWith(\"Cl-\",  1.0, \"mol\")\n",
    "conditions.startWith(\"CO2\", 10.0, \"mol\")"
   ]
  },
  {
   "cell_type": "code",
   "execution_count": null,
   "id": "a4f3f990",
   "metadata": {},
   "outputs": [],
   "source": [
    "state = ChemicalState(system)"
   ]
  },
  {
   "cell_type": "code",
   "execution_count": null,
   "id": "7ade199d",
   "metadata": {},
   "outputs": [],
   "source": [
    "solver.solve(state, conditions)"
   ]
  },
  {
   "cell_type": "code",
   "execution_count": null,
   "id": "ddfbd209",
   "metadata": {},
   "outputs": [],
   "source": [
    "props = ChemicalProps(state)\n",
    "props.output(\"props.txt\")"
   ]
  },
  {
   "cell_type": "code",
   "execution_count": null,
   "id": "5697e23b",
   "metadata": {},
   "outputs": [],
   "source": [
    "aprops = AqueousProps(state)\n",
    "aprops.output(\"aprops.txt\")"
   ]
  }
 ],
 "metadata": {
  "jupytext": {
   "cell_metadata_filter": "-all",
   "encoding": "# -*- coding: utf-8 -*-",
   "formats": "notebooks//ipynb,py:light",
   "main_language": "python"
  }
 },
 "nbformat": 4,
 "nbformat_minor": 5
}
