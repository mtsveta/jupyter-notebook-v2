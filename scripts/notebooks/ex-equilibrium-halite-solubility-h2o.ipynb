{
 "cells": [
  {
   "cell_type": "markdown",
   "id": "dde2e89d",
   "metadata": {},
   "source": [
    "Reaktoro is a unified framework for modeling chemically reactive systems.\n",
    "\n",
    "Copyright © 2014-2021 Allan Leal\n",
    "\n",
    "This library is free software; you can redistribute it and/or\n",
    "modify it under the terms of the GNU Lesser General Public\n",
    "License as published by the Free Software Foundation; either\n",
    "version 2.1 of the License, or (at your option) any later version.\n",
    "\n",
    "This library is distributed in the hope that it will be useful,\n",
    "but WITHOUT ANY WARRANTY; without even the implied warranty of\n",
    "MERCHANTABILITY or FITNESS FOR A PARTICULAR PURPOSE. See the GNU\n",
    "Lesser General Public License for more details.\n",
    "\n",
    "You should have received a copy of the GNU Lesser General Public License\n",
    "along with this library. If not, see <http://www.gnu.org/licenses/>."
   ]
  },
  {
   "cell_type": "markdown",
   "id": "b630315b",
   "metadata": {
    "lines_to_next_cell": 2
   },
   "source": [
    "-----------------------------------------------------------------------------\n",
    "👏 Acknowledgements 👏\n",
    "-----------------------------------------------------------------------------\n",
    "This example was originally authored by:\n",
    "  • Svetlana Kyas (14 July 2021)\n",
    "\n",
    "and since revised by:\n",
    "  •\n",
    "-----------------------------------------------------------------------------"
   ]
  },
  {
   "cell_type": "code",
   "execution_count": null,
   "id": "a8feb394",
   "metadata": {},
   "outputs": [],
   "source": [
    "from reaktoro import *"
   ]
  },
  {
   "cell_type": "code",
   "execution_count": null,
   "id": "7c07ed01",
   "metadata": {},
   "outputs": [],
   "source": [
    "# Initialize a thermodynamic database\n",
    "db = Database(\"supcrt98.yaml\")"
   ]
  },
  {
   "cell_type": "code",
   "execution_count": null,
   "id": "86d5ec42",
   "metadata": {},
   "outputs": [],
   "source": [
    "# Create an aqueous phase automatically selecting all species with provided elements\n",
    "aqueousphase = AqueousPhase(speciate(\"H O Na Cl\"))\n",
    "aqueousphase.setActivityModel(ActivityModelHKF())"
   ]
  },
  {
   "cell_type": "code",
   "execution_count": null,
   "id": "e042027d",
   "metadata": {},
   "outputs": [],
   "source": [
    "# Create a gaseous phase\n",
    "mineralphase = MineralPhase(\"Halite\")"
   ]
  },
  {
   "cell_type": "code",
   "execution_count": null,
   "id": "b93a2296",
   "metadata": {},
   "outputs": [],
   "source": [
    "# Collecting all above-defined phases\n",
    "phases = Phases(db)\n",
    "phases.add(aqueousphase)\n",
    "phases.add(mineralphase)"
   ]
  },
  {
   "cell_type": "code",
   "execution_count": null,
   "id": "5c6e1cc3",
   "metadata": {},
   "outputs": [],
   "source": [
    "# Construct the chemical system\n",
    "system = ChemicalSystem(phases)"
   ]
  },
  {
   "cell_type": "code",
   "execution_count": null,
   "id": "699e7be0",
   "metadata": {},
   "outputs": [],
   "source": [
    "# Initial amount of NaCl\n",
    "m0Halite = 100.0"
   ]
  },
  {
   "cell_type": "code",
   "execution_count": null,
   "id": "7789adc4",
   "metadata": {},
   "outputs": [],
   "source": [
    "# Define initial equilibrium state\n",
    "state = ChemicalState(system)\n",
    "state.setTemperature(25.0, \"celsius\")\n",
    "state.setPressure(1.0, \"bar\")\n",
    "state.setSpeciesMass(\"H2O(aq)\", 1.0, \"kg\")\n",
    "state.setSpeciesAmount(\"Halite\", m0Halite, \"mol\")"
   ]
  },
  {
   "cell_type": "code",
   "execution_count": null,
   "id": "bc610fcf",
   "metadata": {},
   "outputs": [],
   "source": [
    "# Define equilibrium solver and equilibrate given initial state\n",
    "solver = EquilibriumSolver(system)\n",
    "solver.solve(state)"
   ]
  },
  {
   "cell_type": "code",
   "execution_count": null,
   "id": "64c15317",
   "metadata": {},
   "outputs": [],
   "source": [
    "# Output chemical state into the txt-file\n",
    "state.output(\"state.txt\")"
   ]
  },
  {
   "cell_type": "code",
   "execution_count": null,
   "id": "d737445e",
   "metadata": {},
   "outputs": [],
   "source": [
    "print(f\"Solubility of Halite in water is {(m0Halite - state.speciesAmount('Halite')) / state.speciesMass('H2O(aq)')} molal\")"
   ]
  }
 ],
 "metadata": {
  "jupytext": {
   "cell_metadata_filter": "-all",
   "encoding": "# -*- coding: utf-8 -*-",
   "formats": "notebooks//ipynb,py:light",
   "main_language": "python"
  }
 },
 "nbformat": 4,
 "nbformat_minor": 5
}
