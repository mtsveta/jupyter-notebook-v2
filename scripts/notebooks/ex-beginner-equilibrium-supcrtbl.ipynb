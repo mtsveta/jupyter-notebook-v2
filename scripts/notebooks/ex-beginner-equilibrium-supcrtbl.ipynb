{
 "cells": [
  {
   "cell_type": "code",
   "execution_count": null,
   "id": "6a68e1ae",
   "metadata": {},
   "outputs": [],
   "source": [
    "from reaktoro import *"
   ]
  },
  {
   "cell_type": "code",
   "execution_count": null,
   "id": "06b067ec",
   "metadata": {},
   "outputs": [],
   "source": [
    "db = SupcrtDatabase(\"supcrtbl\")"
   ]
  },
  {
   "cell_type": "code",
   "execution_count": null,
   "id": "c6c21de2",
   "metadata": {},
   "outputs": [],
   "source": [
    "solution = AqueousPhase(speciate(\"H O C Na Cl Ca Mg Si\"), exclude(\"organic\"))\n",
    "solution.setActivityModel(chain(\n",
    "    ActivityModelHKF(),\n",
    "    ActivityModelDrummond(\"CO2\")\n",
    "))"
   ]
  },
  {
   "cell_type": "code",
   "execution_count": null,
   "id": "49bf1d3e",
   "metadata": {},
   "outputs": [],
   "source": [
    "gases = GaseousPhase(\"CO2(g) H2O(g)\")\n",
    "gases.setActivityModel(ActivityModelPengRobinson())"
   ]
  },
  {
   "cell_type": "code",
   "execution_count": null,
   "id": "144f5fa6",
   "metadata": {},
   "outputs": [],
   "source": [
    "minerals = MineralPhases()"
   ]
  },
  {
   "cell_type": "code",
   "execution_count": null,
   "id": "12f6b835",
   "metadata": {},
   "outputs": [],
   "source": [
    "system = ChemicalSystem(db, solution, gases, minerals)"
   ]
  },
  {
   "cell_type": "code",
   "execution_count": null,
   "id": "5e6f3fe3",
   "metadata": {},
   "outputs": [],
   "source": [
    "state = ChemicalState(system)\n",
    "state.temperature(60.0, \"celsius\")\n",
    "state.pressure(100.0, \"bar\")\n",
    "state.set(\"H2O(aq)\"  , 1.0, \"kg\")\n",
    "state.set(\"CO2(g)\"   , 1.0, \"mol\")\n",
    "state.set(\"Halite\"   , 1.0, \"mol\")\n",
    "state.set(\"Calcite\"  , 1.0, \"mol\")\n",
    "state.set(\"Magnesite\", 1.0, \"mol\")\n",
    "state.set(\"Quartz\"   , 1.0, \"mol\")"
   ]
  },
  {
   "cell_type": "code",
   "execution_count": null,
   "id": "4e5547b1",
   "metadata": {},
   "outputs": [],
   "source": [
    "solver = EquilibriumSolver(system)\n",
    "solver.solve(state)"
   ]
  },
  {
   "cell_type": "code",
   "execution_count": null,
   "id": "09c4bce0",
   "metadata": {},
   "outputs": [],
   "source": [
    "props = ChemicalProps(state)\n",
    "props.output(\"props.txt\")"
   ]
  },
  {
   "cell_type": "code",
   "execution_count": null,
   "id": "1b032898",
   "metadata": {},
   "outputs": [],
   "source": [
    "aprops = AqueousProps(state)\n",
    "aprops.output(\"aprops.txt\")"
   ]
  }
 ],
 "metadata": {
  "jupytext": {
   "cell_metadata_filter": "-all",
   "encoding": "# -*- coding: utf-8 -*-",
   "formats": "notebooks//ipynb,py:light",
   "main_language": "python"
  }
 },
 "nbformat": 4,
 "nbformat_minor": 5
}
