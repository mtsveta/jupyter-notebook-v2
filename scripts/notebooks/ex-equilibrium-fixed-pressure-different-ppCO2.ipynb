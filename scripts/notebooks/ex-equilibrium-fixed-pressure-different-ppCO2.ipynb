{
 "cells": [
  {
   "cell_type": "code",
   "execution_count": null,
   "id": "8a32fac7",
   "metadata": {},
   "outputs": [],
   "source": [
    "from reaktoro import *\n",
    "import numpy as np\n",
    "import os"
   ]
  },
  {
   "cell_type": "code",
   "execution_count": null,
   "id": "edd7717e",
   "metadata": {},
   "outputs": [],
   "source": [
    "results_folder = 'results-fixed-pressure-different-ppCO2'\n",
    "os.system('mkdir -p ' + results_folder)"
   ]
  },
  {
   "cell_type": "code",
   "execution_count": null,
   "id": "21e219af",
   "metadata": {},
   "outputs": [],
   "source": [
    "db = PhreeqcDatabase(\"phreeqc.dat\")"
   ]
  },
  {
   "cell_type": "code",
   "execution_count": null,
   "id": "b8a748ab",
   "metadata": {},
   "outputs": [],
   "source": [
    "solution = AqueousPhase(speciate(\"H O C Na Cl Ca\"))\n",
    "solution.setActivityModel(chain(\n",
    "    ActivityModelHKF(),\n",
    "    ActivityModelDrummond(\"CO2\")\n",
    "))\n",
    "gases = GaseousPhase(\"CO2(g)\")\n",
    "gases.setActivityModel(ActivityModelPengRobinson())"
   ]
  },
  {
   "cell_type": "code",
   "execution_count": null,
   "id": "7058b450",
   "metadata": {},
   "outputs": [],
   "source": [
    "mineral = MineralPhase(\"Calcite\")"
   ]
  },
  {
   "cell_type": "code",
   "execution_count": null,
   "id": "c895ef3b",
   "metadata": {
    "lines_to_next_cell": 1
   },
   "outputs": [],
   "source": [
    "system = ChemicalSystem(db, solution, mineral, gases)"
   ]
  },
  {
   "cell_type": "code",
   "execution_count": null,
   "id": "bd972ced",
   "metadata": {
    "lines_to_next_cell": 1
   },
   "outputs": [],
   "source": [
    "def equilibrate(ppCO2, T):\n",
    "\n",
    "    state = ChemicalState(system)\n",
    "    state.set(\"H2O\"    , 1.0 , \"kg\")\n",
    "    state.set(\"Calcite\", 10.0, \"mol\")\n",
    "    state.set(\"CO2(g)\",  100.0, \"mol\")\n",
    "\n",
    "    specs = EquilibriumSpecs(system)\n",
    "    specs.temperature()\n",
    "    specs.pressure()\n",
    "\n",
    "    solver = EquilibriumSolver(specs)\n",
    "\n",
    "    conditions = EquilibriumConditions(specs)\n",
    "    conditions.temperature(T, \"celsius\")\n",
    "    conditions.pressure(10**(ppCO2), \"atm\")\n",
    "\n",
    "    solver.solve(state, conditions)\n",
    "\n",
    "    aprops = AqueousProps(state)\n",
    "\n",
    "    pH = aprops.pH()[0]\n",
    "\n",
    "    return pH"
   ]
  },
  {
   "cell_type": "code",
   "execution_count": null,
   "id": "f3dec621",
   "metadata": {},
   "outputs": [],
   "source": [
    "num_temperatures = 1\n",
    "num_ppco2s = 107\n",
    "temperatures = np.array([50])\n",
    "co2ppressures = np.linspace(-4.0, 2.0, num=num_ppco2s)"
   ]
  },
  {
   "cell_type": "code",
   "execution_count": null,
   "id": "0816a86c",
   "metadata": {},
   "outputs": [],
   "source": [
    "data_size = 1\n",
    "data = np.zeros((num_ppco2s, data_size + 1))"
   ]
  },
  {
   "cell_type": "code",
   "execution_count": null,
   "id": "38fc0a68",
   "metadata": {},
   "outputs": [],
   "source": [
    "for i in range(0, num_ppco2s):\n",
    "    result = equilibrate(co2ppressures[i], temperatures[0])\n",
    "    data[i, 0] = co2ppressures[i]\n",
    "    data[i, 1] = result"
   ]
  },
  {
   "cell_type": "code",
   "execution_count": null,
   "id": "818bb23d",
   "metadata": {},
   "outputs": [],
   "source": [
    "np.savetxt(results_folder + '/m-data.txt', data)\n",
    "np.savetxt(results_folder + '/m-pH.txt', data[:, 1])"
   ]
  },
  {
   "cell_type": "code",
   "execution_count": null,
   "id": "940a7882",
   "metadata": {},
   "outputs": [],
   "source": [
    "import matplotlib.pyplot as plt\n",
    "colors = ['C1', 'C2', 'C3', 'C4', 'C5', 'C7', 'C8', 'C9']"
   ]
  },
  {
   "cell_type": "code",
   "execution_count": null,
   "id": "8f6324a6",
   "metadata": {},
   "outputs": [],
   "source": [
    "plt.figure()\n",
    "plt.plot(co2ppressures, data[:, 1], label=f'{temperatures[0]} C', color=colors[0])\n",
    "plt.legend(loc=\"best\")\n",
    "plt.xlabel('ppCO2')\n",
    "plt.ylabel('pH [-]')\n",
    "plt.grid()\n",
    "plt.savefig(results_folder + '/' + 'pH-vs-ppCO2.png', bbox_inches='tight')\n",
    "plt.close()"
   ]
  },
  {
   "cell_type": "code",
   "execution_count": null,
   "id": "e0b17cdf",
   "metadata": {},
   "outputs": [],
   "source": []
  }
 ],
 "metadata": {
  "jupytext": {
   "cell_metadata_filter": "-all",
   "formats": "notebooks//ipynb,py:light",
   "main_language": "python"
  }
 },
 "nbformat": 4,
 "nbformat_minor": 5
}
