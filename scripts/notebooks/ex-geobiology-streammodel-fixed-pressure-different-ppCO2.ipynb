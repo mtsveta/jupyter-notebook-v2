{
 "cells": [
  {
   "cell_type": "code",
   "execution_count": null,
   "id": "e344a3c8",
   "metadata": {},
   "outputs": [],
   "source": [
    "from reaktoro import *\n",
    "import numpy as np\n",
    "import os"
   ]
  },
  {
   "cell_type": "code",
   "execution_count": null,
   "id": "36a404f5",
   "metadata": {},
   "outputs": [],
   "source": [
    "results_folder = 'results-streammodel-fixed-pressure-different-ppCO2'\n",
    "os.system('mkdir -p ' + results_folder)"
   ]
  },
  {
   "cell_type": "code",
   "execution_count": null,
   "id": "f9ef97af",
   "metadata": {},
   "outputs": [],
   "source": [
    "db = PhreeqcDatabase.fromFile('databases/phreeqc-extended.dat') # if running from tutorials folder"
   ]
  },
  {
   "cell_type": "code",
   "execution_count": null,
   "id": "3c61c7dc",
   "metadata": {},
   "outputs": [],
   "source": [
    "solution = AqueousPhase(speciate(\"H O C Na Cl Ca P\"))\n",
    "solution.setActivityModel(chain(\n",
    "    ActivityModelHKF(),\n",
    "    ActivityModelDrummond(\"CO2\")\n",
    "))\n",
    "gases = GaseousPhase(\"CO2(g)\")\n",
    "gases.setActivityModel(ActivityModelPengRobinson())"
   ]
  },
  {
   "cell_type": "code",
   "execution_count": null,
   "id": "ec8fe52c",
   "metadata": {},
   "outputs": [],
   "source": [
    "mineral = MineralPhase(\"Calcite Fluorapatite Hydroxylapatite\")"
   ]
  },
  {
   "cell_type": "code",
   "execution_count": null,
   "id": "215dd5ee",
   "metadata": {},
   "outputs": [],
   "source": [
    "system = ChemicalSystem(db, solution, mineral, gases)"
   ]
  },
  {
   "cell_type": "code",
   "execution_count": null,
   "id": "56304c8e",
   "metadata": {
    "lines_to_next_cell": 1
   },
   "outputs": [],
   "source": [
    "aprops = AqueousProps(system)\n",
    "props = ChemicalProps(system)"
   ]
  },
  {
   "cell_type": "code",
   "execution_count": null,
   "id": "4cc86a0f",
   "metadata": {
    "lines_to_next_cell": 1
   },
   "outputs": [],
   "source": [
    "def equilibrate(ppCO2, T):\n",
    "\n",
    "    state = ChemicalState(system)\n",
    "    state.set(\"H2O\"    , 1.0 , \"kg\")\n",
    "    state.set(\"Calcite\", 10.0, \"mol\")\n",
    "    state.set(\"Fluorapatite\", 10.0, \"mol\")\n",
    "    state.set(\"Hydroxylapatite\", 10.0, \"mol\")\n",
    "    state.set(\"CO2(g)\",  100.0, \"mol\")\n",
    "\n",
    "    specs = EquilibriumSpecs(system)\n",
    "    specs.temperature()\n",
    "    specs.pressure()\n",
    "\n",
    "    solver = EquilibriumSolver(specs)\n",
    "\n",
    "    opts = EquilibriumOptions()\n",
    "    opts.epsilon = 1e-13\n",
    "    solver.setOptions(opts)\n",
    "\n",
    "    conditions = EquilibriumConditions(specs)\n",
    "    conditions.temperature(T, \"celsius\")\n",
    "    conditions.pressure(10**(ppCO2), \"atm\")\n",
    "\n",
    "    solver.solve(state, conditions)\n",
    "\n",
    "    aprops.update(state)\n",
    "    props.update(state)\n",
    "\n",
    "    pH = aprops.pH()[0]\n",
    "    #molP = props.elementAmountInPhase(\"P\", \"AqueousPhase\")[0]\n",
    "    molP = aprops.elementMolality(\"P\")[0]\n",
    "\n",
    "    return pH, molP"
   ]
  },
  {
   "cell_type": "code",
   "execution_count": null,
   "id": "e5f38591",
   "metadata": {},
   "outputs": [],
   "source": [
    "num_temperatures = 3\n",
    "num_ppco2s = 7\n",
    "temperatures = np.array([0, 25, 50])\n",
    "co2ppressures = np.linspace(-4.0, 2.0, num=num_ppco2s)"
   ]
  },
  {
   "cell_type": "code",
   "execution_count": null,
   "id": "31bdfccb",
   "metadata": {},
   "outputs": [],
   "source": [
    "data_size = 2\n",
    "data50 = np.zeros((num_ppco2s, data_size + 1))\n",
    "data25 = np.zeros((num_ppco2s, data_size + 1))\n",
    "data0 = np.zeros((num_ppco2s, data_size + 1))"
   ]
  },
  {
   "cell_type": "code",
   "execution_count": null,
   "id": "2e892e09",
   "metadata": {},
   "outputs": [],
   "source": [
    "for i in range(0, num_ppco2s):\n",
    "\n",
    "    result = equilibrate(co2ppressures[i], temperatures[2])\n",
    "    data50[i, 0] = co2ppressures[i]\n",
    "    data50[i, 1] = result[0]\n",
    "    data50[i, 2] = result[1]\n",
    "\n",
    "    result = equilibrate(co2ppressures[i], temperatures[1])\n",
    "    data25[i, 0] = co2ppressures[i]\n",
    "    data25[i, 1] = result[0]\n",
    "    data25[i, 2] = result[1]\n",
    "\n",
    "    result = equilibrate(co2ppressures[i], temperatures[0])\n",
    "    data0[i, 0] = co2ppressures[i]\n",
    "    data0[i, 1] = result[0]\n",
    "    data0[i, 2] = result[1]"
   ]
  },
  {
   "cell_type": "code",
   "execution_count": null,
   "id": "a7b339e1",
   "metadata": {},
   "outputs": [],
   "source": [
    "np.savetxt(results_folder + '/m-data-25.txt', data25)\n",
    "np.savetxt(results_folder + '/m-pH-25.txt', data25[:, 1])\n",
    "np.savetxt(results_folder + '/m-mP-25.txt', data25[:, 2])\n",
    "np.savetxt(results_folder + '/m-data-50.txt', data50)\n",
    "np.savetxt(results_folder + '/m-pH-50.txt', data50[:, 1])\n",
    "np.savetxt(results_folder + '/m-mP-50.txt', data50[:, 2])\n",
    "np.savetxt(results_folder + '/m-data-0.txt', data0)\n",
    "np.savetxt(results_folder + '/m-pH-0.txt', data0[:, 1])\n",
    "np.savetxt(results_folder + '/m-mP-0.txt', data0[:, 2])"
   ]
  },
  {
   "cell_type": "code",
   "execution_count": null,
   "id": "05b864fc",
   "metadata": {},
   "outputs": [],
   "source": [
    "import matplotlib.pyplot as plt\n",
    "colors = ['C1', 'C2', 'C3', 'C4', 'C5', 'C7', 'C8', 'C9']"
   ]
  },
  {
   "cell_type": "code",
   "execution_count": null,
   "id": "dbe961a5",
   "metadata": {},
   "outputs": [],
   "source": [
    "plt.figure()\n",
    "plt.plot(co2ppressures, data50[:, 1], label=f'{temperatures[2]} C', color=colors[2])\n",
    "plt.plot(co2ppressures, data25[:, 1], label=f'{temperatures[1]} C', color=colors[1])\n",
    "plt.plot(co2ppressures, data0[:, 1], label=f'{temperatures[0]} C', color=colors[0])\n",
    "plt.legend(loc=\"best\")\n",
    "plt.xlabel('ppCO2')\n",
    "plt.ylabel('pH [-]')\n",
    "plt.grid()\n",
    "plt.savefig(results_folder + '/' + 'pH-vs-ppCO2.png', bbox_inches='tight')\n",
    "plt.close()"
   ]
  },
  {
   "cell_type": "code",
   "execution_count": null,
   "id": "fc4dbd7b",
   "metadata": {
    "lines_to_next_cell": 2
   },
   "outputs": [],
   "source": [
    "plt.figure()\n",
    "plt.plot(co2ppressures, data50[:, 2], label=f'{temperatures[2]} C', color=colors[2])\n",
    "plt.plot(co2ppressures, data25[:, 2], label=f'{temperatures[1]} C', color=colors[1])\n",
    "plt.plot(co2ppressures, data0[:, 2], label=f'{temperatures[0]} C', color=colors[0])\n",
    "plt.legend(loc=\"best\")\n",
    "plt.xlabel('ppCO2')\n",
    "plt.ylabel('Amount of P [mol]')\n",
    "plt.grid()\n",
    "plt.savefig(results_folder + '/' + 'mP-vs-ppCO2.png', bbox_inches='tight')\n",
    "plt.close()"
   ]
  },
  {
   "cell_type": "code",
   "execution_count": null,
   "id": "3066fa5a",
   "metadata": {
    "lines_to_next_cell": 1
   },
   "outputs": [],
   "source": [
    "# ##\n",
    "# # Comparison to PHREEQC output\n",
    "# ##\n",
    "#\n",
    "data0PHREEQC  = np.loadtxt(results_folder + '/StreamModel_T0_wider_range.sel' , skiprows=2)\n",
    "data25PHREEQC = np.loadtxt(results_folder + '/StreamModel_T25.sel', skiprows=2)\n",
    "data50PHREEQC = np.loadtxt(results_folder + '/StreamModel_T50.sel', skiprows=2)"
   ]
  },
  {
   "cell_type": "code",
   "execution_count": null,
   "id": "0a2977ca",
   "metadata": {
    "lines_to_next_cell": 1
   },
   "outputs": [],
   "source": [
    "# comparison plots\n",
    "def line_filled_marker(color):\n",
    "    return {'color': color, 'markersize': 6, 'markeredgewidth': 1.5 }"
   ]
  },
  {
   "cell_type": "code",
   "execution_count": null,
   "id": "42dce44d",
   "metadata": {},
   "outputs": [],
   "source": [
    "plt.figure()\n",
    "plt.plot(data0[:, 0], data0[:, 1], label=f'Reaktoro', color=colors[2])\n",
    "plt.plot(data0[:, 0], data25[:, 1], label=f'Reaktoro', color=colors[4])\n",
    "plt.plot(data0[:, 0], data50[:, 1], label=f'Reaktoro', color=colors[6])\n",
    "plt.plot(data0PHREEQC[:, 3], data0PHREEQC[:, 0], 'D', **line_filled_marker(colors[2]))\n",
    "plt.plot([], [], 'D', label='T = 0 C, PHREEQC', **line_filled_marker(colors[2]))\n",
    "plt.plot(data25PHREEQC[:, 3], data25PHREEQC[:, 0], 'D', **line_filled_marker(colors[4]))\n",
    "plt.plot([], [], 'D', label='T = 25 C, PHREEQC', **line_filled_marker(colors[4]))\n",
    "plt.plot(data50PHREEQC[:, 3], data50PHREEQC[:, 0], 'D', **line_filled_marker(colors[6]))\n",
    "plt.plot([], [], 'D', label='T = 50 C, PHREEQC', **line_filled_marker(colors[6]))\n",
    "plt.legend(loc=\"best\")\n",
    "plt.xlabel('ppCO2')\n",
    "plt.ylabel(f'pH [-]')\n",
    "plt.title(f'pH for different temperatures')\n",
    "plt.grid()\n",
    "plt.savefig(results_folder + '/' + 'reaktoro-phreeqc-pH-vs-ppC02.png', bbox_inches='tight')\n",
    "plt.close()"
   ]
  },
  {
   "cell_type": "code",
   "execution_count": null,
   "id": "1b097028",
   "metadata": {},
   "outputs": [],
   "source": [
    "plt.figure()\n",
    "plt.plot(data0[:, 0], data0[:, 2], label=f'Reaktoro', color=colors[3])\n",
    "plt.plot(data0[:, 0], data25[:, 2], label=f'Reaktoro', color=colors[5])\n",
    "plt.plot(data0[:, 0], data50[:, 2], label=f'Reaktoro', color=colors[7])\n",
    "plt.plot(data0PHREEQC[:, 3], data0PHREEQC[:, 2],'D', **line_filled_marker(colors[3]))\n",
    "plt.plot([], [], 'D', label='T = 0 C, PHREEQC', **line_filled_marker(colors[3]))\n",
    "plt.plot(data25PHREEQC[:, 3], data25PHREEQC[:, 2], 'D', **line_filled_marker(colors[5]))\n",
    "plt.plot([], [], 'D', label='T = 25 C, PHREEQC', **line_filled_marker(colors[5]))\n",
    "plt.plot(data50PHREEQC[:, 3], data50PHREEQC[:, 2], 'D', **line_filled_marker(colors[7]))\n",
    "plt.plot([], [], 'D', label='T = 50 C, PHREEQC', **line_filled_marker(colors[7]))\n",
    "plt.legend(loc=\"best\")\n",
    "plt.xlabel('ppCO2')\n",
    "plt.ylabel(f'Amount of P [mol]')\n",
    "plt.title(f'Amount of P for different temperatures')\n",
    "plt.grid()\n",
    "plt.savefig(results_folder + '/' + 'reaktoro-phreeqc-P-vs-ppC02.png', bbox_inches='tight')\n",
    "plt.close()"
   ]
  },
  {
   "cell_type": "markdown",
   "id": "7a1af883",
   "metadata": {},
   "source": [
    "#########################################################################################\n",
    "\n",
    "num_temperatures = 51\n",
    "num_ppco2s = 101\n",
    "temperatures =  np.linspace(0.0, 50.0, num=num_temperatures)\n",
    "co2ppressures = np.linspace(-4.0, 0.0, num=num_ppco2s)\n",
    "\n",
    "data_size = 2\n",
    "data_pH = np.zeros((num_temperatures, num_ppco2s))\n",
    "data_P = np.zeros((num_temperatures, num_ppco2s))\n",
    "\n",
    "for i in range(0, num_temperatures):\n",
    "    for j in range(0, num_ppco2s):\n",
    "\n",
    "        result = equilibrate(co2ppressures[j], temperatures[i])\n",
    "        data_pH[i, j] = result[0]\n",
    "        data_P[i, j] = result[1]\n",
    "\n",
    "import matplotlib as ml\n",
    "import matplotlib.pyplot as plt\n",
    "from matplotlib.colors import BoundaryNorm\n",
    "from matplotlib.ticker import MaxNLocator\n",
    "import numpy as np\n",
    "\n",
    "levels = MaxNLocator(nbins=15).tick_values(data_pH.min(), data_pH.max())\n",
    "cmap = ml.cm.get_cmap('rainbow')\n",
    "norm = BoundaryNorm(levels, ncolors=cmap.N, clip=True)\n",
    "\n",
    "fig, ax = plt.subplots(1, 1)\n",
    "im = plt.pcolormesh(co2ppressures, temperatures, data_pH, cmap=cmap, norm=norm, shading='auto')\n",
    "fig.colorbar(im, ax=ax)\n",
    "ax.set_title('pH [-]')\n",
    "plt.savefig(results_folder + '/' + 'pH-vs-T-ppCO2.png', bbox_inches='tight')\n",
    "plt.close()\n",
    "\n",
    "levels = MaxNLocator(nbins=15).tick_values(data_P.min(), data_P.max())\n",
    "cmap = ml.cm.get_cmap('rainbow')\n",
    "norm = BoundaryNorm(levels, ncolors=cmap.N, clip=True)\n",
    "\n",
    "fig, ax = plt.subplots(1, 1)\n",
    "im = plt.pcolormesh(co2ppressures, temperatures, data_P, cmap=cmap, norm=norm, shading='auto')\n",
    "fig.colorbar(im, ax=ax)\n",
    "ax.set_title('Amount of P [mol]')\n",
    "plt.savefig(results_folder + '/' + 'molP-vs-T-ppCO2.png', bbox_inches='tight')\n",
    "plt.close()\n",
    "\n",
    "levels = MaxNLocator(nbins=15).tick_values(np.log10(data_P).min(), np.log10(data_P).max())\n",
    "cmap = ml.cm.get_cmap('rainbow')\n",
    "norm = BoundaryNorm(levels, ncolors=cmap.N, clip=True)\n",
    "\n",
    "fig, ax = plt.subplots(1, 1)\n",
    "im = plt.pcolormesh(co2ppressures, temperatures, np.log10(data_P), cmap=cmap, norm=norm,  shading='auto')\n",
    "fig.colorbar(im, ax=ax)\n",
    "ax.set_title('Amount log10(P) [mol]')\n",
    "plt.savefig(results_folder + '/' + 'log10P-vs-T-ppCO2.png', bbox_inches='tight')\n",
    "plt.close()\n",
    "\n",
    "# Plotting with `contourf` function\n",
    "\n",
    "maps = [\"Blues\", \"Greys\",  \"PuBu\", \"Oranges\", \"YlOrBr\", \"Reds\", \"Purples\", \"PuRd\",  \"Greens\"]\n",
    "dx = co2ppressures[1] - co2ppressures[0]\n",
    "dy = temperatures[1] - temperatures[0]\n",
    "y, x = np.mgrid[slice(temperatures[0], temperatures[-1] + dy, dy),\n",
    "                slice(co2ppressures[0], co2ppressures[-1] + dx, dx)]\n",
    "z = data_P[:, :-1]\n",
    "cmap = plt.get_cmap('rainbow')\n",
    "levels = MaxNLocator(nbins=10).tick_values(z.min(), z.max())\n",
    "cf = plt.contourf(x[:-1, :-1] + dx / 2.,\n",
    "                  y[:-1, :-1] + dy / 2.,\n",
    "                  z, levels=levels,\n",
    "                  cmap=cmap)\n",
    "plt.colorbar(cf)\n",
    "plt.title('Amount log10(P) [mol]')\n",
    "plt.xlabel('ppCO2 [-]')\n",
    "plt.ylabel('T [degC]')\n",
    "plt.savefig(results_folder + '/' + 'log10P-vs-T-ppCO2-with-contourf.png', bbox_inches='tight')\n",
    "plt.close()"
   ]
  }
 ],
 "metadata": {
  "jupytext": {
   "cell_metadata_filter": "-all",
   "formats": "notebooks//ipynb,py:light",
   "main_language": "python"
  }
 },
 "nbformat": 4,
 "nbformat_minor": 5
}
