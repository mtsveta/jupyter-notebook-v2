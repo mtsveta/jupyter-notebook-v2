{
 "cells": [
  {
   "cell_type": "code",
   "execution_count": null,
   "id": "cd4d65ce",
   "metadata": {},
   "outputs": [],
   "source": [
    "from reaktoro import *\n",
    "import numpy as np\n",
    "import os"
   ]
  },
  {
   "cell_type": "code",
   "execution_count": null,
   "id": "e7a3bb07",
   "metadata": {},
   "outputs": [],
   "source": [
    "results_folder = 'results-geobiology-fixed-pressure-different-ppCO2'\n",
    "os.system('mkdir -p ' + results_folder)"
   ]
  },
  {
   "cell_type": "code",
   "execution_count": null,
   "id": "e2213ee6",
   "metadata": {},
   "outputs": [],
   "source": [
    "db = PhreeqcDatabase.fromFile('databases/phreeqc-extended.dat') # if running from tutorials folder"
   ]
  },
  {
   "cell_type": "code",
   "execution_count": null,
   "id": "835ce969",
   "metadata": {},
   "outputs": [],
   "source": [
    "solution = AqueousPhase(speciate(\"H O C Na Cl Ca\"))\n",
    "solution.setActivityModel(chain(\n",
    "    ActivityModelHKF(),\n",
    "    ActivityModelDrummond(\"CO2\")\n",
    "))\n",
    "gases = GaseousPhase(\"CO2(g)\")\n",
    "gases.setActivityModel(ActivityModelPengRobinson())"
   ]
  },
  {
   "cell_type": "code",
   "execution_count": null,
   "id": "fbd79d0d",
   "metadata": {},
   "outputs": [],
   "source": [
    "mineral = MineralPhase(\"Calcite Fluorapatite Hydroxylapatite\")"
   ]
  },
  {
   "cell_type": "code",
   "execution_count": null,
   "id": "3e9861ea",
   "metadata": {
    "lines_to_next_cell": 1
   },
   "outputs": [],
   "source": [
    "system = ChemicalSystem(db, solution, mineral, gases)"
   ]
  },
  {
   "cell_type": "code",
   "execution_count": null,
   "id": "1f4dadee",
   "metadata": {
    "lines_to_next_cell": 1
   },
   "outputs": [],
   "source": [
    "def equilibrate(ppCO2, T):\n",
    "\n",
    "    state = ChemicalState(system)\n",
    "    state.set(\"H2O\"    , 1.0 , \"kg\")\n",
    "    state.set(\"Calcite\", 10.0, \"mol\")\n",
    "    state.set(\"Fluorapatite\", 10.0, \"mol\")\n",
    "    state.set(\"Hydroxylapatite\", 10.0, \"mol\")\n",
    "    state.set(\"CO2(g)\",  100.0, \"mol\")\n",
    "\n",
    "    specs = EquilibriumSpecs(system)\n",
    "    specs.temperature()\n",
    "    specs.pressure()\n",
    "\n",
    "    solver = EquilibriumSolver(specs)\n",
    "\n",
    "    conditions = EquilibriumConditions(specs)\n",
    "    conditions.temperature(T, \"celsius\")\n",
    "    conditions.pressure(10**(ppCO2), \"atm\")\n",
    "\n",
    "    solver.solve(state, conditions)\n",
    "\n",
    "    aprops = AqueousProps(state)\n",
    "\n",
    "    pH = aprops.pH()[0]\n",
    "\n",
    "    return pH"
   ]
  },
  {
   "cell_type": "code",
   "execution_count": null,
   "id": "49df9183",
   "metadata": {},
   "outputs": [],
   "source": [
    "num_temperatures = 1\n",
    "num_ppco2s = 7\n",
    "temperatures = np.array([0, 25, 50])\n",
    "co2ppressures = np.linspace(-4.0, 2.0, num=num_ppco2s)"
   ]
  },
  {
   "cell_type": "code",
   "execution_count": null,
   "id": "963fc50e",
   "metadata": {},
   "outputs": [],
   "source": [
    "data_size = 1\n",
    "data50 = np.zeros((num_ppco2s, data_size + 1))"
   ]
  },
  {
   "cell_type": "code",
   "execution_count": null,
   "id": "4a1d2cf1",
   "metadata": {},
   "outputs": [],
   "source": [
    "for i in range(0, num_ppco2s):\n",
    "    result = equilibrate(co2ppressures[i], temperatures[2])\n",
    "    data50[i, 0] = co2ppressures[i]\n",
    "    data50[i, 1] = result"
   ]
  },
  {
   "cell_type": "code",
   "execution_count": null,
   "id": "5100207d",
   "metadata": {},
   "outputs": [],
   "source": [
    "np.savetxt(results_folder + '/m-data-50.txt', data50)\n",
    "np.savetxt(results_folder + '/m-pH-50.txt', data50[:, 1])"
   ]
  },
  {
   "cell_type": "code",
   "execution_count": null,
   "id": "9684e1f4",
   "metadata": {},
   "outputs": [],
   "source": [
    "data25 = np.zeros((num_ppco2s, data_size + 1))"
   ]
  },
  {
   "cell_type": "code",
   "execution_count": null,
   "id": "1f562422",
   "metadata": {},
   "outputs": [],
   "source": [
    "for i in range(0, num_ppco2s):\n",
    "    result = equilibrate(co2ppressures[i], temperatures[1])\n",
    "    data25[i, 0] = co2ppressures[i]\n",
    "    data25[i, 1] = result"
   ]
  },
  {
   "cell_type": "code",
   "execution_count": null,
   "id": "aea2303e",
   "metadata": {},
   "outputs": [],
   "source": [
    "np.savetxt(results_folder + '/m-data-25.txt', data25)\n",
    "np.savetxt(results_folder + '/m-pH-25.txt', data25[:, 1])"
   ]
  },
  {
   "cell_type": "code",
   "execution_count": null,
   "id": "25fcebdf",
   "metadata": {},
   "outputs": [],
   "source": [
    "data0 = np.zeros((num_ppco2s, data_size + 1))"
   ]
  },
  {
   "cell_type": "code",
   "execution_count": null,
   "id": "3cbfae40",
   "metadata": {},
   "outputs": [],
   "source": [
    "for i in range(0, num_ppco2s):\n",
    "    result = equilibrate(co2ppressures[i], temperatures[0])\n",
    "    data0[i, 0] = co2ppressures[i]\n",
    "    data0[i, 1] = result"
   ]
  },
  {
   "cell_type": "code",
   "execution_count": null,
   "id": "d2956eee",
   "metadata": {},
   "outputs": [],
   "source": [
    "np.savetxt(results_folder + '/m-data-0.txt', data0)\n",
    "np.savetxt(results_folder + '/m-pH-0.txt', data0[:, 1])"
   ]
  },
  {
   "cell_type": "code",
   "execution_count": null,
   "id": "f7161cea",
   "metadata": {},
   "outputs": [],
   "source": [
    "import matplotlib.pyplot as plt\n",
    "colors = ['C1', 'C2', 'C3', 'C4', 'C5', 'C7', 'C8', 'C9']"
   ]
  },
  {
   "cell_type": "code",
   "execution_count": null,
   "id": "db4aeeb6",
   "metadata": {},
   "outputs": [],
   "source": [
    "plt.figure()\n",
    "plt.plot(co2ppressures, data50[:, 1], label=f'{temperatures[2]} C', color=colors[2])\n",
    "plt.plot(co2ppressures, data25[:, 1], label=f'{temperatures[1]} C', color=colors[1])\n",
    "plt.plot(co2ppressures, data0[:, 1], label=f'{temperatures[0]} C', color=colors[0])\n",
    "plt.legend(loc=\"best\")\n",
    "plt.xlabel('ppCO2')\n",
    "plt.ylabel('pH [-]')\n",
    "plt.grid()\n",
    "plt.savefig(results_folder + '/' + 'pH-vs-ppCO2.png', bbox_inches='tight')\n",
    "plt.close()"
   ]
  },
  {
   "cell_type": "code",
   "execution_count": null,
   "id": "15093f5c",
   "metadata": {},
   "outputs": [],
   "source": []
  }
 ],
 "metadata": {
  "jupytext": {
   "cell_metadata_filter": "-all",
   "formats": "notebooks//ipynb,py:light",
   "main_language": "python"
  }
 },
 "nbformat": 4,
 "nbformat_minor": 5
}
