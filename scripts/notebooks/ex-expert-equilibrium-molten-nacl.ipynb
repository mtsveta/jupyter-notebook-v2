{
 "cells": [
  {
   "cell_type": "markdown",
   "id": "4dc84af2",
   "metadata": {},
   "source": [
    "Reaktoro is a unified framework for modeling chemically reactive systems.\n",
    "\n",
    "Copyright © 2014-2021 Allan Leal\n",
    "\n",
    "This library is free software; you can redistribute it and/or\n",
    "modify it under the terms of the GNU Lesser General Public\n",
    "License as published by the Free Software Foundation; either\n",
    "version 2.1 of the License, or (at your option) any later version.\n",
    "\n",
    "This library is distributed in the hope that it will be useful,\n",
    "but WITHOUT ANY WARRANTY; without even the implied warranty of\n",
    "MERCHANTABILITY or FITNESS FOR A PARTICULAR PURPOSE. See the GNU\n",
    "Lesser General Public License for more details.\n",
    "\n",
    "You should have received a copy of the GNU Lesser General Public License\n",
    "along with this library. If not, see <http://www.gnu.org/licenses/>."
   ]
  },
  {
   "cell_type": "markdown",
   "id": "199b90f1",
   "metadata": {},
   "source": [
    "-----------------------------------------------------------------------------\n",
    "👏 Acknowledgements 👏\n",
    "-----------------------------------------------------------------------------\n",
    "This example was originally authored by:\n",
    "  • Allan Leal (14 September 2021)\n",
    "  • William Smith (14 September 2021)\n",
    "\n",
    "and since revised by:\n",
    "  •\n",
    "-----------------------------------------------------------------------------"
   ]
  },
  {
   "cell_type": "code",
   "execution_count": null,
   "id": "3c5607d5",
   "metadata": {
    "lines_to_next_cell": 2
   },
   "outputs": [],
   "source": [
    "from reaktoro import *\n",
    "from matplotlib import pyplot as plt\n",
    "from pathlib import Path"
   ]
  },
  {
   "cell_type": "code",
   "execution_count": null,
   "id": "9a8d319b",
   "metadata": {},
   "outputs": [],
   "source": [
    "N = 300\n",
    "T = 1100\n",
    "Pmin = 1\n",
    "Pmax = 1.7e3"
   ]
  },
  {
   "cell_type": "code",
   "execution_count": null,
   "id": "6bc47c61",
   "metadata": {},
   "outputs": [],
   "source": [
    "filepath = Path(__file__).parent.parent/\"resources/db-molten-nacl.yaml\""
   ]
  },
  {
   "cell_type": "code",
   "execution_count": null,
   "id": "2d5a347b",
   "metadata": {},
   "outputs": [],
   "source": [
    "db = Database.fromFile(str(filepath))"
   ]
  },
  {
   "cell_type": "code",
   "execution_count": null,
   "id": "89f72309",
   "metadata": {},
   "outputs": [],
   "source": [
    "liquid = LiquidPhase(\"NaCl(l)\")"
   ]
  },
  {
   "cell_type": "code",
   "execution_count": null,
   "id": "a9464e83",
   "metadata": {},
   "outputs": [],
   "source": [
    "gases = GaseousPhase(speciate(\"Na Cl\"))"
   ]
  },
  {
   "cell_type": "code",
   "execution_count": null,
   "id": "d2573ab5",
   "metadata": {},
   "outputs": [],
   "source": [
    "system = ChemicalSystem(db, liquid, gases)"
   ]
  },
  {
   "cell_type": "code",
   "execution_count": null,
   "id": "498c2251",
   "metadata": {},
   "outputs": [],
   "source": [
    "state = ChemicalState(system)\n",
    "state.temperature(T, \"K\")\n",
    "state.set(\"NaCl(l)\", 1.0, \"mol\")"
   ]
  },
  {
   "cell_type": "code",
   "execution_count": null,
   "id": "af2887d2",
   "metadata": {},
   "outputs": [],
   "source": [
    "data = {}\n",
    "data[\"P\"]              = []\n",
    "data[\"NaCl(l)\"]        = []\n",
    "data[\"Na(g)\"]          = []\n",
    "data[\"Cl(g)\"]          = []\n",
    "data[\"Cl2(g)\"]         = []\n",
    "data[\"NaCl(g)\"]        = []\n",
    "data[\"Na2Cl2(g,ring)\"] = []\n",
    "data[\"Na+(g)\"]         = []\n",
    "data[\"Cl-(g)\"]         = []"
   ]
  },
  {
   "cell_type": "code",
   "execution_count": null,
   "id": "c8b7a499",
   "metadata": {},
   "outputs": [],
   "source": [
    "for i in range(N):\n",
    "    P = Pmin + i*(Pmax - Pmin)/(N - 1)\n",
    "    state.pressure(P, \"Pa\")\n",
    "    equilibrate(state)\n",
    "    data[\"P\"].append(P/1e3)\n",
    "    data[\"NaCl(l)\"].append(state.speciesAmount(\"NaCl(l)\")[0])\n",
    "    data[\"Na(g)\"].append(state.speciesAmount(\"Na(g)\")[0])\n",
    "    data[\"Cl(g)\"].append(state.speciesAmount(\"Cl(g)\")[0])\n",
    "    data[\"Cl2(g)\"].append(state.speciesAmount(\"Cl2(g)\")[0])\n",
    "    data[\"NaCl(g)\"].append(state.speciesAmount(\"NaCl(g)\")[0])\n",
    "    data[\"Na2Cl2(g,ring)\"].append(state.speciesAmount(\"Na2Cl2(g,ring)\")[0])\n",
    "    data[\"Na+(g)\"].append(state.speciesAmount(\"Na+(g)\")[0])\n",
    "    data[\"Cl-(g)\"].append(state.speciesAmount(\"Cl-(g)\")[0])"
   ]
  },
  {
   "cell_type": "code",
   "execution_count": null,
   "id": "e40d1e97",
   "metadata": {},
   "outputs": [],
   "source": [
    "plt.subplots(figsize=(10, 5))\n",
    "plt.plot(data[\"P\"], data[\"NaCl(l)\"], label=\"NaCl(l)\")\n",
    "plt.plot(data[\"P\"], data[\"Na(g)\"], label=\"Na(g)\")\n",
    "plt.plot(data[\"P\"], data[\"Cl(g)\"], label=\"Cl(g)\")\n",
    "plt.plot(data[\"P\"], data[\"Cl2(g)\"], label=\"Cl2(g)\")\n",
    "plt.plot(data[\"P\"], data[\"NaCl(g)\"], label=\"NaCl(g)\")\n",
    "plt.plot(data[\"P\"], data[\"Na2Cl2(g,ring)\"], label=\"Na2Cl2(g,ring)\")\n",
    "plt.plot(data[\"P\"], data[\"Na+(g)\"], label=\"Na+(g)\")\n",
    "plt.plot(data[\"P\"], data[\"Cl-(g)\"], label=\"Cl-(g)\")\n",
    "plt.xlabel(\"P [kPa]\")\n",
    "plt.ylabel(\"Amount [mol]\")\n",
    "plt.legend(loc='center left', bbox_to_anchor=(1, 0.5))\n",
    "plt.grid()\n",
    "plt.tight_layout()\n",
    "plt.savefig(f\"molten-nacl-{T}K-{Pmin}-{Pmax}Pa.pdf\")"
   ]
  }
 ],
 "metadata": {
  "jupytext": {
   "cell_metadata_filter": "-all",
   "encoding": "# -*- coding: utf-8 -*-",
   "formats": "notebooks//ipynb,py:light",
   "main_language": "python"
  }
 },
 "nbformat": 4,
 "nbformat_minor": 5
}
