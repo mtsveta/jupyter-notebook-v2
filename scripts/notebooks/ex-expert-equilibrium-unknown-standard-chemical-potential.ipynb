{
 "cells": [
  {
   "cell_type": "markdown",
   "id": "29fc3738",
   "metadata": {},
   "source": [
    "Reaktoro is a unified framework for modeling chemically reactive systems.\n",
    "\n",
    "Copyright © 2014-2021 Allan Leal\n",
    "\n",
    "This library is free software; you can redistribute it and/or\n",
    "modify it under the terms of the GNU Lesser General Public\n",
    "License as published by the Free Software Foundation; either\n",
    "version 2.1 of the License, or (at your option) any later version.\n",
    "\n",
    "This library is distributed in the hope that it will be useful,\n",
    "but WITHOUT ANY WARRANTY; without even the implied warranty of\n",
    "MERCHANTABILITY or FITNESS FOR A PARTICULAR PURPOSE. See the GNU\n",
    "Lesser General Public License for more details.\n",
    "\n",
    "You should have received a copy of the GNU Lesser General Public License\n",
    "along with this library. If not, see <http://www.gnu.org/licenses/>."
   ]
  },
  {
   "cell_type": "markdown",
   "id": "7d24782e",
   "metadata": {},
   "source": [
    "-----------------------------------------------------------------------------\n",
    "👏 Acknowledgements 👏\n",
    "-----------------------------------------------------------------------------\n",
    "This example was originally authored by:\n",
    "  • Allan Leal (4 August 2021)\n",
    "\n",
    "and since revised by:\n",
    "  •\n",
    "-----------------------------------------------------------------------------"
   ]
  },
  {
   "cell_type": "code",
   "execution_count": null,
   "id": "18962f48",
   "metadata": {
    "lines_to_next_cell": 2
   },
   "outputs": [],
   "source": [
    "from reaktoro import *\n",
    "from autodiff import abs"
   ]
  },
  {
   "cell_type": "code",
   "execution_count": null,
   "id": "afacf003",
   "metadata": {},
   "outputs": [],
   "source": [
    "T = 60.0 + 273.15 # temperature in K\n",
    "P = 10.0 * 1e5    # pressure in Pa"
   ]
  },
  {
   "cell_type": "code",
   "execution_count": null,
   "id": "02be10ea",
   "metadata": {},
   "outputs": [],
   "source": [
    "def computeSolubilityCaCO3(system):\n",
    "    state = ChemicalState(system)\n",
    "    state.setTemperature(T)\n",
    "    state.setPressure(P)\n",
    "    state.set(\"H2O(aq)\", 1.0, \"kg\")\n",
    "    state.set(\"Calcite\", 1.0, \"mol\")\n",
    "\n",
    "    equilibrate(state)\n",
    "\n",
    "    aprops = AqueousProps(state)\n",
    "\n",
    "    return aprops.elementMolality(\"Ca\")"
   ]
  },
  {
   "cell_type": "code",
   "execution_count": null,
   "id": "1fb3ab37",
   "metadata": {},
   "outputs": [],
   "source": [
    "db = SupcrtDatabase(\"supcrtbl\")"
   ]
  },
  {
   "cell_type": "code",
   "execution_count": null,
   "id": "157b1269",
   "metadata": {},
   "outputs": [],
   "source": [
    "solution = AqueousPhase(speciate(\"C Ca\"), exclude(\"organic\"))\n",
    "solution.setActivityModel(chain(\n",
    "    ActivityModelHKF(),\n",
    "    ActivityModelDrummond(\"CO2\")\n",
    "))"
   ]
  },
  {
   "cell_type": "code",
   "execution_count": null,
   "id": "35c8053d",
   "metadata": {},
   "outputs": [],
   "source": [
    "mineral = MineralPhase(\"Calcite\")"
   ]
  },
  {
   "cell_type": "code",
   "execution_count": null,
   "id": "8ff5b6ef",
   "metadata": {},
   "outputs": [],
   "source": [
    "system = ChemicalSystem(db, solution, mineral)"
   ]
  },
  {
   "cell_type": "code",
   "execution_count": null,
   "id": "05d65551",
   "metadata": {},
   "outputs": [],
   "source": [
    "solubilityCaCO3 = computeSolubilityCaCO3(system)"
   ]
  },
  {
   "cell_type": "code",
   "execution_count": null,
   "id": "e2857841",
   "metadata": {},
   "outputs": [],
   "source": [
    "constraint = ConstraintEquation()\n",
    "constraint.id = \"solubility[CaCO3]\""
   ]
  },
  {
   "cell_type": "code",
   "execution_count": null,
   "id": "9218f5a5",
   "metadata": {
    "lines_to_next_cell": 1
   },
   "outputs": [],
   "source": [
    "aprops = AqueousProps(system)\n",
    "def fn(props, w):\n",
    "    aprops.update(props)\n",
    "    return aprops.elementMolality(\"Ca\") - solubilityCaCO3"
   ]
  },
  {
   "cell_type": "code",
   "execution_count": null,
   "id": "2130416a",
   "metadata": {},
   "outputs": [],
   "source": [
    "constraint.fn = fn"
   ]
  },
  {
   "cell_type": "code",
   "execution_count": null,
   "id": "b4313137",
   "metadata": {},
   "outputs": [],
   "source": [
    "specs = EquilibriumSpecs(system)\n",
    "specs.temperature()\n",
    "specs.pressure()\n",
    "specs.addUnknownStandardChemicalPotential(\"Calcite\")\n",
    "specs.addConstraint(constraint)"
   ]
  },
  {
   "cell_type": "code",
   "execution_count": null,
   "id": "0e38fb75",
   "metadata": {},
   "outputs": [],
   "source": [
    "state = ChemicalState(system)\n",
    "state.setTemperature(T)\n",
    "state.setPressure(P)\n",
    "state.set(\"H2O(aq)\", 1.0, \"kg\")\n",
    "state.set(\"Calcite\", 10.0, \"mol\")"
   ]
  },
  {
   "cell_type": "code",
   "execution_count": null,
   "id": "e4cf20fd",
   "metadata": {},
   "outputs": [],
   "source": [
    "solver = EquilibriumSolver(specs)"
   ]
  },
  {
   "cell_type": "code",
   "execution_count": null,
   "id": "5cd2807d",
   "metadata": {},
   "outputs": [],
   "source": [
    "solver.solve(state)"
   ]
  },
  {
   "cell_type": "code",
   "execution_count": null,
   "id": "f591e4fc",
   "metadata": {},
   "outputs": [],
   "source": [
    "G0_calcite_expected = system.species().get(\"Calcite\").props(T, P).G0\n",
    "G0_calcite_computed = state.equilibrium().p()[0]"
   ]
  },
  {
   "cell_type": "code",
   "execution_count": null,
   "id": "0c0e9a25",
   "metadata": {},
   "outputs": [],
   "source": [
    "print(f\"=================================\")\n",
    "print(f\"G0(calcite) at 60 °C and 10 bar  \")\n",
    "print(f\"=================================\")\n",
    "print(f\"expected: {G0_calcite_expected/1000.0} kJ/mol\")\n",
    "print(f\"computed: {G0_calcite_computed/1000.0} kJ/mol\")\n",
    "print(f\"   error: {abs((G0_calcite_computed - G0_calcite_expected)/G0_calcite_expected) * 100.0} %\")\n",
    "print(f\"=================================\")"
   ]
  }
 ],
 "metadata": {
  "jupytext": {
   "cell_metadata_filter": "-all",
   "encoding": "# -*- coding: utf-8 -*-",
   "formats": "notebooks//ipynb,py:light",
   "main_language": "python"
  }
 },
 "nbformat": 4,
 "nbformat_minor": 5
}
