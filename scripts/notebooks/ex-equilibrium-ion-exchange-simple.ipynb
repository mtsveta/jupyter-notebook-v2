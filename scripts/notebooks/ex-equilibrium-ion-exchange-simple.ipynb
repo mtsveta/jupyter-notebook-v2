{
 "cells": [
  {
   "cell_type": "markdown",
   "id": "68f21eef",
   "metadata": {},
   "source": [
    "Reaktoro is a unified framework for modeling chemically reactive systems.\n",
    "\n",
    "Copyright © 2014-2021 Allan Leal\n",
    "\n",
    "This library is free software; you can redistribute it and/or\n",
    "modify it under the terms of the GNU Lesser General Public\n",
    "License as published by the Free Software Foundation; either\n",
    "version 2.1 of the License, or (at your option) any later version.\n",
    "\n",
    "This library is distributed in the hope that it will be useful,\n",
    "but WITHOUT ANY WARRANTY; without even the implied warranty of\n",
    "MERCHANTABILITY or FITNESS FOR A PARTICULAR PURPOSE. See the GNU\n",
    "Lesser General Public License for more details.\n",
    "\n",
    "You should have received a copy of the GNU Lesser General Public License\n",
    "along with this library. If not, see <http://www.gnu.org/licenses/>."
   ]
  },
  {
   "cell_type": "markdown",
   "id": "021da5fd",
   "metadata": {
    "lines_to_next_cell": 2
   },
   "source": [
    "-----------------------------------------------------------------------------\n",
    "👏 Acknowledgements 👏\n",
    "-----------------------------------------------------------------------------\n",
    "This example was originally authored by:\n",
    "  • Svetlana Kyas (29 September)\n",
    "\n",
    "and since revised by:\n",
    "  •\n",
    "-----------------------------------------------------------------------------"
   ]
  },
  {
   "cell_type": "code",
   "execution_count": null,
   "id": "b1ec16b1",
   "metadata": {},
   "outputs": [],
   "source": [
    "from reaktoro import *"
   ]
  },
  {
   "cell_type": "code",
   "execution_count": null,
   "id": "5d771536",
   "metadata": {},
   "outputs": [],
   "source": [
    "db = PhreeqcDatabase(\"phreeqc.dat\")"
   ]
  },
  {
   "cell_type": "code",
   "execution_count": null,
   "id": "2d677d3f",
   "metadata": {},
   "outputs": [],
   "source": [
    "# Define an aqueous phase\n",
    "solution = AqueousPhase(\"H2O Na+ Cl- H+ OH- K+ Ca+2 Mg+2\")\n",
    "solution.setActivityModel(chain(\n",
    "    ActivityModelHKF()\n",
    "))"
   ]
  },
  {
   "cell_type": "code",
   "execution_count": null,
   "id": "d2ef348f",
   "metadata": {},
   "outputs": [],
   "source": [
    "# Define an ion exchange phase\n",
    "exchange_species = \"NaX KX CaX2 MgX2\"\n",
    "exchange = IonExchangePhase(exchange_species)\n",
    "exchange.setActivityModel(ActivityModelIonExchangeGainesThomas())"
   ]
  },
  {
   "cell_type": "code",
   "execution_count": null,
   "id": "73dae888",
   "metadata": {},
   "outputs": [],
   "source": [
    "# Create chemical system\n",
    "system = ChemicalSystem(db, solution, exchange)"
   ]
  },
  {
   "cell_type": "code",
   "execution_count": null,
   "id": "cf4a8ef2",
   "metadata": {},
   "outputs": [],
   "source": [
    "T = 25.0 # temperature in celsius\n",
    "P = 1.0  # pressure in bar"
   ]
  },
  {
   "cell_type": "code",
   "execution_count": null,
   "id": "d48e20ef",
   "metadata": {},
   "outputs": [],
   "source": [
    "# Define initial equilibrium state\n",
    "state = ChemicalState(system)\n",
    "state.setTemperature(T, \"celsius\")\n",
    "state.setPressure(P, \"bar\")\n",
    "state.setSpeciesMass(\"H2O\"   , 1.00, \"kg\")\n",
    "state.setSpeciesAmount(\"Na+\" , 1.00, \"mol\")\n",
    "state.setSpeciesAmount(\"K+\"  , 1.00, \"mol\")\n",
    "state.setSpeciesAmount(\"Mg+2\", 1.00, \"mol\")\n",
    "state.setSpeciesAmount(\"Ca+2\", 1.00, \"mol\")\n",
    "state.setSpeciesAmount(\"NaX\" , 0.06, \"umol\") # set small to make sure we have plenty of water for available exchanger X-"
   ]
  },
  {
   "cell_type": "code",
   "execution_count": null,
   "id": "6356b0fe",
   "metadata": {},
   "outputs": [],
   "source": [
    "# Define equilibrium solver and equilibrate given initial state with input conditions\n",
    "solver = EquilibriumSolver(system)\n",
    "solver.solve(state)\n",
    "print(state)"
   ]
  },
  {
   "cell_type": "code",
   "execution_count": null,
   "id": "162c74f6",
   "metadata": {},
   "outputs": [],
   "source": [
    "aqprops = AqueousProps(state)\n",
    "print(\"I  = %f mol/kgw\" % aqprops.ionicStrength()[0])\n",
    "print(\"pH = %f\" % aqprops.pH()[0])\n",
    "print(\"pE = %f\" % aqprops.pE()[0])"
   ]
  },
  {
   "cell_type": "code",
   "execution_count": null,
   "id": "85c349fd",
   "metadata": {},
   "outputs": [],
   "source": [
    "exprops = IonExchangeProps(state)\n",
    "print(exprops)"
   ]
  }
 ],
 "metadata": {
  "jupytext": {
   "cell_metadata_filter": "-all",
   "encoding": "# -*- coding: utf-8 -*-",
   "formats": "notebooks//ipynb,py:light",
   "main_language": "python"
  }
 },
 "nbformat": 4,
 "nbformat_minor": 5
}
