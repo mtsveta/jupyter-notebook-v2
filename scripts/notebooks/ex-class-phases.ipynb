{
 "cells": [
  {
   "cell_type": "code",
   "execution_count": null,
   "id": "85411966",
   "metadata": {},
   "outputs": [],
   "source": [
    "from reaktoro import *"
   ]
  },
  {
   "cell_type": "code",
   "execution_count": null,
   "id": "6898c42b",
   "metadata": {},
   "outputs": [],
   "source": [
    "def printSpeciesInPhase(phase):\n",
    "    phase_species = \"\"\n",
    "    for species in phase.species():\n",
    "        phase_species += species.name() + \" \"\n",
    "    print(\"Species in \" + phase.name() + \": \" +  phase_species[0:-1])"
   ]
  },
  {
   "cell_type": "code",
   "execution_count": null,
   "id": "499402c9",
   "metadata": {},
   "outputs": [],
   "source": [
    "# Definition of custom database with manula addition of the species (and their name, tags, ect)\n",
    "db = Database()\n",
    "db.addSpecies( Species(\"H2O(aq)\") )\n",
    "db.addSpecies( Species(\"H+\") )\n",
    "db.addSpecies( Species(\"OH-\") )\n",
    "db.addSpecies( Species(\"H2(aq)\") )\n",
    "db.addSpecies( Species(\"O2(aq)\") )\n",
    "db.addSpecies( Species(\"Na+\") )\n",
    "db.addSpecies( Species(\"Cl-\") )\n",
    "db.addSpecies( Species(\"NaCl(aq)\") )\n",
    "db.addSpecies( Species(\"HCl(aq)\") )\n",
    "db.addSpecies( Species(\"NaOH(aq)\") )\n",
    "db.addSpecies( Species(\"Ca++\") )\n",
    "db.addSpecies( Species(\"Mg++\") )\n",
    "db.addSpecies( Species(\"CO2(aq)\") )\n",
    "db.addSpecies( Species(\"HCO3-\") )\n",
    "db.addSpecies( Species(\"CO3--\") )\n",
    "db.addSpecies( Species(\"CaCl2(aq)\") )\n",
    "db.addSpecies( Species(\"MgCl2(aq)\") )\n",
    "db.addSpecies( Species(\"SiO2(aq)\") )\n",
    "db.addSpecies( Species(\"NaCl(s)\").withName(\"Halite\") )\n",
    "db.addSpecies( Species(\"SiO2(s)\").withName(\"Quartz\") )\n",
    "db.addSpecies( Species(\"CO2(g)\") )\n",
    "db.addSpecies( Species(\"O2(g)\") )\n",
    "db.addSpecies( Species(\"H2(g)\") )\n",
    "db.addSpecies( Species(\"H2O(g)\") )\n",
    "db.addSpecies( Species(\"CH4(g)\") )\n",
    "db.addSpecies( Species(\"CO(g)\") )\n",
    "db.addSpecies( Species(\"CaCO3(s)\").withName(\"Calcite\").withTags(\"carbonate\") )\n",
    "db.addSpecies( Species(\"MgCO3(s)\").withName(\"Magnesite\").withTags(\"carbonate\") )\n",
    "db.addSpecies( Species(\"CaMg(CO3)2(s)\").withName(\"Dolomite\").withTags(\"carbonate\") )\n",
    "db.addSpecies( Species(\"C(s)\").withName(\"Graphite\") )\n",
    "db.addSpecies( Species(\"CaO(s)\").withName(\"Lime\") )\n",
    "db.addSpecies( Species(\"N2(g)\").withTags(\"inert\") )\n",
    "db.addSpecies( Species(\"C4H9OH\").withTags(\"organic\").withName(\"1-Butanol(aq)\") )\n",
    "db.addSpecies( Species(\"C4H8\").withTags(\"organic\").withName(\"1-Butene(aq)\") )\n",
    "db.addSpecies( Species(\"BaSO4(s)\").withName(\"Barite\").withTags(\"sulfate\") )\n",
    "db.addSpecies( Species(\"SrSO4(s)\").withName(\"Celestite\").withTags(\"sulfate\") )\n",
    "db.addSpecies( Species(\"PbSO4(s)\").withName(\"Anglesite\").withTags(\"sulfate\") )\n",
    "db.addSpecies( Species(\"CaSO4(s)\").withName(\"Anhydrite\").withTags(\"sulfate\") )"
   ]
  },
  {
   "cell_type": "code",
   "execution_count": null,
   "id": "3e29b87b",
   "metadata": {},
   "outputs": [],
   "source": [
    "print(\"# -----------------------------------------------------------------------------------------------------------------\")\n",
    "print(\"# Illustrate how select all the aqueous species with provided elements from database\")\n",
    "print(\"# -----------------------------------------------------------------------------------------------------------------\")"
   ]
  },
  {
   "cell_type": "code",
   "execution_count": null,
   "id": "8f16d124",
   "metadata": {},
   "outputs": [],
   "source": [
    "# Define phases containing aqueous and gaseous species\n",
    "phases = Phases(db)\n",
    "phases.add( AqueousPhase(speciate(\"H O C Na Cl\")) )\n",
    "phases.add( GaseousPhase(\"CO2(g)\") )"
   ]
  },
  {
   "cell_type": "code",
   "execution_count": null,
   "id": "8e05d6a1",
   "metadata": {},
   "outputs": [],
   "source": [
    "# Print species contained in these phases\n",
    "phases = phases.convert()\n",
    "printSpeciesInPhase(phases[0])\n",
    "printSpeciesInPhase(phases[1])"
   ]
  },
  {
   "cell_type": "code",
   "execution_count": null,
   "id": "df83dcaf",
   "metadata": {},
   "outputs": [],
   "source": [
    "print(\"# -----------------------------------------------------------------------------------------------------------------\")\n",
    "print(\"# Illustrate how to exclude aqueous species with a given tag\")\n",
    "print(\"# -----------------------------------------------------------------------------------------------------------------\")"
   ]
  },
  {
   "cell_type": "code",
   "execution_count": null,
   "id": "94257f58",
   "metadata": {},
   "outputs": [],
   "source": [
    "phases = Phases(db)\n",
    "phases.add( AqueousPhase(speciate(\"H O C Na Cl\"), exclude(\"organic\")) )\n",
    "phases.add( GaseousPhase(\"CO2(g)\") )"
   ]
  },
  {
   "cell_type": "code",
   "execution_count": null,
   "id": "3843a7d8",
   "metadata": {},
   "outputs": [],
   "source": [
    "phases = phases.convert()\n",
    "printSpeciesInPhase(phases[0])\n",
    "printSpeciesInPhase(phases[1])"
   ]
  },
  {
   "cell_type": "code",
   "execution_count": null,
   "id": "865418e8",
   "metadata": {},
   "outputs": [],
   "source": [
    "print(\"# -----------------------------------------------------------------------------------------------------------------\")\n",
    "print(\"# Illustrate how to exclude aqueous species and minerals with given tags\")\n",
    "print(\"# -----------------------------------------------------------------------------------------------------------------\")"
   ]
  },
  {
   "cell_type": "code",
   "execution_count": null,
   "id": "fbb22d8a",
   "metadata": {},
   "outputs": [],
   "source": [
    "phases = Phases(db)\n",
    "phases.add( AqueousPhase(speciate(\"H O\"), exclude(\"organic\")))\n",
    "phases.add( MineralPhases(speciate(\"C Ca O\"), exclude(\"carbonate\")) )"
   ]
  },
  {
   "cell_type": "code",
   "execution_count": null,
   "id": "8117c026",
   "metadata": {},
   "outputs": [],
   "source": [
    "phases = phases.convert()\n",
    "printSpeciesInPhase(phases[0])\n",
    "printSpeciesInPhase(phases[1])\n",
    "printSpeciesInPhase(phases[2])"
   ]
  },
  {
   "cell_type": "code",
   "execution_count": null,
   "id": "ff033d59",
   "metadata": {},
   "outputs": [],
   "source": [
    "print(\"# -----------------------------------------------------------------------------------------------------------------\")\n",
    "print(\"# Illustrate how to exclude aqueous and gaseous species as well as minerals with given tags\")\n",
    "print(\"# -----------------------------------------------------------------------------------------------------------------\")"
   ]
  },
  {
   "cell_type": "code",
   "execution_count": null,
   "id": "1999b825",
   "metadata": {},
   "outputs": [],
   "source": [
    "phases = Phases(db)\n",
    "phases.add( AqueousPhase(speciate(\"H O C Na Cl\"), exclude(\"organic\")) )\n",
    "phases.add( GaseousPhase(exclude(\"inert\")) )\n",
    "phases.add( MineralPhases(exclude(\"carbonate\")) )"
   ]
  },
  {
   "cell_type": "code",
   "execution_count": null,
   "id": "8ca03361",
   "metadata": {},
   "outputs": [],
   "source": [
    "phases = phases.convert()\n",
    "printSpeciesInPhase(phases[0])\n",
    "printSpeciesInPhase(phases[1])\n",
    "printSpeciesInPhase(phases[2])\n",
    "printSpeciesInPhase(phases[3])"
   ]
  }
 ],
 "metadata": {
  "jupytext": {
   "cell_metadata_filter": "-all",
   "encoding": "# -*- coding: utf-8 -*-",
   "formats": "notebooks//ipynb,py:light",
   "main_language": "python"
  }
 },
 "nbformat": 4,
 "nbformat_minor": 5
}
