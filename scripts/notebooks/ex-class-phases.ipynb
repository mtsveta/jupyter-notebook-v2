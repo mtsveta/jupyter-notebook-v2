{
 "cells": [
  {
   "cell_type": "markdown",
   "id": "5cd864f8",
   "metadata": {},
   "source": [
    "Reaktoro is a unified framework for modeling chemically reactive systems.\n",
    "\n",
    "Copyright © 2014-2021 Allan Leal\n",
    "\n",
    "This library is free software; you can redistribute it and/or\n",
    "modify it under the terms of the GNU Lesser General Public\n",
    "License as published by the Free Software Foundation; either\n",
    "version 2.1 of the License, or (at your option) any later version.\n",
    "\n",
    "This library is distributed in the hope that it will be useful,\n",
    "but WITHOUT ANY WARRANTY; without even the implied warranty of\n",
    "MERCHANTABILITY or FITNESS FOR A PARTICULAR PURPOSE. See the GNU\n",
    "Lesser General Public License for more details.\n",
    "\n",
    "You should have received a copy of the GNU Lesser General Public License\n",
    "along with this library. If not, see <http://www.gnu.org/licenses/>."
   ]
  },
  {
   "cell_type": "markdown",
   "id": "73a4fd91",
   "metadata": {
    "lines_to_next_cell": 2
   },
   "source": [
    "-----------------------------------------------------------------------------\n",
    "👏 Acknowledgements 👏\n",
    "-----------------------------------------------------------------------------\n",
    "This example was originally authored by:\n",
    "  • Svetlana Kyas (14 July 2021)\n",
    "\n",
    "and since revised by:\n",
    "  •\n",
    "-----------------------------------------------------------------------------"
   ]
  },
  {
   "cell_type": "code",
   "execution_count": null,
   "id": "9fdee435",
   "metadata": {},
   "outputs": [],
   "source": [
    "from reaktoro import *"
   ]
  },
  {
   "cell_type": "code",
   "execution_count": null,
   "id": "cded7f51",
   "metadata": {},
   "outputs": [],
   "source": [
    "def printSpeciesInPhase(phase):\n",
    "    phase_species = \"\"\n",
    "    for species in phase.species():\n",
    "        phase_species += species.name() + \" \"\n",
    "    print(\"Species in \" + phase.name() + \": \" +  phase_species[0:-1])"
   ]
  },
  {
   "cell_type": "code",
   "execution_count": null,
   "id": "c2351b08",
   "metadata": {},
   "outputs": [],
   "source": [
    "# Definition of custom database with manula addition of the species (and their name, tags, ect)\n",
    "db = Database()\n",
    "db.addSpecies( Species(\"H2O(aq)\") )\n",
    "db.addSpecies( Species(\"H+\") )\n",
    "db.addSpecies( Species(\"OH-\") )\n",
    "db.addSpecies( Species(\"H2(aq)\") )\n",
    "db.addSpecies( Species(\"O2(aq)\") )\n",
    "db.addSpecies( Species(\"Na+\") )\n",
    "db.addSpecies( Species(\"Cl-\") )\n",
    "db.addSpecies( Species(\"NaCl(aq)\") )\n",
    "db.addSpecies( Species(\"HCl(aq)\") )\n",
    "db.addSpecies( Species(\"NaOH(aq)\") )\n",
    "db.addSpecies( Species(\"Ca++\") )\n",
    "db.addSpecies( Species(\"Mg++\") )\n",
    "db.addSpecies( Species(\"CO2(aq)\") )\n",
    "db.addSpecies( Species(\"HCO3-\") )\n",
    "db.addSpecies( Species(\"CO3--\") )\n",
    "db.addSpecies( Species(\"CaCl2(aq)\") )\n",
    "db.addSpecies( Species(\"MgCl2(aq)\") )\n",
    "db.addSpecies( Species(\"SiO2(aq)\") )\n",
    "db.addSpecies( Species(\"NaCl(s)\").withName(\"Halite\") )\n",
    "db.addSpecies( Species(\"SiO2(s)\").withName(\"Quartz\") )\n",
    "db.addSpecies( Species(\"CO2(g)\") )\n",
    "db.addSpecies( Species(\"O2(g)\") )\n",
    "db.addSpecies( Species(\"H2(g)\") )\n",
    "db.addSpecies( Species(\"H2O(g)\") )\n",
    "db.addSpecies( Species(\"CH4(g)\") )\n",
    "db.addSpecies( Species(\"CO(g)\") )\n",
    "db.addSpecies( Species(\"CaCO3(s)\").withName(\"Calcite\").withTags(\"carbonate\") )\n",
    "db.addSpecies( Species(\"MgCO3(s)\").withName(\"Magnesite\").withTags(\"carbonate\") )\n",
    "db.addSpecies( Species(\"CaMg(CO3)2(s)\").withName(\"Dolomite\").withTags(\"carbonate\") )\n",
    "db.addSpecies( Species(\"C(s)\").withName(\"Graphite\") )\n",
    "db.addSpecies( Species(\"CaO(s)\").withName(\"Lime\") )\n",
    "db.addSpecies( Species(\"N2(g)\").withTags(\"inert\") )\n",
    "db.addSpecies( Species(\"C4H9OH\").withTags(\"organic\").withName(\"1-Butanol(aq)\") )\n",
    "db.addSpecies( Species(\"C4H8\").withTags(\"organic\").withName(\"1-Butene(aq)\") )\n",
    "db.addSpecies( Species(\"BaSO4(s)\").withName(\"Barite\").withTags(\"sulfate\") )\n",
    "db.addSpecies( Species(\"SrSO4(s)\").withName(\"Celestite\").withTags(\"sulfate\") )\n",
    "db.addSpecies( Species(\"PbSO4(s)\").withName(\"Anglesite\").withTags(\"sulfate\") )\n",
    "db.addSpecies( Species(\"CaSO4(s)\").withName(\"Anhydrite\").withTags(\"sulfate\") )"
   ]
  },
  {
   "cell_type": "code",
   "execution_count": null,
   "id": "b7c5bc19",
   "metadata": {},
   "outputs": [],
   "source": [
    "print(\"# -----------------------------------------------------------------------------------------------------------------\")\n",
    "print(\"# Illustrate how select all the aqueous species with provided elements from database\")\n",
    "print(\"# -----------------------------------------------------------------------------------------------------------------\")"
   ]
  },
  {
   "cell_type": "code",
   "execution_count": null,
   "id": "c8ea9daf",
   "metadata": {},
   "outputs": [],
   "source": [
    "# Define phases containing aqueous and gaseous species\n",
    "phases = Phases(db)\n",
    "phases.add( AqueousPhase(speciate(\"H O C Na Cl\")) )\n",
    "phases.add( GaseousPhase(\"CO2(g)\") )"
   ]
  },
  {
   "cell_type": "code",
   "execution_count": null,
   "id": "5244cf02",
   "metadata": {},
   "outputs": [],
   "source": [
    "# Print species contained in these phases\n",
    "phases = phases.convert()\n",
    "printSpeciesInPhase(phases[0])\n",
    "printSpeciesInPhase(phases[1])"
   ]
  },
  {
   "cell_type": "code",
   "execution_count": null,
   "id": "98de116c",
   "metadata": {},
   "outputs": [],
   "source": [
    "print(\"# -----------------------------------------------------------------------------------------------------------------\")\n",
    "print(\"# Illustrate how to exclude aqueous species with a given tag\")\n",
    "print(\"# -----------------------------------------------------------------------------------------------------------------\")"
   ]
  },
  {
   "cell_type": "code",
   "execution_count": null,
   "id": "ec0d944a",
   "metadata": {},
   "outputs": [],
   "source": [
    "phases = Phases(db)\n",
    "phases.add( AqueousPhase(speciate(\"H O C Na Cl\"), exclude(\"organic\")) )\n",
    "phases.add( GaseousPhase(\"CO2(g)\") )"
   ]
  },
  {
   "cell_type": "code",
   "execution_count": null,
   "id": "7c971715",
   "metadata": {},
   "outputs": [],
   "source": [
    "phases = phases.convert()\n",
    "printSpeciesInPhase(phases[0])\n",
    "printSpeciesInPhase(phases[1])"
   ]
  },
  {
   "cell_type": "code",
   "execution_count": null,
   "id": "b6a5f9a1",
   "metadata": {},
   "outputs": [],
   "source": [
    "print(\"# -----------------------------------------------------------------------------------------------------------------\")\n",
    "print(\"# Illustrate how to exclude aqueous species and minerals with given tags\")\n",
    "print(\"# -----------------------------------------------------------------------------------------------------------------\")"
   ]
  },
  {
   "cell_type": "code",
   "execution_count": null,
   "id": "8f6f4810",
   "metadata": {},
   "outputs": [],
   "source": [
    "phases = Phases(db)\n",
    "phases.add( AqueousPhase(speciate(\"H O\"), exclude(\"organic\")))\n",
    "phases.add( MineralPhases(speciate(\"C Ca O\"), exclude(\"carbonate\")) )"
   ]
  },
  {
   "cell_type": "code",
   "execution_count": null,
   "id": "ef74da7b",
   "metadata": {},
   "outputs": [],
   "source": [
    "phases = phases.convert()\n",
    "printSpeciesInPhase(phases[0])\n",
    "printSpeciesInPhase(phases[1])\n",
    "printSpeciesInPhase(phases[2])"
   ]
  },
  {
   "cell_type": "code",
   "execution_count": null,
   "id": "ead872a3",
   "metadata": {},
   "outputs": [],
   "source": [
    "print(\"# -----------------------------------------------------------------------------------------------------------------\")\n",
    "print(\"# Illustrate how to exclude aqueous and gaseous species as well as minerals with given tags\")\n",
    "print(\"# -----------------------------------------------------------------------------------------------------------------\")"
   ]
  },
  {
   "cell_type": "code",
   "execution_count": null,
   "id": "00c7f6e8",
   "metadata": {},
   "outputs": [],
   "source": [
    "phases = Phases(db)\n",
    "phases.add( AqueousPhase(speciate(\"H O C Na Cl\"), exclude(\"organic\")) )\n",
    "phases.add( GaseousPhase(exclude(\"inert\")) )\n",
    "phases.add( MineralPhases(exclude(\"carbonate\")) )"
   ]
  },
  {
   "cell_type": "code",
   "execution_count": null,
   "id": "fbd709b8",
   "metadata": {},
   "outputs": [],
   "source": [
    "phases = phases.convert()\n",
    "printSpeciesInPhase(phases[0])\n",
    "printSpeciesInPhase(phases[1])\n",
    "printSpeciesInPhase(phases[2])\n",
    "printSpeciesInPhase(phases[3])"
   ]
  }
 ],
 "metadata": {
  "jupytext": {
   "cell_metadata_filter": "-all",
   "encoding": "# -*- coding: utf-8 -*-",
   "formats": "notebooks//ipynb,py:light",
   "main_language": "python"
  }
 },
 "nbformat": 4,
 "nbformat_minor": 5
}
