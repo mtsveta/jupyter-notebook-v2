{
 "cells": [
  {
   "cell_type": "code",
   "execution_count": null,
   "id": "b8fd39ef",
   "metadata": {},
   "outputs": [],
   "source": [
    "from reaktoro import *\n",
    "import numpy as np\n",
    "import os"
   ]
  },
  {
   "cell_type": "code",
   "execution_count": null,
   "id": "ffcbd1b8",
   "metadata": {},
   "outputs": [],
   "source": [
    "results_folder = 'results-phrqc2-pressure-fixed-different-ppCO2'\n",
    "os.system('mkdir -p ' + results_folder)"
   ]
  },
  {
   "cell_type": "code",
   "execution_count": null,
   "id": "75701ad8",
   "metadata": {},
   "outputs": [],
   "source": [
    "db = PhreeqcDatabase.fromFile('databases/phreeqc-toner-catling.dat') # if running from tutorials folder"
   ]
  },
  {
   "cell_type": "markdown",
   "id": "cac61945",
   "metadata": {},
   "source": [
    "print(\"Database content:\\n---------------------\")\n",
    "for species in db.species():\n",
    "    print(species.name())"
   ]
  },
  {
   "cell_type": "code",
   "execution_count": null,
   "id": "30e53536",
   "metadata": {},
   "outputs": [],
   "source": [
    "solution = AqueousPhase(speciate(\"H O C Na Cl\"))\n",
    "solution.setActivityModel(chain(\n",
    "    ActivityModelHKF(),\n",
    "    ActivityModelDrummond(\"CO2\")\n",
    "))"
   ]
  },
  {
   "cell_type": "code",
   "execution_count": null,
   "id": "57bff31e",
   "metadata": {},
   "outputs": [],
   "source": [
    "gases = GaseousPhase(\"CO2(g)\")\n",
    "gases.setActivityModel(ActivityModelPengRobinson())"
   ]
  },
  {
   "cell_type": "code",
   "execution_count": null,
   "id": "cd3a1b2a",
   "metadata": {},
   "outputs": [],
   "source": [
    "minerals = MineralPhases(\"Natron Nahcolite Trona Na2CO3:H2O Na2CO3:7H2O\")"
   ]
  },
  {
   "cell_type": "code",
   "execution_count": null,
   "id": "8db496eb",
   "metadata": {},
   "outputs": [],
   "source": [
    "system = ChemicalSystem(db, solution, minerals, gases)\n",
    "# print(\"Chemical system content:\\n---------------------\")\n",
    "# for species in db.species():\n",
    "#     print(species.name())"
   ]
  },
  {
   "cell_type": "code",
   "execution_count": null,
   "id": "99618ddd",
   "metadata": {},
   "outputs": [],
   "source": [
    "props = ChemicalProps(system)\n",
    "aprops = AqueousProps(system)"
   ]
  },
  {
   "cell_type": "code",
   "execution_count": null,
   "id": "8fe340ca",
   "metadata": {},
   "outputs": [],
   "source": [
    "specs = EquilibriumSpecs(system)\n",
    "specs.temperature()\n",
    "specs.pressure()"
   ]
  },
  {
   "cell_type": "code",
   "execution_count": null,
   "id": "517dd488",
   "metadata": {},
   "outputs": [],
   "source": [
    "solver = EquilibriumSolver(specs)"
   ]
  },
  {
   "cell_type": "code",
   "execution_count": null,
   "id": "02c23876",
   "metadata": {},
   "outputs": [],
   "source": [
    "opts = EquilibriumOptions()\n",
    "opts.epsilon = 1e-13\n",
    "solver.setOptions(opts)"
   ]
  },
  {
   "cell_type": "code",
   "execution_count": null,
   "id": "6de38ddc",
   "metadata": {
    "lines_to_next_cell": 1
   },
   "outputs": [],
   "source": [
    "conditions = EquilibriumConditions(specs)"
   ]
  },
  {
   "cell_type": "code",
   "execution_count": null,
   "id": "3917e2ce",
   "metadata": {
    "lines_to_next_cell": 1
   },
   "outputs": [],
   "source": [
    "def equilibrate(ppCO2, T):\n",
    "\n",
    "    conditions.temperature(T, \"celsius\")\n",
    "    conditions.pressure(10**(ppCO2), \"atm\")\n",
    "\n",
    "    state = ChemicalState(system)\n",
    "    state.temperature(T, \"celsius\")\n",
    "    state.set(\"H2O\", 1.0, \"kg\")\n",
    "    state.set(\"Nahcolite\", 10.00, \"mol\")\n",
    "    state.set(\"Natron\", 0.00, \"mol\")\n",
    "    state.set(\"Trona\", 0.00, \"mol\")\n",
    "    state.set(\"Na2CO3:H2O\", 0.00, \"mol\")\n",
    "    state.set(\"Na2CO3:7H2O\", 0.00, \"mol\")\n",
    "    state.set(\"CO2(g)\", 100, \"mol\")\n",
    "\n",
    "    res = solver.solve(state, conditions)\n",
    "\n",
    "    props.update(state)\n",
    "    aprops.update(state)\n",
    "    ph = aprops.pH()[0]\n",
    "\n",
    "    mCO3 = state.speciesAmount(\"CO3-2\")[0]\n",
    "    mHCO3 = state.speciesAmount(\"HCO3-\")[0]\n",
    "\n",
    "    return ph, mCO3, mHCO3"
   ]
  },
  {
   "cell_type": "code",
   "execution_count": null,
   "id": "48d6c4f5",
   "metadata": {},
   "outputs": [],
   "source": [
    "num_ppco2s = 8\n",
    "co2ppressures = np.flip(np.linspace(-5.0, 2.0, num=num_ppco2s))"
   ]
  },
  {
   "cell_type": "code",
   "execution_count": null,
   "id": "201ddc61",
   "metadata": {},
   "outputs": [],
   "source": [
    "data_size = 3\n",
    "data50 = np.zeros((num_ppco2s, data_size+1))\n",
    "data25 = np.zeros((num_ppco2s, data_size+1))\n",
    "data0 = np.zeros((num_ppco2s, data_size+1))"
   ]
  },
  {
   "cell_type": "code",
   "execution_count": null,
   "id": "597d247b",
   "metadata": {},
   "outputs": [],
   "source": [
    "for i in range(0, num_ppco2s):\n",
    "    result = equilibrate(co2ppressures[i], 0)\n",
    "    data0[i, 0] = co2ppressures[i]\n",
    "    data0[i, 1] = result[0]\n",
    "    data0[i, 2] = result[1]\n",
    "    data0[i, 3] = result[2]\n",
    "\n",
    "    result = equilibrate(co2ppressures[i], 25)\n",
    "    data25[i, 0] = co2ppressures[i]\n",
    "    data25[i, 1] = result[0]\n",
    "    data25[i, 2] = result[1]\n",
    "    data25[i, 3] = result[2]\n",
    "\n",
    "    result = equilibrate(co2ppressures[i], 50)\n",
    "    data50[i, 0] = co2ppressures[i]\n",
    "    data50[i, 1] = result[0]\n",
    "    data50[i, 2] = result[1]\n",
    "    data50[i, 3] = result[2]"
   ]
  },
  {
   "cell_type": "code",
   "execution_count": null,
   "id": "7bb70b30",
   "metadata": {},
   "outputs": [],
   "source": [
    "np.savetxt(results_folder + '/m-data25.txt', data25)\n",
    "np.savetxt(results_folder + '/m-data0.txt', data0)\n",
    "np.savetxt(results_folder + '/m-data50.txt', data50)"
   ]
  },
  {
   "cell_type": "code",
   "execution_count": null,
   "id": "b5a4e645",
   "metadata": {},
   "outputs": [],
   "source": [
    "import matplotlib.pyplot as plt\n",
    "colors = ['C1', 'C2', 'C3', 'C4', 'C5', 'C7', 'C8', 'C9']"
   ]
  },
  {
   "cell_type": "code",
   "execution_count": null,
   "id": "24ef6afe",
   "metadata": {},
   "outputs": [],
   "source": [
    "plt.figure()\n",
    "plt.plot(data0[:, 0], data0[:, 1], label=f'0 C', color=colors[1])\n",
    "plt.plot(data0[:, 0], data25[:, 1], label=f'25 C', color=colors[2])\n",
    "plt.plot(data0[:, 0], data50[:, 1], label=f'50 C', color=colors[3])\n",
    "plt.legend(loc=\"best\")\n",
    "plt.xlabel('ppCO2')\n",
    "plt.ylabel('pH [-]')\n",
    "plt.grid()\n",
    "plt.savefig(results_folder + '/' + 'pH-vs-ppCO2.png', bbox_inches='tight')\n",
    "plt.close()"
   ]
  },
  {
   "cell_type": "code",
   "execution_count": null,
   "id": "352abbba",
   "metadata": {},
   "outputs": [],
   "source": [
    "plt.figure()\n",
    "plt.plot(data0[:, 0], data0[:, 2], label=f'0 C', color=colors[1])\n",
    "plt.plot(data0[:, 0], data25[:, 2], label=f'25 C', color=colors[2])\n",
    "plt.plot(data0[:, 0], data50[:, 2], label=f'50 C', color=colors[3])\n",
    "plt.legend(loc=\"best\")\n",
    "plt.xlabel('ppCO2')\n",
    "plt.ylabel('Amount of CO3-2 [mol]')\n",
    "plt.grid()\n",
    "plt.savefig(results_folder + '/' + 'mCO32-vs-ppCO2.png', bbox_inches='tight')\n",
    "plt.close()"
   ]
  },
  {
   "cell_type": "code",
   "execution_count": null,
   "id": "56ff59d4",
   "metadata": {},
   "outputs": [],
   "source": [
    "plt.figure()\n",
    "plt.plot(data0[:, 0], data0[:, 3], label=f'0 C', color=colors[1])\n",
    "plt.plot(data0[:, 0], data25[:, 3], label=f'25 C', color=colors[2])\n",
    "plt.plot(data0[:, 0], data50[:, 3], label=f'50 C', color=colors[3])\n",
    "plt.legend(loc=\"best\")\n",
    "plt.xlabel('ppCO2')\n",
    "plt.ylabel('Amount of HCO3- [mol]')\n",
    "plt.grid()\n",
    "plt.savefig(results_folder + '/' + 'mHCO3-vs-ppCO2.png', bbox_inches='tight')\n",
    "plt.close()"
   ]
  },
  {
   "cell_type": "markdown",
   "id": "d9d6837d",
   "metadata": {},
   "source": [
    "#\n",
    "Comparison to PHREEQC output\n",
    "#"
   ]
  },
  {
   "cell_type": "code",
   "execution_count": null,
   "id": "937ddb69",
   "metadata": {},
   "outputs": [],
   "source": [
    "dataPHREEQC = np.loadtxt(results_folder + '/Phrqc2.sel', skiprows=2)"
   ]
  },
  {
   "cell_type": "code",
   "execution_count": null,
   "id": "fc5d4b4c",
   "metadata": {},
   "outputs": [],
   "source": [
    "plt.figure()\n",
    "plt.plot(dataPHREEQC[:, 3], dataPHREEQC[:, 0], label=f'pH', color=colors[1])\n",
    "plt.legend(loc=\"best\")\n",
    "plt.xlabel('ppCO2')\n",
    "plt.ylabel('pH [-]')\n",
    "plt.grid()\n",
    "plt.savefig(results_folder + '/' + 'pH-vs-ppCO2-phreeqc.png', bbox_inches='tight')\n",
    "plt.close()"
   ]
  },
  {
   "cell_type": "code",
   "execution_count": null,
   "id": "111cefe7",
   "metadata": {},
   "outputs": [],
   "source": [
    "plt.figure()\n",
    "plt.plot(dataPHREEQC[:, 3], dataPHREEQC[:, 2], label=f'HCO3', color=colors[1])\n",
    "plt.legend(loc=\"best\")\n",
    "plt.xlabel('ppCO2')\n",
    "plt.ylabel('HCO3 [mol]')\n",
    "plt.grid()\n",
    "plt.savefig(results_folder + '/' + 'HCO3-vs-ppCO2-phreeqc.png', bbox_inches='tight')\n",
    "plt.close()"
   ]
  },
  {
   "cell_type": "code",
   "execution_count": null,
   "id": "e5ee079b",
   "metadata": {
    "lines_to_next_cell": 1
   },
   "outputs": [],
   "source": [
    "plt.figure()\n",
    "plt.plot(dataPHREEQC[:, 3], dataPHREEQC[:, 1], label=f'CO3-2', color=colors[1])\n",
    "plt.legend(loc=\"best\")\n",
    "plt.xlabel('ppCO2')\n",
    "plt.ylabel('CO3-2 [mol]')\n",
    "plt.grid()\n",
    "plt.savefig(results_folder + '/' + 'CO3-vs-ppCO2-phreeqc.png', bbox_inches='tight')\n",
    "plt.close()"
   ]
  },
  {
   "cell_type": "code",
   "execution_count": null,
   "id": "c1bbeb7c",
   "metadata": {
    "lines_to_next_cell": 1
   },
   "outputs": [],
   "source": [
    "# comparison plots\n",
    "def line_filled_marker(color):\n",
    "    return {'color': color, 'markersize': 6, 'markeredgewidth': 1.5 }"
   ]
  },
  {
   "cell_type": "code",
   "execution_count": null,
   "id": "1e9f30f5",
   "metadata": {},
   "outputs": [],
   "source": [
    "plt.figure()\n",
    "plt.plot(data0[:, 0], data25[:, 1], label=f'Reaktoro', color=colors[2])\n",
    "plt.plot(dataPHREEQC[0:-1:2, 3], dataPHREEQC[0:-1:2, 0], 'D', **line_filled_marker(colors[2]))\n",
    "plt.plot([], [], 'D', label='PHREEQC', **line_filled_marker(colors[2]))\n",
    "plt.legend(loc=\"best\")\n",
    "plt.xlabel('ppCO2')\n",
    "plt.ylabel(f'pH [-]')\n",
    "plt.title(f'pH at 25 C')\n",
    "plt.grid()\n",
    "plt.savefig(results_folder + '/' + 'reaktoro-phreeqc-pH-vs-ppC02.png', bbox_inches='tight')\n",
    "plt.close('all')"
   ]
  },
  {
   "cell_type": "code",
   "execution_count": null,
   "id": "9976678c",
   "metadata": {},
   "outputs": [],
   "source": [
    "plt.figure()\n",
    "plt.plot(data0[:, 0], data25[:, 2], label=f'Reaktoro', color=colors[4])\n",
    "plt.plot(dataPHREEQC[0:-1:2, 3], dataPHREEQC[0:-1:2, 1], 'D', **line_filled_marker(colors[4]))\n",
    "plt.plot([], [], 'D', label='PHREEQC', **line_filled_marker(colors[4]))\n",
    "plt.legend(loc=\"best\")\n",
    "plt.xlabel('ppCO2')\n",
    "plt.ylabel(f'CO3-2 [mol]')\n",
    "plt.title(f'Amount of CO3-2 at 25 C')\n",
    "plt.grid()\n",
    "plt.savefig(results_folder + '/' + 'reaktoro-phreeqc-CO3-vs-ppC02.png', bbox_inches='tight')\n",
    "plt.close('all')"
   ]
  },
  {
   "cell_type": "code",
   "execution_count": null,
   "id": "be9c29ba",
   "metadata": {},
   "outputs": [],
   "source": [
    "plt.figure()\n",
    "plt.plot(data0[:, 0], data25[:, 3], label=f'Reaktoro', color=colors[6])\n",
    "plt.plot(dataPHREEQC[0:-1:2, 3], dataPHREEQC[0:-1:2, 2], 'D', **line_filled_marker(colors[6]))\n",
    "plt.plot([], [], 'D', label='PHREEQC', **line_filled_marker(colors[6]))\n",
    "plt.legend(loc=\"best\")\n",
    "plt.xlabel('ppCO2')\n",
    "plt.ylabel(f'HCO3- [mol]')\n",
    "plt.title(f'Amount of HCO3- at 25 C')\n",
    "plt.grid()\n",
    "plt.savefig(results_folder + '/' + 'reaktoro-phreeqc-HCO3-vs-ppC02.png', bbox_inches='tight')\n",
    "plt.close('all')"
   ]
  },
  {
   "cell_type": "code",
   "execution_count": null,
   "id": "7cb0555e",
   "metadata": {},
   "outputs": [],
   "source": []
  }
 ],
 "metadata": {
  "jupytext": {
   "cell_metadata_filter": "-all",
   "formats": "notebooks//ipynb,py:light",
   "main_language": "python"
  }
 },
 "nbformat": 4,
 "nbformat_minor": 5
}
