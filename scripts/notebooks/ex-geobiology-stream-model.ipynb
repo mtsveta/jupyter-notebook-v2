{
 "cells": [
  {
   "cell_type": "code",
   "execution_count": null,
   "id": "ff51c467",
   "metadata": {},
   "outputs": [],
   "source": [
    "from reaktoro import *\n",
    "import numpy as np\n",
    "import os"
   ]
  },
  {
   "cell_type": "code",
   "execution_count": null,
   "id": "45a92e0d",
   "metadata": {},
   "outputs": [],
   "source": [
    "results_folder = 'results-stream-model'\n",
    "os.system('mkdir -p ' + results_folder)"
   ]
  },
  {
   "cell_type": "code",
   "execution_count": null,
   "id": "e7b1d911",
   "metadata": {},
   "outputs": [],
   "source": [
    "db = PhreeqcDatabase.fromFile('../databases/phreeqc-extended.dat') # if running from tutorials folder"
   ]
  },
  {
   "cell_type": "code",
   "execution_count": null,
   "id": "dc443017",
   "metadata": {},
   "outputs": [],
   "source": [
    "print(\"Database content:\\n---------------------\")\n",
    "for species in db.species():\n",
    "    print(species.name())"
   ]
  },
  {
   "cell_type": "code",
   "execution_count": null,
   "id": "28588707",
   "metadata": {},
   "outputs": [],
   "source": [
    "solution = AqueousPhase(speciate(\"H O C Na Cl P\"))\n",
    "solution.setActivityModel(chain(\n",
    "    ActivityModelHKF(),\n",
    "    ActivityModelDrummond(\"CO2\")\n",
    "))"
   ]
  },
  {
   "cell_type": "code",
   "execution_count": null,
   "id": "14862b55",
   "metadata": {},
   "outputs": [],
   "source": [
    "gases = GaseousPhase(\"CO2(g)\")\n",
    "gases.setActivityModel(ActivityModelPengRobinson())"
   ]
  },
  {
   "cell_type": "code",
   "execution_count": null,
   "id": "caf4fcb4",
   "metadata": {},
   "outputs": [],
   "source": [
    "minerals = MineralPhases(\"Fluorapatite Hydroxylapatite Calcite\")"
   ]
  },
  {
   "cell_type": "code",
   "execution_count": null,
   "id": "d14436b4",
   "metadata": {},
   "outputs": [],
   "source": [
    "system = ChemicalSystem(db, solution, gases, minerals)"
   ]
  },
  {
   "cell_type": "code",
   "execution_count": null,
   "id": "ee386864",
   "metadata": {},
   "outputs": [],
   "source": [
    "print(\"System content:\\n---------------------\")\n",
    "for species in db.species():\n",
    "    print(species.name())"
   ]
  },
  {
   "cell_type": "code",
   "execution_count": null,
   "id": "aa096468",
   "metadata": {},
   "outputs": [],
   "source": [
    "solver = EquilibriumSolver(system)"
   ]
  },
  {
   "cell_type": "code",
   "execution_count": null,
   "id": "63fc6cc5",
   "metadata": {
    "lines_to_next_cell": 1
   },
   "outputs": [],
   "source": [
    "props = ChemicalProps(system)\n",
    "aprops = AqueousProps(system)"
   ]
  },
  {
   "cell_type": "code",
   "execution_count": null,
   "id": "b921926e",
   "metadata": {
    "lines_to_next_cell": 1
   },
   "outputs": [],
   "source": [
    "def convertPPCO2Bar(ppCO2):\n",
    "    return 10**ppCO2 # log10(P) = ppCO2"
   ]
  },
  {
   "cell_type": "code",
   "execution_count": null,
   "id": "0303c88d",
   "metadata": {},
   "outputs": [],
   "source": [
    "def equilibrate(T, ppCO2):\n",
    "\n",
    "    P = convertPPCO2Bar(ppCO2)\n",
    "    state = ChemicalState(system)\n",
    "    state.temperature(T, \"celsius\")\n",
    "    state.pressure(P, \"atm\")\n",
    "    state.setSpeciesMass(\"H2O\"     , 1.0 , \"kg\")\n",
    "    state.setSpeciesAmount(\"CO2(g)\", 100.0, \"mmol\")\n",
    "    state.setSpeciesAmount(\"Na+\"   , 4.00, \"mmol\")\n",
    "    state.setSpeciesAmount(\"Cl-\"   , 4.00, \"mmol\")\n",
    "    state.setSpeciesAmount(\"Calcite\"        , 10.00, \"mmol\")\n",
    "    state.setSpeciesAmount(\"Fluorapatite\"   , 10.00, \"mmol\")\n",
    "    state.setSpeciesAmount(\"Hydroxylapatite\", 10.00, \"mmol\")\n",
    "\n",
    "    solver.solve(state)\n",
    "\n",
    "    props.update(state)\n",
    "    aprops.update(state)\n",
    "\n",
    "    # PO4 - 3\n",
    "    # H2PO4 -\n",
    "    # CaH2PO4 +\n",
    "    # CaHCO3 +\n",
    "    # HPO4 - 2\n",
    "\n",
    "    mPO4 = state.speciesAmount(\"HPO4-2\")[0]\n",
    "\n",
    "    return mPO4"
   ]
  },
  {
   "cell_type": "code",
   "execution_count": null,
   "id": "6526fb06",
   "metadata": {},
   "outputs": [],
   "source": [
    "num_temperatures = 11 #101\n",
    "num_co2s = 5 #106\n",
    "temperatures = np.flip(np.linspace(0, 50.0, num=num_temperatures))\n",
    "co2ppressures = np.linspace(-4.1, 0.0, num=num_co2s)"
   ]
  },
  {
   "cell_type": "code",
   "execution_count": null,
   "id": "6e98dfa7",
   "metadata": {},
   "outputs": [],
   "source": [
    "mols_PO4 = np.zeros((num_co2s, num_temperatures))"
   ]
  },
  {
   "cell_type": "code",
   "execution_count": null,
   "id": "89f2997a",
   "metadata": {},
   "outputs": [],
   "source": [
    "print(temperatures)\n",
    "print(co2ppressures)"
   ]
  },
  {
   "cell_type": "code",
   "execution_count": null,
   "id": "1439a5f4",
   "metadata": {},
   "outputs": [],
   "source": [
    "p_couter = 0\n",
    "for ppCO2 in co2ppressures:\n",
    "    mols_PO4[p_couter, :] = np.array([equilibrate(T, ppCO2) for T in temperatures])\n",
    "    p_couter += 1"
   ]
  },
  {
   "cell_type": "code",
   "execution_count": null,
   "id": "96c19a72",
   "metadata": {
    "lines_to_next_cell": 2
   },
   "outputs": [],
   "source": [
    "np.savetxt(results_folder + '/m-PO4.txt', mols_PO4)"
   ]
  }
 ],
 "metadata": {
  "jupytext": {
   "cell_metadata_filter": "-all",
   "formats": "notebooks//ipynb,py:light",
   "main_language": "python"
  }
 },
 "nbformat": 4,
 "nbformat_minor": 5
}
